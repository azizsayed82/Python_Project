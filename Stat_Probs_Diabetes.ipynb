{
 "cells": [
  {
   "cell_type": "code",
   "execution_count": 3,
   "id": "10d43a24",
   "metadata": {},
   "outputs": [],
   "source": [
    "# Importing Pandas, Numpy, Matplotlib and Seaborn Library\n",
    "import pandas as pd # Pandas for Python data analysis\n",
    "import numpy as np # Numpy for Python numerical data\n",
    "import matplotlib.pyplot as plt # Matplotlib for visualization data\n",
    "import seaborn as sns# Seaborn for Visualization data\n",
    "import warnings # it is used to remove the warnings\n",
    "warnings.filterwarnings(\"ignore\")"
   ]
  },
  {
   "cell_type": "markdown",
   "id": "632d8620",
   "metadata": {},
   "source": [
    "# Reading the file from the folder [Import data]"
   ]
  },
  {
   "cell_type": "code",
   "execution_count": 4,
   "id": "fa3619f5",
   "metadata": {},
   "outputs": [],
   "source": [
    "df=pd.read_csv(\"diabetes_012_health_indicators_BRFSS2015.csv\") # .csv stands for comma seperated values"
   ]
  },
  {
   "cell_type": "markdown",
   "id": "501ba270",
   "metadata": {},
   "source": [
    "# Data Info\n",
    "\n",
    "#Diabetes_012\n",
    "0 = no diabetes 1 = prediabetes 2 = diabetes\n",
    "\n",
    "#HighBP\n",
    "0 = no high BP 1 = high BP\n",
    "\n",
    "#HighChol\n",
    "0 = no high cholesterol 1 = high cholesterol\n",
    "\n",
    "#CholCheck\n",
    "0 = no cholesterol check in 5 years 1 = yes cholesterol check in 5 years\n",
    "\n",
    "#BMI\n",
    "Body Mass Index\n",
    "BMI ranges\n",
    "below 18.5 – you're in the underweight range. \n",
    "between 18.5 and 24.9 – you're in the healthy weight range. \n",
    "between 25 and 29.9 – you're in the overweight range. \n",
    "30 or over – you're in the obese range.\n",
    "\n",
    "#Smoker\n",
    "Have you smoked at least 100 cigarettes in your entire life? [Note: 5 packs = 100 cigarettes] 0 = no 1 = yes\n",
    "\n",
    "#Stroke\n",
    "(Ever told) you had a stroke. 0 = no 1 = yes\n",
    "\n",
    "#HeartDiseaseorAttack\n",
    "coronary heart disease (CHD) or myocardial infarction (MI) 0 = no 1 = yes\n",
    "\n",
    "#PhysActivity\n",
    "physical activity in past 30 days - not including job 0 = no 1 = yes\n",
    "\n",
    "#Fruits\n",
    "Consume Fruit 1 or more times per day 0 = no 1 = yes\n",
    "\n",
    "#Veggies\n",
    "Consume Vegetables 1 or more times per day 0 = no 1 = yes\n",
    "\n",
    "#HvyAlcoholConsump\n",
    "Heavy drinkers (adult men having more than 14 drinks per week and adult women having more than 7 drinks per week) 0 = no\n",
    "\n",
    "#AnyHealthcare\n",
    "Have any kind of health care coverage, including health insurance, prepaid plans such as HMO, etc. 0 = no 1 = yes\n",
    "\n",
    "#NoDocbcCost\n",
    "Was there a time in the past 12 months when you needed to see a doctor but could not because of cost? 0 = no 1 = yes\n",
    "\n",
    "#GenHlth\n",
    "Would you say that in general your health is: scale 1-5 1 = excellent 2 = very good 3 = good 4 = fair 5 = poor\n",
    "\n",
    "#MentHlth\n",
    "Now thinking about your mental health, which includes stress, depression, and problems with emotions, for how many days during the past 30 days was your mental health not good? scale 1-30 days\n",
    "\n",
    "#PhysHlth\n",
    "Now thinking about your physical health, which includes physical illness and injury, for how many days during the past 30 days was your physical health not good? scale 1-30 days\n",
    "\n",
    "#DiffWalk\n",
    "Do you have serious difficulty walking or climbing stairs? 0 = no 1 = yes\n",
    "\n",
    "#Sex\n",
    "0 = female 1 = male\n",
    "\n",
    "#Age\n",
    "13-level age category (_AGEG5YR see codebook) 1 = 18-24 9 = 60-64 13 = 80 or older\n",
    "\n",
    "#Education\n",
    "Education level (EDUCA see codebook) scale 1-6: 1 = Never attended school or only kindergarten 2 = Grades 1 through 8 (Elementary) 3 = Grades 9 through 11 (Some high school) 4 = Grade 12 or GED (High school graduate) 5 = College 1 year to 3 years (Some college or technical school) 6 = College 4 years or more (College graduate)\n",
    "\n",
    "#Income\n",
    "Income scale (INCOME2 see codebook) scale 1-8: 1 = less than $10,000, 5 = less than $35,000, 8 = $75,000 or more"
   ]
  },
  {
   "cell_type": "code",
   "execution_count": 5,
   "id": "8c63b054",
   "metadata": {
    "scrolled": true
   },
   "outputs": [
    {
     "data": {
      "text/html": [
       "<div>\n",
       "<style scoped>\n",
       "    .dataframe tbody tr th:only-of-type {\n",
       "        vertical-align: middle;\n",
       "    }\n",
       "\n",
       "    .dataframe tbody tr th {\n",
       "        vertical-align: top;\n",
       "    }\n",
       "\n",
       "    .dataframe thead th {\n",
       "        text-align: right;\n",
       "    }\n",
       "</style>\n",
       "<table border=\"1\" class=\"dataframe\">\n",
       "  <thead>\n",
       "    <tr style=\"text-align: right;\">\n",
       "      <th></th>\n",
       "      <th>Diabetes_012</th>\n",
       "      <th>HighBP</th>\n",
       "      <th>HighChol</th>\n",
       "      <th>CholCheck</th>\n",
       "      <th>BMI</th>\n",
       "      <th>Smoker</th>\n",
       "      <th>Stroke</th>\n",
       "      <th>HeartDiseaseorAttack</th>\n",
       "      <th>PhysActivity</th>\n",
       "      <th>Fruits</th>\n",
       "      <th>...</th>\n",
       "      <th>AnyHealthcare</th>\n",
       "      <th>NoDocbcCost</th>\n",
       "      <th>GenHlth</th>\n",
       "      <th>MentHlth</th>\n",
       "      <th>PhysHlth</th>\n",
       "      <th>DiffWalk</th>\n",
       "      <th>Sex</th>\n",
       "      <th>Age</th>\n",
       "      <th>Education</th>\n",
       "      <th>Income</th>\n",
       "    </tr>\n",
       "  </thead>\n",
       "  <tbody>\n",
       "    <tr>\n",
       "      <th>0</th>\n",
       "      <td>0.0</td>\n",
       "      <td>1.0</td>\n",
       "      <td>1.0</td>\n",
       "      <td>1.0</td>\n",
       "      <td>40.0</td>\n",
       "      <td>1.0</td>\n",
       "      <td>0.0</td>\n",
       "      <td>0.0</td>\n",
       "      <td>0.0</td>\n",
       "      <td>0.0</td>\n",
       "      <td>...</td>\n",
       "      <td>1.0</td>\n",
       "      <td>0.0</td>\n",
       "      <td>5.0</td>\n",
       "      <td>18.0</td>\n",
       "      <td>15.0</td>\n",
       "      <td>1.0</td>\n",
       "      <td>0.0</td>\n",
       "      <td>9.0</td>\n",
       "      <td>4.0</td>\n",
       "      <td>3.0</td>\n",
       "    </tr>\n",
       "    <tr>\n",
       "      <th>1</th>\n",
       "      <td>0.0</td>\n",
       "      <td>0.0</td>\n",
       "      <td>0.0</td>\n",
       "      <td>0.0</td>\n",
       "      <td>25.0</td>\n",
       "      <td>1.0</td>\n",
       "      <td>0.0</td>\n",
       "      <td>0.0</td>\n",
       "      <td>1.0</td>\n",
       "      <td>0.0</td>\n",
       "      <td>...</td>\n",
       "      <td>0.0</td>\n",
       "      <td>1.0</td>\n",
       "      <td>3.0</td>\n",
       "      <td>0.0</td>\n",
       "      <td>0.0</td>\n",
       "      <td>0.0</td>\n",
       "      <td>0.0</td>\n",
       "      <td>7.0</td>\n",
       "      <td>6.0</td>\n",
       "      <td>1.0</td>\n",
       "    </tr>\n",
       "    <tr>\n",
       "      <th>2</th>\n",
       "      <td>0.0</td>\n",
       "      <td>1.0</td>\n",
       "      <td>1.0</td>\n",
       "      <td>1.0</td>\n",
       "      <td>28.0</td>\n",
       "      <td>0.0</td>\n",
       "      <td>0.0</td>\n",
       "      <td>0.0</td>\n",
       "      <td>0.0</td>\n",
       "      <td>1.0</td>\n",
       "      <td>...</td>\n",
       "      <td>1.0</td>\n",
       "      <td>1.0</td>\n",
       "      <td>5.0</td>\n",
       "      <td>30.0</td>\n",
       "      <td>30.0</td>\n",
       "      <td>1.0</td>\n",
       "      <td>0.0</td>\n",
       "      <td>9.0</td>\n",
       "      <td>4.0</td>\n",
       "      <td>8.0</td>\n",
       "    </tr>\n",
       "    <tr>\n",
       "      <th>3</th>\n",
       "      <td>0.0</td>\n",
       "      <td>1.0</td>\n",
       "      <td>0.0</td>\n",
       "      <td>1.0</td>\n",
       "      <td>27.0</td>\n",
       "      <td>0.0</td>\n",
       "      <td>0.0</td>\n",
       "      <td>0.0</td>\n",
       "      <td>1.0</td>\n",
       "      <td>1.0</td>\n",
       "      <td>...</td>\n",
       "      <td>1.0</td>\n",
       "      <td>0.0</td>\n",
       "      <td>2.0</td>\n",
       "      <td>0.0</td>\n",
       "      <td>0.0</td>\n",
       "      <td>0.0</td>\n",
       "      <td>0.0</td>\n",
       "      <td>11.0</td>\n",
       "      <td>3.0</td>\n",
       "      <td>6.0</td>\n",
       "    </tr>\n",
       "    <tr>\n",
       "      <th>4</th>\n",
       "      <td>0.0</td>\n",
       "      <td>1.0</td>\n",
       "      <td>1.0</td>\n",
       "      <td>1.0</td>\n",
       "      <td>24.0</td>\n",
       "      <td>0.0</td>\n",
       "      <td>0.0</td>\n",
       "      <td>0.0</td>\n",
       "      <td>1.0</td>\n",
       "      <td>1.0</td>\n",
       "      <td>...</td>\n",
       "      <td>1.0</td>\n",
       "      <td>0.0</td>\n",
       "      <td>2.0</td>\n",
       "      <td>3.0</td>\n",
       "      <td>0.0</td>\n",
       "      <td>0.0</td>\n",
       "      <td>0.0</td>\n",
       "      <td>11.0</td>\n",
       "      <td>5.0</td>\n",
       "      <td>4.0</td>\n",
       "    </tr>\n",
       "    <tr>\n",
       "      <th>...</th>\n",
       "      <td>...</td>\n",
       "      <td>...</td>\n",
       "      <td>...</td>\n",
       "      <td>...</td>\n",
       "      <td>...</td>\n",
       "      <td>...</td>\n",
       "      <td>...</td>\n",
       "      <td>...</td>\n",
       "      <td>...</td>\n",
       "      <td>...</td>\n",
       "      <td>...</td>\n",
       "      <td>...</td>\n",
       "      <td>...</td>\n",
       "      <td>...</td>\n",
       "      <td>...</td>\n",
       "      <td>...</td>\n",
       "      <td>...</td>\n",
       "      <td>...</td>\n",
       "      <td>...</td>\n",
       "      <td>...</td>\n",
       "      <td>...</td>\n",
       "    </tr>\n",
       "    <tr>\n",
       "      <th>253675</th>\n",
       "      <td>0.0</td>\n",
       "      <td>1.0</td>\n",
       "      <td>1.0</td>\n",
       "      <td>1.0</td>\n",
       "      <td>45.0</td>\n",
       "      <td>0.0</td>\n",
       "      <td>0.0</td>\n",
       "      <td>0.0</td>\n",
       "      <td>0.0</td>\n",
       "      <td>1.0</td>\n",
       "      <td>...</td>\n",
       "      <td>1.0</td>\n",
       "      <td>0.0</td>\n",
       "      <td>3.0</td>\n",
       "      <td>0.0</td>\n",
       "      <td>5.0</td>\n",
       "      <td>0.0</td>\n",
       "      <td>1.0</td>\n",
       "      <td>5.0</td>\n",
       "      <td>6.0</td>\n",
       "      <td>7.0</td>\n",
       "    </tr>\n",
       "    <tr>\n",
       "      <th>253676</th>\n",
       "      <td>2.0</td>\n",
       "      <td>1.0</td>\n",
       "      <td>1.0</td>\n",
       "      <td>1.0</td>\n",
       "      <td>18.0</td>\n",
       "      <td>0.0</td>\n",
       "      <td>0.0</td>\n",
       "      <td>0.0</td>\n",
       "      <td>0.0</td>\n",
       "      <td>0.0</td>\n",
       "      <td>...</td>\n",
       "      <td>1.0</td>\n",
       "      <td>0.0</td>\n",
       "      <td>4.0</td>\n",
       "      <td>0.0</td>\n",
       "      <td>0.0</td>\n",
       "      <td>1.0</td>\n",
       "      <td>0.0</td>\n",
       "      <td>11.0</td>\n",
       "      <td>2.0</td>\n",
       "      <td>4.0</td>\n",
       "    </tr>\n",
       "    <tr>\n",
       "      <th>253677</th>\n",
       "      <td>0.0</td>\n",
       "      <td>0.0</td>\n",
       "      <td>0.0</td>\n",
       "      <td>1.0</td>\n",
       "      <td>28.0</td>\n",
       "      <td>0.0</td>\n",
       "      <td>0.0</td>\n",
       "      <td>0.0</td>\n",
       "      <td>1.0</td>\n",
       "      <td>1.0</td>\n",
       "      <td>...</td>\n",
       "      <td>1.0</td>\n",
       "      <td>0.0</td>\n",
       "      <td>1.0</td>\n",
       "      <td>0.0</td>\n",
       "      <td>0.0</td>\n",
       "      <td>0.0</td>\n",
       "      <td>0.0</td>\n",
       "      <td>2.0</td>\n",
       "      <td>5.0</td>\n",
       "      <td>2.0</td>\n",
       "    </tr>\n",
       "    <tr>\n",
       "      <th>253678</th>\n",
       "      <td>0.0</td>\n",
       "      <td>1.0</td>\n",
       "      <td>0.0</td>\n",
       "      <td>1.0</td>\n",
       "      <td>23.0</td>\n",
       "      <td>0.0</td>\n",
       "      <td>0.0</td>\n",
       "      <td>0.0</td>\n",
       "      <td>0.0</td>\n",
       "      <td>1.0</td>\n",
       "      <td>...</td>\n",
       "      <td>1.0</td>\n",
       "      <td>0.0</td>\n",
       "      <td>3.0</td>\n",
       "      <td>0.0</td>\n",
       "      <td>0.0</td>\n",
       "      <td>0.0</td>\n",
       "      <td>1.0</td>\n",
       "      <td>7.0</td>\n",
       "      <td>5.0</td>\n",
       "      <td>1.0</td>\n",
       "    </tr>\n",
       "    <tr>\n",
       "      <th>253679</th>\n",
       "      <td>2.0</td>\n",
       "      <td>1.0</td>\n",
       "      <td>1.0</td>\n",
       "      <td>1.0</td>\n",
       "      <td>25.0</td>\n",
       "      <td>0.0</td>\n",
       "      <td>0.0</td>\n",
       "      <td>1.0</td>\n",
       "      <td>1.0</td>\n",
       "      <td>1.0</td>\n",
       "      <td>...</td>\n",
       "      <td>1.0</td>\n",
       "      <td>0.0</td>\n",
       "      <td>2.0</td>\n",
       "      <td>0.0</td>\n",
       "      <td>0.0</td>\n",
       "      <td>0.0</td>\n",
       "      <td>0.0</td>\n",
       "      <td>9.0</td>\n",
       "      <td>6.0</td>\n",
       "      <td>2.0</td>\n",
       "    </tr>\n",
       "  </tbody>\n",
       "</table>\n",
       "<p>253680 rows × 22 columns</p>\n",
       "</div>"
      ],
      "text/plain": [
       "        Diabetes_012  HighBP  HighChol  CholCheck   BMI  Smoker  Stroke  \\\n",
       "0                0.0     1.0       1.0        1.0  40.0     1.0     0.0   \n",
       "1                0.0     0.0       0.0        0.0  25.0     1.0     0.0   \n",
       "2                0.0     1.0       1.0        1.0  28.0     0.0     0.0   \n",
       "3                0.0     1.0       0.0        1.0  27.0     0.0     0.0   \n",
       "4                0.0     1.0       1.0        1.0  24.0     0.0     0.0   \n",
       "...              ...     ...       ...        ...   ...     ...     ...   \n",
       "253675           0.0     1.0       1.0        1.0  45.0     0.0     0.0   \n",
       "253676           2.0     1.0       1.0        1.0  18.0     0.0     0.0   \n",
       "253677           0.0     0.0       0.0        1.0  28.0     0.0     0.0   \n",
       "253678           0.0     1.0       0.0        1.0  23.0     0.0     0.0   \n",
       "253679           2.0     1.0       1.0        1.0  25.0     0.0     0.0   \n",
       "\n",
       "        HeartDiseaseorAttack  PhysActivity  Fruits  ...  AnyHealthcare  \\\n",
       "0                        0.0           0.0     0.0  ...            1.0   \n",
       "1                        0.0           1.0     0.0  ...            0.0   \n",
       "2                        0.0           0.0     1.0  ...            1.0   \n",
       "3                        0.0           1.0     1.0  ...            1.0   \n",
       "4                        0.0           1.0     1.0  ...            1.0   \n",
       "...                      ...           ...     ...  ...            ...   \n",
       "253675                   0.0           0.0     1.0  ...            1.0   \n",
       "253676                   0.0           0.0     0.0  ...            1.0   \n",
       "253677                   0.0           1.0     1.0  ...            1.0   \n",
       "253678                   0.0           0.0     1.0  ...            1.0   \n",
       "253679                   1.0           1.0     1.0  ...            1.0   \n",
       "\n",
       "        NoDocbcCost  GenHlth  MentHlth  PhysHlth  DiffWalk  Sex   Age  \\\n",
       "0               0.0      5.0      18.0      15.0       1.0  0.0   9.0   \n",
       "1               1.0      3.0       0.0       0.0       0.0  0.0   7.0   \n",
       "2               1.0      5.0      30.0      30.0       1.0  0.0   9.0   \n",
       "3               0.0      2.0       0.0       0.0       0.0  0.0  11.0   \n",
       "4               0.0      2.0       3.0       0.0       0.0  0.0  11.0   \n",
       "...             ...      ...       ...       ...       ...  ...   ...   \n",
       "253675          0.0      3.0       0.0       5.0       0.0  1.0   5.0   \n",
       "253676          0.0      4.0       0.0       0.0       1.0  0.0  11.0   \n",
       "253677          0.0      1.0       0.0       0.0       0.0  0.0   2.0   \n",
       "253678          0.0      3.0       0.0       0.0       0.0  1.0   7.0   \n",
       "253679          0.0      2.0       0.0       0.0       0.0  0.0   9.0   \n",
       "\n",
       "        Education  Income  \n",
       "0             4.0     3.0  \n",
       "1             6.0     1.0  \n",
       "2             4.0     8.0  \n",
       "3             3.0     6.0  \n",
       "4             5.0     4.0  \n",
       "...           ...     ...  \n",
       "253675        6.0     7.0  \n",
       "253676        2.0     4.0  \n",
       "253677        5.0     2.0  \n",
       "253678        5.0     1.0  \n",
       "253679        6.0     2.0  \n",
       "\n",
       "[253680 rows x 22 columns]"
      ]
     },
     "execution_count": 5,
     "metadata": {},
     "output_type": "execute_result"
    }
   ],
   "source": [
    "df # df stands for data frame"
   ]
  },
  {
   "cell_type": "code",
   "execution_count": 6,
   "id": "cb0ecd75",
   "metadata": {},
   "outputs": [
    {
     "name": "stdout",
     "output_type": "stream",
     "text": [
      "<class 'pandas.core.frame.DataFrame'>\n",
      "RangeIndex: 253680 entries, 0 to 253679\n",
      "Data columns (total 22 columns):\n",
      " #   Column                Non-Null Count   Dtype  \n",
      "---  ------                --------------   -----  \n",
      " 0   Diabetes_012          253680 non-null  float64\n",
      " 1   HighBP                253680 non-null  float64\n",
      " 2   HighChol              253680 non-null  float64\n",
      " 3   CholCheck             253680 non-null  float64\n",
      " 4   BMI                   253680 non-null  float64\n",
      " 5   Smoker                253680 non-null  float64\n",
      " 6   Stroke                253680 non-null  float64\n",
      " 7   HeartDiseaseorAttack  253680 non-null  float64\n",
      " 8   PhysActivity          253680 non-null  float64\n",
      " 9   Fruits                253680 non-null  float64\n",
      " 10  Veggies               253680 non-null  float64\n",
      " 11  HvyAlcoholConsump     253680 non-null  float64\n",
      " 12  AnyHealthcare         253680 non-null  float64\n",
      " 13  NoDocbcCost           253680 non-null  float64\n",
      " 14  GenHlth               253680 non-null  float64\n",
      " 15  MentHlth              253680 non-null  float64\n",
      " 16  PhysHlth              253680 non-null  float64\n",
      " 17  DiffWalk              253680 non-null  float64\n",
      " 18  Sex                   253680 non-null  float64\n",
      " 19  Age                   253680 non-null  float64\n",
      " 20  Education             253680 non-null  float64\n",
      " 21  Income                253680 non-null  float64\n",
      "dtypes: float64(22)\n",
      "memory usage: 42.6 MB\n"
     ]
    }
   ],
   "source": [
    "df.info()"
   ]
  },
  {
   "cell_type": "markdown",
   "id": "e688c8b3",
   "metadata": {},
   "source": [
    "# There is no null value in our data"
   ]
  },
  {
   "cell_type": "markdown",
   "id": "69a030a7",
   "metadata": {},
   "source": [
    "# Let check null value"
   ]
  },
  {
   "cell_type": "code",
   "execution_count": 7,
   "id": "1ecc29bf",
   "metadata": {
    "scrolled": true
   },
   "outputs": [
    {
     "data": {
      "text/plain": [
       "Diabetes_012            0\n",
       "HighBP                  0\n",
       "HighChol                0\n",
       "CholCheck               0\n",
       "BMI                     0\n",
       "Smoker                  0\n",
       "Stroke                  0\n",
       "HeartDiseaseorAttack    0\n",
       "PhysActivity            0\n",
       "Fruits                  0\n",
       "Veggies                 0\n",
       "HvyAlcoholConsump       0\n",
       "AnyHealthcare           0\n",
       "NoDocbcCost             0\n",
       "GenHlth                 0\n",
       "MentHlth                0\n",
       "PhysHlth                0\n",
       "DiffWalk                0\n",
       "Sex                     0\n",
       "Age                     0\n",
       "Education               0\n",
       "Income                  0\n",
       "dtype: int64"
      ]
     },
     "execution_count": 7,
     "metadata": {},
     "output_type": "execute_result"
    }
   ],
   "source": [
    "df.isnull().sum()"
   ]
  },
  {
   "cell_type": "markdown",
   "id": "866dae04",
   "metadata": {},
   "source": [
    "# Lets check for duplicate values"
   ]
  },
  {
   "cell_type": "code",
   "execution_count": 8,
   "id": "89d2330d",
   "metadata": {},
   "outputs": [
    {
     "data": {
      "text/plain": [
       "23899"
      ]
     },
     "execution_count": 8,
     "metadata": {},
     "output_type": "execute_result"
    }
   ],
   "source": [
    "df.duplicated().sum()\n",
    "\n",
    "# We have 23899 rows which are duplicate"
   ]
  },
  {
   "cell_type": "markdown",
   "id": "453d6780",
   "metadata": {},
   "source": [
    "# This function will remove the duplicate values in your data"
   ]
  },
  {
   "cell_type": "code",
   "execution_count": 9,
   "id": "4c7ad240",
   "metadata": {},
   "outputs": [],
   "source": [
    "df=df.drop_duplicates()"
   ]
  },
  {
   "cell_type": "code",
   "execution_count": 10,
   "id": "23b06784",
   "metadata": {},
   "outputs": [
    {
     "data": {
      "text/plain": [
       "0"
      ]
     },
     "execution_count": 10,
     "metadata": {},
     "output_type": "execute_result"
    }
   ],
   "source": [
    "df.duplicated().sum()\n",
    "# Now you dont have any duplicates"
   ]
  },
  {
   "cell_type": "code",
   "execution_count": 11,
   "id": "723f2b2c",
   "metadata": {},
   "outputs": [
    {
     "data": {
      "text/plain": [
       "(229781, 22)"
      ]
     },
     "execution_count": 11,
     "metadata": {},
     "output_type": "execute_result"
    }
   ],
   "source": [
    "df.shape\n",
    "# 229781 Rows and 22 columns"
   ]
  },
  {
   "cell_type": "markdown",
   "id": "2cbafadd",
   "metadata": {},
   "source": [
    "# Viewing the Data Frame"
   ]
  },
  {
   "cell_type": "code",
   "execution_count": 12,
   "id": "9c93e666",
   "metadata": {},
   "outputs": [
    {
     "data": {
      "text/html": [
       "<div>\n",
       "<style scoped>\n",
       "    .dataframe tbody tr th:only-of-type {\n",
       "        vertical-align: middle;\n",
       "    }\n",
       "\n",
       "    .dataframe tbody tr th {\n",
       "        vertical-align: top;\n",
       "    }\n",
       "\n",
       "    .dataframe thead th {\n",
       "        text-align: right;\n",
       "    }\n",
       "</style>\n",
       "<table border=\"1\" class=\"dataframe\">\n",
       "  <thead>\n",
       "    <tr style=\"text-align: right;\">\n",
       "      <th></th>\n",
       "      <th>Diabetes_012</th>\n",
       "      <th>HighBP</th>\n",
       "      <th>HighChol</th>\n",
       "      <th>CholCheck</th>\n",
       "      <th>BMI</th>\n",
       "      <th>Smoker</th>\n",
       "      <th>Stroke</th>\n",
       "      <th>HeartDiseaseorAttack</th>\n",
       "      <th>PhysActivity</th>\n",
       "      <th>Fruits</th>\n",
       "      <th>...</th>\n",
       "      <th>AnyHealthcare</th>\n",
       "      <th>NoDocbcCost</th>\n",
       "      <th>GenHlth</th>\n",
       "      <th>MentHlth</th>\n",
       "      <th>PhysHlth</th>\n",
       "      <th>DiffWalk</th>\n",
       "      <th>Sex</th>\n",
       "      <th>Age</th>\n",
       "      <th>Education</th>\n",
       "      <th>Income</th>\n",
       "    </tr>\n",
       "  </thead>\n",
       "  <tbody>\n",
       "    <tr>\n",
       "      <th>count</th>\n",
       "      <td>229781.000000</td>\n",
       "      <td>229781.000000</td>\n",
       "      <td>229781.000000</td>\n",
       "      <td>229781.000000</td>\n",
       "      <td>229781.00000</td>\n",
       "      <td>229781.000000</td>\n",
       "      <td>229781.000000</td>\n",
       "      <td>229781.000000</td>\n",
       "      <td>229781.000000</td>\n",
       "      <td>229781.000000</td>\n",
       "      <td>...</td>\n",
       "      <td>229781.000000</td>\n",
       "      <td>229781.000000</td>\n",
       "      <td>229781.000000</td>\n",
       "      <td>229781.000000</td>\n",
       "      <td>229781.000000</td>\n",
       "      <td>229781.000000</td>\n",
       "      <td>229781.000000</td>\n",
       "      <td>229781.000000</td>\n",
       "      <td>229781.000000</td>\n",
       "      <td>229781.000000</td>\n",
       "    </tr>\n",
       "    <tr>\n",
       "      <th>mean</th>\n",
       "      <td>0.325627</td>\n",
       "      <td>0.454441</td>\n",
       "      <td>0.441760</td>\n",
       "      <td>0.959535</td>\n",
       "      <td>28.68567</td>\n",
       "      <td>0.465661</td>\n",
       "      <td>0.044756</td>\n",
       "      <td>0.103216</td>\n",
       "      <td>0.733355</td>\n",
       "      <td>0.612966</td>\n",
       "      <td>...</td>\n",
       "      <td>0.946075</td>\n",
       "      <td>0.092810</td>\n",
       "      <td>2.601151</td>\n",
       "      <td>3.505373</td>\n",
       "      <td>4.675178</td>\n",
       "      <td>0.185507</td>\n",
       "      <td>0.439231</td>\n",
       "      <td>8.086582</td>\n",
       "      <td>4.980568</td>\n",
       "      <td>5.890383</td>\n",
       "    </tr>\n",
       "    <tr>\n",
       "      <th>std</th>\n",
       "      <td>0.724623</td>\n",
       "      <td>0.497921</td>\n",
       "      <td>0.496598</td>\n",
       "      <td>0.197047</td>\n",
       "      <td>6.78636</td>\n",
       "      <td>0.498821</td>\n",
       "      <td>0.206767</td>\n",
       "      <td>0.304241</td>\n",
       "      <td>0.442206</td>\n",
       "      <td>0.487073</td>\n",
       "      <td>...</td>\n",
       "      <td>0.225871</td>\n",
       "      <td>0.290167</td>\n",
       "      <td>1.064685</td>\n",
       "      <td>7.713725</td>\n",
       "      <td>9.046568</td>\n",
       "      <td>0.388709</td>\n",
       "      <td>0.496295</td>\n",
       "      <td>3.093809</td>\n",
       "      <td>0.992895</td>\n",
       "      <td>2.092477</td>\n",
       "    </tr>\n",
       "    <tr>\n",
       "      <th>min</th>\n",
       "      <td>0.000000</td>\n",
       "      <td>0.000000</td>\n",
       "      <td>0.000000</td>\n",
       "      <td>0.000000</td>\n",
       "      <td>12.00000</td>\n",
       "      <td>0.000000</td>\n",
       "      <td>0.000000</td>\n",
       "      <td>0.000000</td>\n",
       "      <td>0.000000</td>\n",
       "      <td>0.000000</td>\n",
       "      <td>...</td>\n",
       "      <td>0.000000</td>\n",
       "      <td>0.000000</td>\n",
       "      <td>1.000000</td>\n",
       "      <td>0.000000</td>\n",
       "      <td>0.000000</td>\n",
       "      <td>0.000000</td>\n",
       "      <td>0.000000</td>\n",
       "      <td>1.000000</td>\n",
       "      <td>1.000000</td>\n",
       "      <td>1.000000</td>\n",
       "    </tr>\n",
       "    <tr>\n",
       "      <th>25%</th>\n",
       "      <td>0.000000</td>\n",
       "      <td>0.000000</td>\n",
       "      <td>0.000000</td>\n",
       "      <td>1.000000</td>\n",
       "      <td>24.00000</td>\n",
       "      <td>0.000000</td>\n",
       "      <td>0.000000</td>\n",
       "      <td>0.000000</td>\n",
       "      <td>0.000000</td>\n",
       "      <td>0.000000</td>\n",
       "      <td>...</td>\n",
       "      <td>1.000000</td>\n",
       "      <td>0.000000</td>\n",
       "      <td>2.000000</td>\n",
       "      <td>0.000000</td>\n",
       "      <td>0.000000</td>\n",
       "      <td>0.000000</td>\n",
       "      <td>0.000000</td>\n",
       "      <td>6.000000</td>\n",
       "      <td>4.000000</td>\n",
       "      <td>5.000000</td>\n",
       "    </tr>\n",
       "    <tr>\n",
       "      <th>50%</th>\n",
       "      <td>0.000000</td>\n",
       "      <td>0.000000</td>\n",
       "      <td>0.000000</td>\n",
       "      <td>1.000000</td>\n",
       "      <td>27.00000</td>\n",
       "      <td>0.000000</td>\n",
       "      <td>0.000000</td>\n",
       "      <td>0.000000</td>\n",
       "      <td>1.000000</td>\n",
       "      <td>1.000000</td>\n",
       "      <td>...</td>\n",
       "      <td>1.000000</td>\n",
       "      <td>0.000000</td>\n",
       "      <td>3.000000</td>\n",
       "      <td>0.000000</td>\n",
       "      <td>0.000000</td>\n",
       "      <td>0.000000</td>\n",
       "      <td>0.000000</td>\n",
       "      <td>8.000000</td>\n",
       "      <td>5.000000</td>\n",
       "      <td>6.000000</td>\n",
       "    </tr>\n",
       "    <tr>\n",
       "      <th>75%</th>\n",
       "      <td>0.000000</td>\n",
       "      <td>1.000000</td>\n",
       "      <td>1.000000</td>\n",
       "      <td>1.000000</td>\n",
       "      <td>32.00000</td>\n",
       "      <td>1.000000</td>\n",
       "      <td>0.000000</td>\n",
       "      <td>0.000000</td>\n",
       "      <td>1.000000</td>\n",
       "      <td>1.000000</td>\n",
       "      <td>...</td>\n",
       "      <td>1.000000</td>\n",
       "      <td>0.000000</td>\n",
       "      <td>3.000000</td>\n",
       "      <td>2.000000</td>\n",
       "      <td>4.000000</td>\n",
       "      <td>0.000000</td>\n",
       "      <td>1.000000</td>\n",
       "      <td>10.000000</td>\n",
       "      <td>6.000000</td>\n",
       "      <td>8.000000</td>\n",
       "    </tr>\n",
       "    <tr>\n",
       "      <th>max</th>\n",
       "      <td>2.000000</td>\n",
       "      <td>1.000000</td>\n",
       "      <td>1.000000</td>\n",
       "      <td>1.000000</td>\n",
       "      <td>98.00000</td>\n",
       "      <td>1.000000</td>\n",
       "      <td>1.000000</td>\n",
       "      <td>1.000000</td>\n",
       "      <td>1.000000</td>\n",
       "      <td>1.000000</td>\n",
       "      <td>...</td>\n",
       "      <td>1.000000</td>\n",
       "      <td>1.000000</td>\n",
       "      <td>5.000000</td>\n",
       "      <td>30.000000</td>\n",
       "      <td>30.000000</td>\n",
       "      <td>1.000000</td>\n",
       "      <td>1.000000</td>\n",
       "      <td>13.000000</td>\n",
       "      <td>6.000000</td>\n",
       "      <td>8.000000</td>\n",
       "    </tr>\n",
       "  </tbody>\n",
       "</table>\n",
       "<p>8 rows × 22 columns</p>\n",
       "</div>"
      ],
      "text/plain": [
       "        Diabetes_012         HighBP       HighChol      CholCheck  \\\n",
       "count  229781.000000  229781.000000  229781.000000  229781.000000   \n",
       "mean        0.325627       0.454441       0.441760       0.959535   \n",
       "std         0.724623       0.497921       0.496598       0.197047   \n",
       "min         0.000000       0.000000       0.000000       0.000000   \n",
       "25%         0.000000       0.000000       0.000000       1.000000   \n",
       "50%         0.000000       0.000000       0.000000       1.000000   \n",
       "75%         0.000000       1.000000       1.000000       1.000000   \n",
       "max         2.000000       1.000000       1.000000       1.000000   \n",
       "\n",
       "                BMI         Smoker         Stroke  HeartDiseaseorAttack  \\\n",
       "count  229781.00000  229781.000000  229781.000000         229781.000000   \n",
       "mean       28.68567       0.465661       0.044756              0.103216   \n",
       "std         6.78636       0.498821       0.206767              0.304241   \n",
       "min        12.00000       0.000000       0.000000              0.000000   \n",
       "25%        24.00000       0.000000       0.000000              0.000000   \n",
       "50%        27.00000       0.000000       0.000000              0.000000   \n",
       "75%        32.00000       1.000000       0.000000              0.000000   \n",
       "max        98.00000       1.000000       1.000000              1.000000   \n",
       "\n",
       "        PhysActivity         Fruits  ...  AnyHealthcare    NoDocbcCost  \\\n",
       "count  229781.000000  229781.000000  ...  229781.000000  229781.000000   \n",
       "mean        0.733355       0.612966  ...       0.946075       0.092810   \n",
       "std         0.442206       0.487073  ...       0.225871       0.290167   \n",
       "min         0.000000       0.000000  ...       0.000000       0.000000   \n",
       "25%         0.000000       0.000000  ...       1.000000       0.000000   \n",
       "50%         1.000000       1.000000  ...       1.000000       0.000000   \n",
       "75%         1.000000       1.000000  ...       1.000000       0.000000   \n",
       "max         1.000000       1.000000  ...       1.000000       1.000000   \n",
       "\n",
       "             GenHlth       MentHlth       PhysHlth       DiffWalk  \\\n",
       "count  229781.000000  229781.000000  229781.000000  229781.000000   \n",
       "mean        2.601151       3.505373       4.675178       0.185507   \n",
       "std         1.064685       7.713725       9.046568       0.388709   \n",
       "min         1.000000       0.000000       0.000000       0.000000   \n",
       "25%         2.000000       0.000000       0.000000       0.000000   \n",
       "50%         3.000000       0.000000       0.000000       0.000000   \n",
       "75%         3.000000       2.000000       4.000000       0.000000   \n",
       "max         5.000000      30.000000      30.000000       1.000000   \n",
       "\n",
       "                 Sex            Age      Education         Income  \n",
       "count  229781.000000  229781.000000  229781.000000  229781.000000  \n",
       "mean        0.439231       8.086582       4.980568       5.890383  \n",
       "std         0.496295       3.093809       0.992895       2.092477  \n",
       "min         0.000000       1.000000       1.000000       1.000000  \n",
       "25%         0.000000       6.000000       4.000000       5.000000  \n",
       "50%         0.000000       8.000000       5.000000       6.000000  \n",
       "75%         1.000000      10.000000       6.000000       8.000000  \n",
       "max         1.000000      13.000000       6.000000       8.000000  \n",
       "\n",
       "[8 rows x 22 columns]"
      ]
     },
     "execution_count": 12,
     "metadata": {},
     "output_type": "execute_result"
    }
   ],
   "source": [
    "df.describe()"
   ]
  },
  {
   "cell_type": "markdown",
   "id": "15c9ae07",
   "metadata": {},
   "source": [
    "# Lets plot some charts\n",
    "# Histogram"
   ]
  },
  {
   "cell_type": "markdown",
   "id": "cdaefe22",
   "metadata": {},
   "source": [
    "# Histogram for Diabetes"
   ]
  },
  {
   "cell_type": "code",
   "execution_count": 13,
   "id": "797fafd8",
   "metadata": {
    "scrolled": true
   },
   "outputs": [
    {
     "data": {
      "image/png": "[encoded data removed]",
      "text/plain": [
       "<Figure size 640x480 with 1 Axes>"
      ]
     },
     "metadata": {},
     "output_type": "display_data"
    }
   ],
   "source": [
    "plt.hist(df['Diabetes_012'])\n",
    "plt.title(\"Diabetes Record\")\n",
    "plt.show()\n",
    "# This will not work perfectly for Diabetes_012 because it is a categorial data"
   ]
  },
  {
   "cell_type": "markdown",
   "id": "9f5a4c47",
   "metadata": {},
   "source": [
    "# Category wise value count for Diabetes"
   ]
  },
  {
   "cell_type": "code",
   "execution_count": 14,
   "id": "b182fcf5",
   "metadata": {},
   "outputs": [
    {
     "data": {
      "text/plain": [
       "0.0    190055\n",
       "2.0     35097\n",
       "1.0      4629\n",
       "Name: Diabetes_012, dtype: int64"
      ]
     },
     "execution_count": 14,
     "metadata": {},
     "output_type": "execute_result"
    }
   ],
   "source": [
    "no_of_diab=df[\"Diabetes_012\"].value_counts()\n",
    "no_of_diab\n",
    "# There are 3 categories in diabetes column"
   ]
  },
  {
   "cell_type": "markdown",
   "id": "d3a52566",
   "metadata": {},
   "source": [
    "# Barplot"
   ]
  },
  {
   "cell_type": "code",
   "execution_count": 15,
   "id": "f463d93c",
   "metadata": {
    "scrolled": true
   },
   "outputs": [
    {
     "data": {
      "text/plain": [
       "<AxesSubplot:>"
      ]
     },
     "execution_count": 15,
     "metadata": {},
     "output_type": "execute_result"
    },
    {
     "data": {
      "image/png": "[encoded data removed]",
      "text/plain": [
       "<Figure size 640x480 with 1 Axes>"
      ]
     },
     "metadata": {},
     "output_type": "display_data"
    }
   ],
   "source": [
    "sns.barplot(no_of_diab.index, no_of_diab.values)\n",
    "\n",
    "\n",
    "# barplot will work as (x as an index,y as a values)"
   ]
  },
  {
   "cell_type": "markdown",
   "id": "7ef722c6",
   "metadata": {},
   "source": [
    "# Category wise value count for High Blood Pressure"
   ]
  },
  {
   "cell_type": "code",
   "execution_count": 16,
   "id": "77b9be84",
   "metadata": {},
   "outputs": [
    {
     "data": {
      "text/plain": [
       "0.0    125359\n",
       "1.0    104422\n",
       "Name: HighBP, dtype: int64"
      ]
     },
     "execution_count": 16,
     "metadata": {},
     "output_type": "execute_result"
    }
   ],
   "source": [
    "no_of_hb=df[\"HighBP\"].value_counts()\n",
    "no_of_hb\n",
    "# There are 2 categories in High BP column"
   ]
  },
  {
   "cell_type": "markdown",
   "id": "3a77b3c2",
   "metadata": {},
   "source": [
    "# Barplot for high BP"
   ]
  },
  {
   "cell_type": "code",
   "execution_count": 17,
   "id": "e8eead7f",
   "metadata": {},
   "outputs": [
    {
     "data": {
      "text/plain": [
       "<AxesSubplot:>"
      ]
     },
     "execution_count": 17,
     "metadata": {},
     "output_type": "execute_result"
    },
    {
     "data": {
      "image/png": "[encoded data removed]",
      "text/plain": [
       "<Figure size 640x480 with 1 Axes>"
      ]
     },
     "metadata": {},
     "output_type": "display_data"
    }
   ],
   "source": [
    "sns.barplot(no_of_hb.index, no_of_hb.values)"
   ]
  },
  {
   "cell_type": "markdown",
   "id": "be746bdb",
   "metadata": {},
   "source": [
    "# Observations:\n",
    "There are almost 125359 people who do not have diabetes.\n",
    "There are almost 104422 lakh people who have diabetes."
   ]
  },
  {
   "cell_type": "markdown",
   "id": "85a24991",
   "metadata": {},
   "source": [
    "# Return the total number of percentage who do not have diabetes"
   ]
  },
  {
   "cell_type": "code",
   "execution_count": 18,
   "id": "1b1129c3",
   "metadata": {
    "scrolled": true
   },
   "outputs": [
    {
     "name": "stdout",
     "output_type": "stream",
     "text": [
      "Percentage of people who does not have high blood pressure:  54.55585970989768\n"
     ]
    }
   ],
   "source": [
    "td=125359\n",
    "td+104422\n",
    "td1=td/229781*100\n",
    "print(\"Percentage of people who does not have high blood pressure: \",td1)"
   ]
  },
  {
   "cell_type": "markdown",
   "id": "a859a0ef",
   "metadata": {},
   "source": [
    "# Return the total number of percentage who have diabetes"
   ]
  },
  {
   "cell_type": "code",
   "execution_count": 19,
   "id": "52eee008",
   "metadata": {},
   "outputs": [
    {
     "name": "stdout",
     "output_type": "stream",
     "text": [
      "Percentage of people who have High Blood Presure:  45.44414029010231\n"
     ]
    }
   ],
   "source": [
    "td2=104422\n",
    "td2+125359\n",
    "td3=td2/229781*100\n",
    "print(\"Percentage of people who have High Blood Presure: \",td3)"
   ]
  },
  {
   "cell_type": "markdown",
   "id": "a3713f2a",
   "metadata": {},
   "source": [
    "# Pie Chart\n",
    "\n",
    "Pie chart gives the percentage distribution"
   ]
  },
  {
   "cell_type": "markdown",
   "id": "af0ec36b",
   "metadata": {},
   "source": [
    "# Pie chart for HighBP"
   ]
  },
  {
   "cell_type": "code",
   "execution_count": 20,
   "id": "2246abb3",
   "metadata": {},
   "outputs": [
    {
     "data": {
      "image/png": "[encoded data removed]",
      "text/plain": [
       "<Figure size 640x480 with 1 Axes>"
      ]
     },
     "metadata": {},
     "output_type": "display_data"
    }
   ],
   "source": [
    "labels=(\"Normal BP\",\"High BP\") #no_of_hb.index\n",
    "sizes=no_of_hb.values\n",
    "plt.pie(sizes,labels=labels,autopct=\"%0.1f\",shadow=True)\n",
    "plt.title(\"High BP Record\")\n",
    "plt.show()"
   ]
  },
  {
   "cell_type": "markdown",
   "id": "9f74caae",
   "metadata": {},
   "source": [
    "# Category wise value count for High cholestrol"
   ]
  },
  {
   "cell_type": "code",
   "execution_count": 21,
   "id": "0c861234",
   "metadata": {},
   "outputs": [
    {
     "data": {
      "text/plain": [
       "0.0    128273\n",
       "1.0    101508\n",
       "Name: HighChol, dtype: int64"
      ]
     },
     "execution_count": 21,
     "metadata": {},
     "output_type": "execute_result"
    }
   ],
   "source": [
    "no_of_hch=df[\"HighChol\"].value_counts()\n",
    "no_of_hch"
   ]
  },
  {
   "cell_type": "markdown",
   "id": "00ff1a49",
   "metadata": {},
   "source": [
    "# Pie for HighChol"
   ]
  },
  {
   "cell_type": "code",
   "execution_count": 22,
   "id": "93c097a9",
   "metadata": {},
   "outputs": [
    {
     "data": {
      "image/png": "[encoded data removed]",
      "text/plain": [
       "<Figure size 640x480 with 1 Axes>"
      ]
     },
     "metadata": {},
     "output_type": "display_data"
    }
   ],
   "source": [
    "labels1=(\"Normal Cholestrol\",\"High Cholestrol\") #no_of_hch.index\n",
    "size1=no_of_hch.values\n",
    "plt.pie(size1,labels=labels1,autopct=\"%0.1f\",shadow=True)\n",
    "plt.title(\"Cholestrol Record\")\n",
    "plt.show()"
   ]
  },
  {
   "cell_type": "markdown",
   "id": "83cd9ca8",
   "metadata": {},
   "source": [
    "# Viewing the Data Frame"
   ]
  },
  {
   "cell_type": "code",
   "execution_count": 23,
   "id": "704806c6",
   "metadata": {},
   "outputs": [
    {
     "data": {
      "text/html": [
       "<div>\n",
       "<style scoped>\n",
       "    .dataframe tbody tr th:only-of-type {\n",
       "        vertical-align: middle;\n",
       "    }\n",
       "\n",
       "    .dataframe tbody tr th {\n",
       "        vertical-align: top;\n",
       "    }\n",
       "\n",
       "    .dataframe thead th {\n",
       "        text-align: right;\n",
       "    }\n",
       "</style>\n",
       "<table border=\"1\" class=\"dataframe\">\n",
       "  <thead>\n",
       "    <tr style=\"text-align: right;\">\n",
       "      <th></th>\n",
       "      <th>Diabetes_012</th>\n",
       "      <th>HighBP</th>\n",
       "      <th>HighChol</th>\n",
       "      <th>CholCheck</th>\n",
       "      <th>BMI</th>\n",
       "      <th>Smoker</th>\n",
       "      <th>Stroke</th>\n",
       "      <th>HeartDiseaseorAttack</th>\n",
       "      <th>PhysActivity</th>\n",
       "      <th>Fruits</th>\n",
       "      <th>...</th>\n",
       "      <th>AnyHealthcare</th>\n",
       "      <th>NoDocbcCost</th>\n",
       "      <th>GenHlth</th>\n",
       "      <th>MentHlth</th>\n",
       "      <th>PhysHlth</th>\n",
       "      <th>DiffWalk</th>\n",
       "      <th>Sex</th>\n",
       "      <th>Age</th>\n",
       "      <th>Education</th>\n",
       "      <th>Income</th>\n",
       "    </tr>\n",
       "  </thead>\n",
       "  <tbody>\n",
       "    <tr>\n",
       "      <th>count</th>\n",
       "      <td>229781.000000</td>\n",
       "      <td>229781.000000</td>\n",
       "      <td>229781.000000</td>\n",
       "      <td>229781.000000</td>\n",
       "      <td>229781.00000</td>\n",
       "      <td>229781.000000</td>\n",
       "      <td>229781.000000</td>\n",
       "      <td>229781.000000</td>\n",
       "      <td>229781.000000</td>\n",
       "      <td>229781.000000</td>\n",
       "      <td>...</td>\n",
       "      <td>229781.000000</td>\n",
       "      <td>229781.000000</td>\n",
       "      <td>229781.000000</td>\n",
       "      <td>229781.000000</td>\n",
       "      <td>229781.000000</td>\n",
       "      <td>229781.000000</td>\n",
       "      <td>229781.000000</td>\n",
       "      <td>229781.000000</td>\n",
       "      <td>229781.000000</td>\n",
       "      <td>229781.000000</td>\n",
       "    </tr>\n",
       "    <tr>\n",
       "      <th>mean</th>\n",
       "      <td>0.325627</td>\n",
       "      <td>0.454441</td>\n",
       "      <td>0.441760</td>\n",
       "      <td>0.959535</td>\n",
       "      <td>28.68567</td>\n",
       "      <td>0.465661</td>\n",
       "      <td>0.044756</td>\n",
       "      <td>0.103216</td>\n",
       "      <td>0.733355</td>\n",
       "      <td>0.612966</td>\n",
       "      <td>...</td>\n",
       "      <td>0.946075</td>\n",
       "      <td>0.092810</td>\n",
       "      <td>2.601151</td>\n",
       "      <td>3.505373</td>\n",
       "      <td>4.675178</td>\n",
       "      <td>0.185507</td>\n",
       "      <td>0.439231</td>\n",
       "      <td>8.086582</td>\n",
       "      <td>4.980568</td>\n",
       "      <td>5.890383</td>\n",
       "    </tr>\n",
       "    <tr>\n",
       "      <th>std</th>\n",
       "      <td>0.724623</td>\n",
       "      <td>0.497921</td>\n",
       "      <td>0.496598</td>\n",
       "      <td>0.197047</td>\n",
       "      <td>6.78636</td>\n",
       "      <td>0.498821</td>\n",
       "      <td>0.206767</td>\n",
       "      <td>0.304241</td>\n",
       "      <td>0.442206</td>\n",
       "      <td>0.487073</td>\n",
       "      <td>...</td>\n",
       "      <td>0.225871</td>\n",
       "      <td>0.290167</td>\n",
       "      <td>1.064685</td>\n",
       "      <td>7.713725</td>\n",
       "      <td>9.046568</td>\n",
       "      <td>0.388709</td>\n",
       "      <td>0.496295</td>\n",
       "      <td>3.093809</td>\n",
       "      <td>0.992895</td>\n",
       "      <td>2.092477</td>\n",
       "    </tr>\n",
       "    <tr>\n",
       "      <th>min</th>\n",
       "      <td>0.000000</td>\n",
       "      <td>0.000000</td>\n",
       "      <td>0.000000</td>\n",
       "      <td>0.000000</td>\n",
       "      <td>12.00000</td>\n",
       "      <td>0.000000</td>\n",
       "      <td>0.000000</td>\n",
       "      <td>0.000000</td>\n",
       "      <td>0.000000</td>\n",
       "      <td>0.000000</td>\n",
       "      <td>...</td>\n",
       "      <td>0.000000</td>\n",
       "      <td>0.000000</td>\n",
       "      <td>1.000000</td>\n",
       "      <td>0.000000</td>\n",
       "      <td>0.000000</td>\n",
       "      <td>0.000000</td>\n",
       "      <td>0.000000</td>\n",
       "      <td>1.000000</td>\n",
       "      <td>1.000000</td>\n",
       "      <td>1.000000</td>\n",
       "    </tr>\n",
       "    <tr>\n",
       "      <th>25%</th>\n",
       "      <td>0.000000</td>\n",
       "      <td>0.000000</td>\n",
       "      <td>0.000000</td>\n",
       "      <td>1.000000</td>\n",
       "      <td>24.00000</td>\n",
       "      <td>0.000000</td>\n",
       "      <td>0.000000</td>\n",
       "      <td>0.000000</td>\n",
       "      <td>0.000000</td>\n",
       "      <td>0.000000</td>\n",
       "      <td>...</td>\n",
       "      <td>1.000000</td>\n",
       "      <td>0.000000</td>\n",
       "      <td>2.000000</td>\n",
       "      <td>0.000000</td>\n",
       "      <td>0.000000</td>\n",
       "      <td>0.000000</td>\n",
       "      <td>0.000000</td>\n",
       "      <td>6.000000</td>\n",
       "      <td>4.000000</td>\n",
       "      <td>5.000000</td>\n",
       "    </tr>\n",
       "    <tr>\n",
       "      <th>50%</th>\n",
       "      <td>0.000000</td>\n",
       "      <td>0.000000</td>\n",
       "      <td>0.000000</td>\n",
       "      <td>1.000000</td>\n",
       "      <td>27.00000</td>\n",
       "      <td>0.000000</td>\n",
       "      <td>0.000000</td>\n",
       "      <td>0.000000</td>\n",
       "      <td>1.000000</td>\n",
       "      <td>1.000000</td>\n",
       "      <td>...</td>\n",
       "      <td>1.000000</td>\n",
       "      <td>0.000000</td>\n",
       "      <td>3.000000</td>\n",
       "      <td>0.000000</td>\n",
       "      <td>0.000000</td>\n",
       "      <td>0.000000</td>\n",
       "      <td>0.000000</td>\n",
       "      <td>8.000000</td>\n",
       "      <td>5.000000</td>\n",
       "      <td>6.000000</td>\n",
       "    </tr>\n",
       "    <tr>\n",
       "      <th>75%</th>\n",
       "      <td>0.000000</td>\n",
       "      <td>1.000000</td>\n",
       "      <td>1.000000</td>\n",
       "      <td>1.000000</td>\n",
       "      <td>32.00000</td>\n",
       "      <td>1.000000</td>\n",
       "      <td>0.000000</td>\n",
       "      <td>0.000000</td>\n",
       "      <td>1.000000</td>\n",
       "      <td>1.000000</td>\n",
       "      <td>...</td>\n",
       "      <td>1.000000</td>\n",
       "      <td>0.000000</td>\n",
       "      <td>3.000000</td>\n",
       "      <td>2.000000</td>\n",
       "      <td>4.000000</td>\n",
       "      <td>0.000000</td>\n",
       "      <td>1.000000</td>\n",
       "      <td>10.000000</td>\n",
       "      <td>6.000000</td>\n",
       "      <td>8.000000</td>\n",
       "    </tr>\n",
       "    <tr>\n",
       "      <th>max</th>\n",
       "      <td>2.000000</td>\n",
       "      <td>1.000000</td>\n",
       "      <td>1.000000</td>\n",
       "      <td>1.000000</td>\n",
       "      <td>98.00000</td>\n",
       "      <td>1.000000</td>\n",
       "      <td>1.000000</td>\n",
       "      <td>1.000000</td>\n",
       "      <td>1.000000</td>\n",
       "      <td>1.000000</td>\n",
       "      <td>...</td>\n",
       "      <td>1.000000</td>\n",
       "      <td>1.000000</td>\n",
       "      <td>5.000000</td>\n",
       "      <td>30.000000</td>\n",
       "      <td>30.000000</td>\n",
       "      <td>1.000000</td>\n",
       "      <td>1.000000</td>\n",
       "      <td>13.000000</td>\n",
       "      <td>6.000000</td>\n",
       "      <td>8.000000</td>\n",
       "    </tr>\n",
       "  </tbody>\n",
       "</table>\n",
       "<p>8 rows × 22 columns</p>\n",
       "</div>"
      ],
      "text/plain": [
       "        Diabetes_012         HighBP       HighChol      CholCheck  \\\n",
       "count  229781.000000  229781.000000  229781.000000  229781.000000   \n",
       "mean        0.325627       0.454441       0.441760       0.959535   \n",
       "std         0.724623       0.497921       0.496598       0.197047   \n",
       "min         0.000000       0.000000       0.000000       0.000000   \n",
       "25%         0.000000       0.000000       0.000000       1.000000   \n",
       "50%         0.000000       0.000000       0.000000       1.000000   \n",
       "75%         0.000000       1.000000       1.000000       1.000000   \n",
       "max         2.000000       1.000000       1.000000       1.000000   \n",
       "\n",
       "                BMI         Smoker         Stroke  HeartDiseaseorAttack  \\\n",
       "count  229781.00000  229781.000000  229781.000000         229781.000000   \n",
       "mean       28.68567       0.465661       0.044756              0.103216   \n",
       "std         6.78636       0.498821       0.206767              0.304241   \n",
       "min        12.00000       0.000000       0.000000              0.000000   \n",
       "25%        24.00000       0.000000       0.000000              0.000000   \n",
       "50%        27.00000       0.000000       0.000000              0.000000   \n",
       "75%        32.00000       1.000000       0.000000              0.000000   \n",
       "max        98.00000       1.000000       1.000000              1.000000   \n",
       "\n",
       "        PhysActivity         Fruits  ...  AnyHealthcare    NoDocbcCost  \\\n",
       "count  229781.000000  229781.000000  ...  229781.000000  229781.000000   \n",
       "mean        0.733355       0.612966  ...       0.946075       0.092810   \n",
       "std         0.442206       0.487073  ...       0.225871       0.290167   \n",
       "min         0.000000       0.000000  ...       0.000000       0.000000   \n",
       "25%         0.000000       0.000000  ...       1.000000       0.000000   \n",
       "50%         1.000000       1.000000  ...       1.000000       0.000000   \n",
       "75%         1.000000       1.000000  ...       1.000000       0.000000   \n",
       "max         1.000000       1.000000  ...       1.000000       1.000000   \n",
       "\n",
       "             GenHlth       MentHlth       PhysHlth       DiffWalk  \\\n",
       "count  229781.000000  229781.000000  229781.000000  229781.000000   \n",
       "mean        2.601151       3.505373       4.675178       0.185507   \n",
       "std         1.064685       7.713725       9.046568       0.388709   \n",
       "min         1.000000       0.000000       0.000000       0.000000   \n",
       "25%         2.000000       0.000000       0.000000       0.000000   \n",
       "50%         3.000000       0.000000       0.000000       0.000000   \n",
       "75%         3.000000       2.000000       4.000000       0.000000   \n",
       "max         5.000000      30.000000      30.000000       1.000000   \n",
       "\n",
       "                 Sex            Age      Education         Income  \n",
       "count  229781.000000  229781.000000  229781.000000  229781.000000  \n",
       "mean        0.439231       8.086582       4.980568       5.890383  \n",
       "std         0.496295       3.093809       0.992895       2.092477  \n",
       "min         0.000000       1.000000       1.000000       1.000000  \n",
       "25%         0.000000       6.000000       4.000000       5.000000  \n",
       "50%         0.000000       8.000000       5.000000       6.000000  \n",
       "75%         1.000000      10.000000       6.000000       8.000000  \n",
       "max         1.000000      13.000000       6.000000       8.000000  \n",
       "\n",
       "[8 rows x 22 columns]"
      ]
     },
     "execution_count": 23,
     "metadata": {},
     "output_type": "execute_result"
    }
   ],
   "source": [
    "df.describe()"
   ]
  },
  {
   "cell_type": "markdown",
   "id": "bef52634",
   "metadata": {},
   "source": [
    "# Category wise value count for High cholestrol check"
   ]
  },
  {
   "cell_type": "code",
   "execution_count": 24,
   "id": "90f719c6",
   "metadata": {},
   "outputs": [
    {
     "data": {
      "text/plain": [
       "1.0    220483\n",
       "0.0      9298\n",
       "Name: CholCheck, dtype: int64"
      ]
     },
     "execution_count": 24,
     "metadata": {},
     "output_type": "execute_result"
    }
   ],
   "source": [
    "no_of_chck=df[\"CholCheck\"].value_counts()\n",
    "no_of_chck"
   ]
  },
  {
   "cell_type": "markdown",
   "id": "be7b0ad6",
   "metadata": {},
   "source": [
    "# Pie for CholCheck"
   ]
  },
  {
   "cell_type": "code",
   "execution_count": 25,
   "id": "5da94b53",
   "metadata": {},
   "outputs": [
    {
     "data": {
      "image/png": "[encoded data removed]",
      "text/plain": [
       "<Figure size 640x480 with 1 Axes>"
      ]
     },
     "metadata": {},
     "output_type": "display_data"
    }
   ],
   "source": [
    "labels2=(\"Cholestrol Checked in 5 years\",\"Cholestrol not Checked in 5 years\") #no_of_chck.index\n",
    "sizes2=no_of_chck.values\n",
    "plt.pie(sizes2,labels=labels2,autopct=\"%0.5f\",shadow=True)\n",
    "plt.title(\"Cholestrol Check Record\")\n",
    "plt.show()"
   ]
  },
  {
   "cell_type": "markdown",
   "id": "450e6ee8",
   "metadata": {},
   "source": [
    "# Viewing the Data Frame"
   ]
  },
  {
   "cell_type": "code",
   "execution_count": 26,
   "id": "0a46b858",
   "metadata": {},
   "outputs": [
    {
     "data": {
      "text/html": [
       "<div>\n",
       "<style scoped>\n",
       "    .dataframe tbody tr th:only-of-type {\n",
       "        vertical-align: middle;\n",
       "    }\n",
       "\n",
       "    .dataframe tbody tr th {\n",
       "        vertical-align: top;\n",
       "    }\n",
       "\n",
       "    .dataframe thead th {\n",
       "        text-align: right;\n",
       "    }\n",
       "</style>\n",
       "<table border=\"1\" class=\"dataframe\">\n",
       "  <thead>\n",
       "    <tr style=\"text-align: right;\">\n",
       "      <th></th>\n",
       "      <th>Diabetes_012</th>\n",
       "      <th>HighBP</th>\n",
       "      <th>HighChol</th>\n",
       "      <th>CholCheck</th>\n",
       "      <th>BMI</th>\n",
       "      <th>Smoker</th>\n",
       "      <th>Stroke</th>\n",
       "      <th>HeartDiseaseorAttack</th>\n",
       "      <th>PhysActivity</th>\n",
       "      <th>Fruits</th>\n",
       "      <th>...</th>\n",
       "      <th>AnyHealthcare</th>\n",
       "      <th>NoDocbcCost</th>\n",
       "      <th>GenHlth</th>\n",
       "      <th>MentHlth</th>\n",
       "      <th>PhysHlth</th>\n",
       "      <th>DiffWalk</th>\n",
       "      <th>Sex</th>\n",
       "      <th>Age</th>\n",
       "      <th>Education</th>\n",
       "      <th>Income</th>\n",
       "    </tr>\n",
       "  </thead>\n",
       "  <tbody>\n",
       "    <tr>\n",
       "      <th>count</th>\n",
       "      <td>229781.000000</td>\n",
       "      <td>229781.000000</td>\n",
       "      <td>229781.000000</td>\n",
       "      <td>229781.000000</td>\n",
       "      <td>229781.00000</td>\n",
       "      <td>229781.000000</td>\n",
       "      <td>229781.000000</td>\n",
       "      <td>229781.000000</td>\n",
       "      <td>229781.000000</td>\n",
       "      <td>229781.000000</td>\n",
       "      <td>...</td>\n",
       "      <td>229781.000000</td>\n",
       "      <td>229781.000000</td>\n",
       "      <td>229781.000000</td>\n",
       "      <td>229781.000000</td>\n",
       "      <td>229781.000000</td>\n",
       "      <td>229781.000000</td>\n",
       "      <td>229781.000000</td>\n",
       "      <td>229781.000000</td>\n",
       "      <td>229781.000000</td>\n",
       "      <td>229781.000000</td>\n",
       "    </tr>\n",
       "    <tr>\n",
       "      <th>mean</th>\n",
       "      <td>0.325627</td>\n",
       "      <td>0.454441</td>\n",
       "      <td>0.441760</td>\n",
       "      <td>0.959535</td>\n",
       "      <td>28.68567</td>\n",
       "      <td>0.465661</td>\n",
       "      <td>0.044756</td>\n",
       "      <td>0.103216</td>\n",
       "      <td>0.733355</td>\n",
       "      <td>0.612966</td>\n",
       "      <td>...</td>\n",
       "      <td>0.946075</td>\n",
       "      <td>0.092810</td>\n",
       "      <td>2.601151</td>\n",
       "      <td>3.505373</td>\n",
       "      <td>4.675178</td>\n",
       "      <td>0.185507</td>\n",
       "      <td>0.439231</td>\n",
       "      <td>8.086582</td>\n",
       "      <td>4.980568</td>\n",
       "      <td>5.890383</td>\n",
       "    </tr>\n",
       "    <tr>\n",
       "      <th>std</th>\n",
       "      <td>0.724623</td>\n",
       "      <td>0.497921</td>\n",
       "      <td>0.496598</td>\n",
       "      <td>0.197047</td>\n",
       "      <td>6.78636</td>\n",
       "      <td>0.498821</td>\n",
       "      <td>0.206767</td>\n",
       "      <td>0.304241</td>\n",
       "      <td>0.442206</td>\n",
       "      <td>0.487073</td>\n",
       "      <td>...</td>\n",
       "      <td>0.225871</td>\n",
       "      <td>0.290167</td>\n",
       "      <td>1.064685</td>\n",
       "      <td>7.713725</td>\n",
       "      <td>9.046568</td>\n",
       "      <td>0.388709</td>\n",
       "      <td>0.496295</td>\n",
       "      <td>3.093809</td>\n",
       "      <td>0.992895</td>\n",
       "      <td>2.092477</td>\n",
       "    </tr>\n",
       "    <tr>\n",
       "      <th>min</th>\n",
       "      <td>0.000000</td>\n",
       "      <td>0.000000</td>\n",
       "      <td>0.000000</td>\n",
       "      <td>0.000000</td>\n",
       "      <td>12.00000</td>\n",
       "      <td>0.000000</td>\n",
       "      <td>0.000000</td>\n",
       "      <td>0.000000</td>\n",
       "      <td>0.000000</td>\n",
       "      <td>0.000000</td>\n",
       "      <td>...</td>\n",
       "      <td>0.000000</td>\n",
       "      <td>0.000000</td>\n",
       "      <td>1.000000</td>\n",
       "      <td>0.000000</td>\n",
       "      <td>0.000000</td>\n",
       "      <td>0.000000</td>\n",
       "      <td>0.000000</td>\n",
       "      <td>1.000000</td>\n",
       "      <td>1.000000</td>\n",
       "      <td>1.000000</td>\n",
       "    </tr>\n",
       "    <tr>\n",
       "      <th>25%</th>\n",
       "      <td>0.000000</td>\n",
       "      <td>0.000000</td>\n",
       "      <td>0.000000</td>\n",
       "      <td>1.000000</td>\n",
       "      <td>24.00000</td>\n",
       "      <td>0.000000</td>\n",
       "      <td>0.000000</td>\n",
       "      <td>0.000000</td>\n",
       "      <td>0.000000</td>\n",
       "      <td>0.000000</td>\n",
       "      <td>...</td>\n",
       "      <td>1.000000</td>\n",
       "      <td>0.000000</td>\n",
       "      <td>2.000000</td>\n",
       "      <td>0.000000</td>\n",
       "      <td>0.000000</td>\n",
       "      <td>0.000000</td>\n",
       "      <td>0.000000</td>\n",
       "      <td>6.000000</td>\n",
       "      <td>4.000000</td>\n",
       "      <td>5.000000</td>\n",
       "    </tr>\n",
       "    <tr>\n",
       "      <th>50%</th>\n",
       "      <td>0.000000</td>\n",
       "      <td>0.000000</td>\n",
       "      <td>0.000000</td>\n",
       "      <td>1.000000</td>\n",
       "      <td>27.00000</td>\n",
       "      <td>0.000000</td>\n",
       "      <td>0.000000</td>\n",
       "      <td>0.000000</td>\n",
       "      <td>1.000000</td>\n",
       "      <td>1.000000</td>\n",
       "      <td>...</td>\n",
       "      <td>1.000000</td>\n",
       "      <td>0.000000</td>\n",
       "      <td>3.000000</td>\n",
       "      <td>0.000000</td>\n",
       "      <td>0.000000</td>\n",
       "      <td>0.000000</td>\n",
       "      <td>0.000000</td>\n",
       "      <td>8.000000</td>\n",
       "      <td>5.000000</td>\n",
       "      <td>6.000000</td>\n",
       "    </tr>\n",
       "    <tr>\n",
       "      <th>75%</th>\n",
       "      <td>0.000000</td>\n",
       "      <td>1.000000</td>\n",
       "      <td>1.000000</td>\n",
       "      <td>1.000000</td>\n",
       "      <td>32.00000</td>\n",
       "      <td>1.000000</td>\n",
       "      <td>0.000000</td>\n",
       "      <td>0.000000</td>\n",
       "      <td>1.000000</td>\n",
       "      <td>1.000000</td>\n",
       "      <td>...</td>\n",
       "      <td>1.000000</td>\n",
       "      <td>0.000000</td>\n",
       "      <td>3.000000</td>\n",
       "      <td>2.000000</td>\n",
       "      <td>4.000000</td>\n",
       "      <td>0.000000</td>\n",
       "      <td>1.000000</td>\n",
       "      <td>10.000000</td>\n",
       "      <td>6.000000</td>\n",
       "      <td>8.000000</td>\n",
       "    </tr>\n",
       "    <tr>\n",
       "      <th>max</th>\n",
       "      <td>2.000000</td>\n",
       "      <td>1.000000</td>\n",
       "      <td>1.000000</td>\n",
       "      <td>1.000000</td>\n",
       "      <td>98.00000</td>\n",
       "      <td>1.000000</td>\n",
       "      <td>1.000000</td>\n",
       "      <td>1.000000</td>\n",
       "      <td>1.000000</td>\n",
       "      <td>1.000000</td>\n",
       "      <td>...</td>\n",
       "      <td>1.000000</td>\n",
       "      <td>1.000000</td>\n",
       "      <td>5.000000</td>\n",
       "      <td>30.000000</td>\n",
       "      <td>30.000000</td>\n",
       "      <td>1.000000</td>\n",
       "      <td>1.000000</td>\n",
       "      <td>13.000000</td>\n",
       "      <td>6.000000</td>\n",
       "      <td>8.000000</td>\n",
       "    </tr>\n",
       "  </tbody>\n",
       "</table>\n",
       "<p>8 rows × 22 columns</p>\n",
       "</div>"
      ],
      "text/plain": [
       "        Diabetes_012         HighBP       HighChol      CholCheck  \\\n",
       "count  229781.000000  229781.000000  229781.000000  229781.000000   \n",
       "mean        0.325627       0.454441       0.441760       0.959535   \n",
       "std         0.724623       0.497921       0.496598       0.197047   \n",
       "min         0.000000       0.000000       0.000000       0.000000   \n",
       "25%         0.000000       0.000000       0.000000       1.000000   \n",
       "50%         0.000000       0.000000       0.000000       1.000000   \n",
       "75%         0.000000       1.000000       1.000000       1.000000   \n",
       "max         2.000000       1.000000       1.000000       1.000000   \n",
       "\n",
       "                BMI         Smoker         Stroke  HeartDiseaseorAttack  \\\n",
       "count  229781.00000  229781.000000  229781.000000         229781.000000   \n",
       "mean       28.68567       0.465661       0.044756              0.103216   \n",
       "std         6.78636       0.498821       0.206767              0.304241   \n",
       "min        12.00000       0.000000       0.000000              0.000000   \n",
       "25%        24.00000       0.000000       0.000000              0.000000   \n",
       "50%        27.00000       0.000000       0.000000              0.000000   \n",
       "75%        32.00000       1.000000       0.000000              0.000000   \n",
       "max        98.00000       1.000000       1.000000              1.000000   \n",
       "\n",
       "        PhysActivity         Fruits  ...  AnyHealthcare    NoDocbcCost  \\\n",
       "count  229781.000000  229781.000000  ...  229781.000000  229781.000000   \n",
       "mean        0.733355       0.612966  ...       0.946075       0.092810   \n",
       "std         0.442206       0.487073  ...       0.225871       0.290167   \n",
       "min         0.000000       0.000000  ...       0.000000       0.000000   \n",
       "25%         0.000000       0.000000  ...       1.000000       0.000000   \n",
       "50%         1.000000       1.000000  ...       1.000000       0.000000   \n",
       "75%         1.000000       1.000000  ...       1.000000       0.000000   \n",
       "max         1.000000       1.000000  ...       1.000000       1.000000   \n",
       "\n",
       "             GenHlth       MentHlth       PhysHlth       DiffWalk  \\\n",
       "count  229781.000000  229781.000000  229781.000000  229781.000000   \n",
       "mean        2.601151       3.505373       4.675178       0.185507   \n",
       "std         1.064685       7.713725       9.046568       0.388709   \n",
       "min         1.000000       0.000000       0.000000       0.000000   \n",
       "25%         2.000000       0.000000       0.000000       0.000000   \n",
       "50%         3.000000       0.000000       0.000000       0.000000   \n",
       "75%         3.000000       2.000000       4.000000       0.000000   \n",
       "max         5.000000      30.000000      30.000000       1.000000   \n",
       "\n",
       "                 Sex            Age      Education         Income  \n",
       "count  229781.000000  229781.000000  229781.000000  229781.000000  \n",
       "mean        0.439231       8.086582       4.980568       5.890383  \n",
       "std         0.496295       3.093809       0.992895       2.092477  \n",
       "min         0.000000       1.000000       1.000000       1.000000  \n",
       "25%         0.000000       6.000000       4.000000       5.000000  \n",
       "50%         0.000000       8.000000       5.000000       6.000000  \n",
       "75%         1.000000      10.000000       6.000000       8.000000  \n",
       "max         1.000000      13.000000       6.000000       8.000000  \n",
       "\n",
       "[8 rows x 22 columns]"
      ]
     },
     "execution_count": 26,
     "metadata": {},
     "output_type": "execute_result"
    }
   ],
   "source": [
    "df.describe()"
   ]
  },
  {
   "cell_type": "markdown",
   "id": "56f3fbe5",
   "metadata": {},
   "source": [
    "# Category wise value count for BMI (It is a Numerical data)"
   ]
  },
  {
   "cell_type": "code",
   "execution_count": 27,
   "id": "31a840b5",
   "metadata": {},
   "outputs": [
    {
     "data": {
      "text/plain": [
       "27.0    21551\n",
       "26.0    17808\n",
       "24.0    16537\n",
       "28.0    14933\n",
       "25.0    14809\n",
       "        ...  \n",
       "85.0        1\n",
       "91.0        1\n",
       "86.0        1\n",
       "90.0        1\n",
       "78.0        1\n",
       "Name: BMI, Length: 84, dtype: int64"
      ]
     },
     "execution_count": 27,
     "metadata": {},
     "output_type": "execute_result"
    }
   ],
   "source": [
    "no_of_bmi=df[\"BMI\"].value_counts()\n",
    "no_of_bmi"
   ]
  },
  {
   "cell_type": "markdown",
   "id": "824b9085",
   "metadata": {},
   "source": [
    "# Histogram for BMI"
   ]
  },
  {
   "cell_type": "code",
   "execution_count": 28,
   "id": "d1814bb3",
   "metadata": {},
   "outputs": [
    {
     "data": {
      "image/png": "[encoded data removed]",
      "text/plain": [
       "<Figure size 640x480 with 1 Axes>"
      ]
     },
     "metadata": {},
     "output_type": "display_data"
    }
   ],
   "source": [
    "plt.hist(df[\"BMI\"])\n",
    "plt.title(\"Body Mass Index\")\n",
    "plt.show()\n",
    "# Because the data has a numerical data"
   ]
  },
  {
   "cell_type": "markdown",
   "id": "0d8c97f3",
   "metadata": {},
   "source": [
    "# Observation:\n",
    "1. Majority of people have BMI between 20 to 35\n",
    "2. There are few people who have a BMI between 70 to 90 which is very unhealthy"
   ]
  },
  {
   "cell_type": "code",
   "execution_count": 29,
   "id": "aaa58e54",
   "metadata": {},
   "outputs": [
    {
     "data": {
      "image/png": "[encoded data removed]",
      "text/plain": [
       "<Figure size 606.486x500 with 1 Axes>"
      ]
     },
     "metadata": {},
     "output_type": "display_data"
    }
   ],
   "source": [
    "sns.FacetGrid(df, hue=\"Diabetes_012\",size=5).map(sns.distplot,\"BMI\",kde=\"True\").add_legend()\n",
    "plt.show()"
   ]
  },
  {
   "cell_type": "markdown",
   "id": "4bc9f5a8",
   "metadata": {},
   "source": [
    "# Viewing the Data Frame"
   ]
  },
  {
   "cell_type": "code",
   "execution_count": 30,
   "id": "fe24c007",
   "metadata": {},
   "outputs": [
    {
     "data": {
      "text/html": [
       "<div>\n",
       "<style scoped>\n",
       "    .dataframe tbody tr th:only-of-type {\n",
       "        vertical-align: middle;\n",
       "    }\n",
       "\n",
       "    .dataframe tbody tr th {\n",
       "        vertical-align: top;\n",
       "    }\n",
       "\n",
       "    .dataframe thead th {\n",
       "        text-align: right;\n",
       "    }\n",
       "</style>\n",
       "<table border=\"1\" class=\"dataframe\">\n",
       "  <thead>\n",
       "    <tr style=\"text-align: right;\">\n",
       "      <th></th>\n",
       "      <th>Diabetes_012</th>\n",
       "      <th>HighBP</th>\n",
       "      <th>HighChol</th>\n",
       "      <th>CholCheck</th>\n",
       "      <th>BMI</th>\n",
       "      <th>Smoker</th>\n",
       "      <th>Stroke</th>\n",
       "      <th>HeartDiseaseorAttack</th>\n",
       "      <th>PhysActivity</th>\n",
       "      <th>Fruits</th>\n",
       "      <th>...</th>\n",
       "      <th>AnyHealthcare</th>\n",
       "      <th>NoDocbcCost</th>\n",
       "      <th>GenHlth</th>\n",
       "      <th>MentHlth</th>\n",
       "      <th>PhysHlth</th>\n",
       "      <th>DiffWalk</th>\n",
       "      <th>Sex</th>\n",
       "      <th>Age</th>\n",
       "      <th>Education</th>\n",
       "      <th>Income</th>\n",
       "    </tr>\n",
       "  </thead>\n",
       "  <tbody>\n",
       "    <tr>\n",
       "      <th>count</th>\n",
       "      <td>229781.000000</td>\n",
       "      <td>229781.000000</td>\n",
       "      <td>229781.000000</td>\n",
       "      <td>229781.000000</td>\n",
       "      <td>229781.00000</td>\n",
       "      <td>229781.000000</td>\n",
       "      <td>229781.000000</td>\n",
       "      <td>229781.000000</td>\n",
       "      <td>229781.000000</td>\n",
       "      <td>229781.000000</td>\n",
       "      <td>...</td>\n",
       "      <td>229781.000000</td>\n",
       "      <td>229781.000000</td>\n",
       "      <td>229781.000000</td>\n",
       "      <td>229781.000000</td>\n",
       "      <td>229781.000000</td>\n",
       "      <td>229781.000000</td>\n",
       "      <td>229781.000000</td>\n",
       "      <td>229781.000000</td>\n",
       "      <td>229781.000000</td>\n",
       "      <td>229781.000000</td>\n",
       "    </tr>\n",
       "    <tr>\n",
       "      <th>mean</th>\n",
       "      <td>0.325627</td>\n",
       "      <td>0.454441</td>\n",
       "      <td>0.441760</td>\n",
       "      <td>0.959535</td>\n",
       "      <td>28.68567</td>\n",
       "      <td>0.465661</td>\n",
       "      <td>0.044756</td>\n",
       "      <td>0.103216</td>\n",
       "      <td>0.733355</td>\n",
       "      <td>0.612966</td>\n",
       "      <td>...</td>\n",
       "      <td>0.946075</td>\n",
       "      <td>0.092810</td>\n",
       "      <td>2.601151</td>\n",
       "      <td>3.505373</td>\n",
       "      <td>4.675178</td>\n",
       "      <td>0.185507</td>\n",
       "      <td>0.439231</td>\n",
       "      <td>8.086582</td>\n",
       "      <td>4.980568</td>\n",
       "      <td>5.890383</td>\n",
       "    </tr>\n",
       "    <tr>\n",
       "      <th>std</th>\n",
       "      <td>0.724623</td>\n",
       "      <td>0.497921</td>\n",
       "      <td>0.496598</td>\n",
       "      <td>0.197047</td>\n",
       "      <td>6.78636</td>\n",
       "      <td>0.498821</td>\n",
       "      <td>0.206767</td>\n",
       "      <td>0.304241</td>\n",
       "      <td>0.442206</td>\n",
       "      <td>0.487073</td>\n",
       "      <td>...</td>\n",
       "      <td>0.225871</td>\n",
       "      <td>0.290167</td>\n",
       "      <td>1.064685</td>\n",
       "      <td>7.713725</td>\n",
       "      <td>9.046568</td>\n",
       "      <td>0.388709</td>\n",
       "      <td>0.496295</td>\n",
       "      <td>3.093809</td>\n",
       "      <td>0.992895</td>\n",
       "      <td>2.092477</td>\n",
       "    </tr>\n",
       "    <tr>\n",
       "      <th>min</th>\n",
       "      <td>0.000000</td>\n",
       "      <td>0.000000</td>\n",
       "      <td>0.000000</td>\n",
       "      <td>0.000000</td>\n",
       "      <td>12.00000</td>\n",
       "      <td>0.000000</td>\n",
       "      <td>0.000000</td>\n",
       "      <td>0.000000</td>\n",
       "      <td>0.000000</td>\n",
       "      <td>0.000000</td>\n",
       "      <td>...</td>\n",
       "      <td>0.000000</td>\n",
       "      <td>0.000000</td>\n",
       "      <td>1.000000</td>\n",
       "      <td>0.000000</td>\n",
       "      <td>0.000000</td>\n",
       "      <td>0.000000</td>\n",
       "      <td>0.000000</td>\n",
       "      <td>1.000000</td>\n",
       "      <td>1.000000</td>\n",
       "      <td>1.000000</td>\n",
       "    </tr>\n",
       "    <tr>\n",
       "      <th>25%</th>\n",
       "      <td>0.000000</td>\n",
       "      <td>0.000000</td>\n",
       "      <td>0.000000</td>\n",
       "      <td>1.000000</td>\n",
       "      <td>24.00000</td>\n",
       "      <td>0.000000</td>\n",
       "      <td>0.000000</td>\n",
       "      <td>0.000000</td>\n",
       "      <td>0.000000</td>\n",
       "      <td>0.000000</td>\n",
       "      <td>...</td>\n",
       "      <td>1.000000</td>\n",
       "      <td>0.000000</td>\n",
       "      <td>2.000000</td>\n",
       "      <td>0.000000</td>\n",
       "      <td>0.000000</td>\n",
       "      <td>0.000000</td>\n",
       "      <td>0.000000</td>\n",
       "      <td>6.000000</td>\n",
       "      <td>4.000000</td>\n",
       "      <td>5.000000</td>\n",
       "    </tr>\n",
       "    <tr>\n",
       "      <th>50%</th>\n",
       "      <td>0.000000</td>\n",
       "      <td>0.000000</td>\n",
       "      <td>0.000000</td>\n",
       "      <td>1.000000</td>\n",
       "      <td>27.00000</td>\n",
       "      <td>0.000000</td>\n",
       "      <td>0.000000</td>\n",
       "      <td>0.000000</td>\n",
       "      <td>1.000000</td>\n",
       "      <td>1.000000</td>\n",
       "      <td>...</td>\n",
       "      <td>1.000000</td>\n",
       "      <td>0.000000</td>\n",
       "      <td>3.000000</td>\n",
       "      <td>0.000000</td>\n",
       "      <td>0.000000</td>\n",
       "      <td>0.000000</td>\n",
       "      <td>0.000000</td>\n",
       "      <td>8.000000</td>\n",
       "      <td>5.000000</td>\n",
       "      <td>6.000000</td>\n",
       "    </tr>\n",
       "    <tr>\n",
       "      <th>75%</th>\n",
       "      <td>0.000000</td>\n",
       "      <td>1.000000</td>\n",
       "      <td>1.000000</td>\n",
       "      <td>1.000000</td>\n",
       "      <td>32.00000</td>\n",
       "      <td>1.000000</td>\n",
       "      <td>0.000000</td>\n",
       "      <td>0.000000</td>\n",
       "      <td>1.000000</td>\n",
       "      <td>1.000000</td>\n",
       "      <td>...</td>\n",
       "      <td>1.000000</td>\n",
       "      <td>0.000000</td>\n",
       "      <td>3.000000</td>\n",
       "      <td>2.000000</td>\n",
       "      <td>4.000000</td>\n",
       "      <td>0.000000</td>\n",
       "      <td>1.000000</td>\n",
       "      <td>10.000000</td>\n",
       "      <td>6.000000</td>\n",
       "      <td>8.000000</td>\n",
       "    </tr>\n",
       "    <tr>\n",
       "      <th>max</th>\n",
       "      <td>2.000000</td>\n",
       "      <td>1.000000</td>\n",
       "      <td>1.000000</td>\n",
       "      <td>1.000000</td>\n",
       "      <td>98.00000</td>\n",
       "      <td>1.000000</td>\n",
       "      <td>1.000000</td>\n",
       "      <td>1.000000</td>\n",
       "      <td>1.000000</td>\n",
       "      <td>1.000000</td>\n",
       "      <td>...</td>\n",
       "      <td>1.000000</td>\n",
       "      <td>1.000000</td>\n",
       "      <td>5.000000</td>\n",
       "      <td>30.000000</td>\n",
       "      <td>30.000000</td>\n",
       "      <td>1.000000</td>\n",
       "      <td>1.000000</td>\n",
       "      <td>13.000000</td>\n",
       "      <td>6.000000</td>\n",
       "      <td>8.000000</td>\n",
       "    </tr>\n",
       "  </tbody>\n",
       "</table>\n",
       "<p>8 rows × 22 columns</p>\n",
       "</div>"
      ],
      "text/plain": [
       "        Diabetes_012         HighBP       HighChol      CholCheck  \\\n",
       "count  229781.000000  229781.000000  229781.000000  229781.000000   \n",
       "mean        0.325627       0.454441       0.441760       0.959535   \n",
       "std         0.724623       0.497921       0.496598       0.197047   \n",
       "min         0.000000       0.000000       0.000000       0.000000   \n",
       "25%         0.000000       0.000000       0.000000       1.000000   \n",
       "50%         0.000000       0.000000       0.000000       1.000000   \n",
       "75%         0.000000       1.000000       1.000000       1.000000   \n",
       "max         2.000000       1.000000       1.000000       1.000000   \n",
       "\n",
       "                BMI         Smoker         Stroke  HeartDiseaseorAttack  \\\n",
       "count  229781.00000  229781.000000  229781.000000         229781.000000   \n",
       "mean       28.68567       0.465661       0.044756              0.103216   \n",
       "std         6.78636       0.498821       0.206767              0.304241   \n",
       "min        12.00000       0.000000       0.000000              0.000000   \n",
       "25%        24.00000       0.000000       0.000000              0.000000   \n",
       "50%        27.00000       0.000000       0.000000              0.000000   \n",
       "75%        32.00000       1.000000       0.000000              0.000000   \n",
       "max        98.00000       1.000000       1.000000              1.000000   \n",
       "\n",
       "        PhysActivity         Fruits  ...  AnyHealthcare    NoDocbcCost  \\\n",
       "count  229781.000000  229781.000000  ...  229781.000000  229781.000000   \n",
       "mean        0.733355       0.612966  ...       0.946075       0.092810   \n",
       "std         0.442206       0.487073  ...       0.225871       0.290167   \n",
       "min         0.000000       0.000000  ...       0.000000       0.000000   \n",
       "25%         0.000000       0.000000  ...       1.000000       0.000000   \n",
       "50%         1.000000       1.000000  ...       1.000000       0.000000   \n",
       "75%         1.000000       1.000000  ...       1.000000       0.000000   \n",
       "max         1.000000       1.000000  ...       1.000000       1.000000   \n",
       "\n",
       "             GenHlth       MentHlth       PhysHlth       DiffWalk  \\\n",
       "count  229781.000000  229781.000000  229781.000000  229781.000000   \n",
       "mean        2.601151       3.505373       4.675178       0.185507   \n",
       "std         1.064685       7.713725       9.046568       0.388709   \n",
       "min         1.000000       0.000000       0.000000       0.000000   \n",
       "25%         2.000000       0.000000       0.000000       0.000000   \n",
       "50%         3.000000       0.000000       0.000000       0.000000   \n",
       "75%         3.000000       2.000000       4.000000       0.000000   \n",
       "max         5.000000      30.000000      30.000000       1.000000   \n",
       "\n",
       "                 Sex            Age      Education         Income  \n",
       "count  229781.000000  229781.000000  229781.000000  229781.000000  \n",
       "mean        0.439231       8.086582       4.980568       5.890383  \n",
       "std         0.496295       3.093809       0.992895       2.092477  \n",
       "min         0.000000       1.000000       1.000000       1.000000  \n",
       "25%         0.000000       6.000000       4.000000       5.000000  \n",
       "50%         0.000000       8.000000       5.000000       6.000000  \n",
       "75%         1.000000      10.000000       6.000000       8.000000  \n",
       "max         1.000000      13.000000       6.000000       8.000000  \n",
       "\n",
       "[8 rows x 22 columns]"
      ]
     },
     "execution_count": 30,
     "metadata": {},
     "output_type": "execute_result"
    }
   ],
   "source": [
    "df.describe()"
   ]
  },
  {
   "cell_type": "markdown",
   "id": "4b680fdf",
   "metadata": {},
   "source": [
    "# How many people who smoke have diabetes"
   ]
  },
  {
   "cell_type": "code",
   "execution_count": 31,
   "id": "284588fb",
   "metadata": {},
   "outputs": [],
   "source": [
    "df_smoke=df[df['Smoker']==1]\n",
    "df_smoke=df_smoke[df_smoke['Diabetes_012']==2]"
   ]
  },
  {
   "cell_type": "code",
   "execution_count": 32,
   "id": "fd70f9c2",
   "metadata": {},
   "outputs": [
    {
     "data": {
      "text/plain": [
       "(18223, 2)"
      ]
     },
     "execution_count": 32,
     "metadata": {},
     "output_type": "execute_result"
    }
   ],
   "source": [
    "df_smoke_diab=df_smoke[['Diabetes_012','Smoker']]\n",
    "df_smoke_diab.shape"
   ]
  },
  {
   "cell_type": "code",
   "execution_count": 33,
   "id": "25cd689d",
   "metadata": {},
   "outputs": [
    {
     "data": {
      "text/plain": [
       "(229781, 22)"
      ]
     },
     "execution_count": 33,
     "metadata": {},
     "output_type": "execute_result"
    }
   ],
   "source": [
    "df.shape"
   ]
  },
  {
   "cell_type": "code",
   "execution_count": 34,
   "id": "93ce7ed9",
   "metadata": {},
   "outputs": [
    {
     "name": "stdout",
     "output_type": "stream",
     "text": [
      "Number of diabetic people who smoke 7.930594783728854\n"
     ]
    }
   ],
   "source": [
    "a=(df_smoke_diab.shape[0]/df.shape[0])*100\n",
    "print(\"Number of diabetic people who smoke\",a)"
   ]
  },
  {
   "cell_type": "markdown",
   "id": "3aa2ad52",
   "metadata": {},
   "source": [
    "# How many people who smoke have prediabetes"
   ]
  },
  {
   "cell_type": "code",
   "execution_count": 35,
   "id": "1d68304e",
   "metadata": {},
   "outputs": [],
   "source": [
    "df_smoke=df[df['Smoker']==1]\n",
    "df_smoke=df_smoke[df_smoke['Diabetes_012']==1]"
   ]
  },
  {
   "cell_type": "code",
   "execution_count": 36,
   "id": "8ae63aa2",
   "metadata": {},
   "outputs": [
    {
     "data": {
      "text/plain": [
       "(2281, 2)"
      ]
     },
     "execution_count": 36,
     "metadata": {},
     "output_type": "execute_result"
    }
   ],
   "source": [
    "df_smoke_pdiab=df_smoke[['Diabetes_012','Smoker']]\n",
    "df_smoke_pdiab.shape"
   ]
  },
  {
   "cell_type": "code",
   "execution_count": 37,
   "id": "2143bcd8",
   "metadata": {},
   "outputs": [
    {
     "data": {
      "text/plain": [
       "(229781, 22)"
      ]
     },
     "execution_count": 37,
     "metadata": {},
     "output_type": "execute_result"
    }
   ],
   "source": [
    "df.shape"
   ]
  },
  {
   "cell_type": "code",
   "execution_count": 38,
   "id": "89206a7e",
   "metadata": {},
   "outputs": [
    {
     "name": "stdout",
     "output_type": "stream",
     "text": [
      "Number of Pre-Diabetic people who smoke 0.9926843385658518\n"
     ]
    }
   ],
   "source": [
    "a=(df_smoke_pdiab.shape[0]/df.shape[0])*100\n",
    "print(\"Number of Pre-Diabetic people who smoke\",a)"
   ]
  },
  {
   "cell_type": "markdown",
   "id": "ca3fb769",
   "metadata": {},
   "source": [
    "# What % of smokers are there in data? Plot pie chart and bar plot"
   ]
  },
  {
   "cell_type": "code",
   "execution_count": 39,
   "id": "c3a43fb0",
   "metadata": {},
   "outputs": [
    {
     "data": {
      "text/plain": [
       "0.0    122781\n",
       "1.0    107000\n",
       "Name: Smoker, dtype: int64"
      ]
     },
     "execution_count": 39,
     "metadata": {},
     "output_type": "execute_result"
    }
   ],
   "source": [
    "per_smk=df['Smoker'].value_counts()\n",
    "per_smk"
   ]
  },
  {
   "cell_type": "markdown",
   "id": "276d9e66",
   "metadata": {},
   "source": [
    "# Pie Chart for % Smokers"
   ]
  },
  {
   "cell_type": "code",
   "execution_count": 40,
   "id": "71d38920",
   "metadata": {
    "scrolled": false
   },
   "outputs": [
    {
     "data": {
      "image/png": "[encoded data removed]",
      "text/plain": [
       "<Figure size 640x480 with 1 Axes>"
      ]
     },
     "metadata": {},
     "output_type": "display_data"
    }
   ],
   "source": [
    "labels3=(\"Non Smoker\",\"Smoker\") #per_smk.index\n",
    "sizes3=per_smk.values\n",
    "plt.pie(sizes3,labels=labels3,autopct='%0.5f',shadow=True)\n",
    "plt.title(\"Smoker Record\")\n",
    "plt.show()"
   ]
  },
  {
   "cell_type": "markdown",
   "id": "ff4216c7",
   "metadata": {},
   "source": [
    "# Bar Plot chart for % smokers"
   ]
  },
  {
   "cell_type": "code",
   "execution_count": 92,
   "id": "c59ab572",
   "metadata": {},
   "outputs": [
    {
     "data": {
      "image/png": "[encoded data removed]",
      "text/plain": [
       "<Figure size 640x480 with 1 Axes>"
      ]
     },
     "metadata": {},
     "output_type": "display_data"
    }
   ],
   "source": [
    "sns.barplot(per_smk.index,per_smk.values).set(title=\"Percentage of Smokers\")\n",
    "plt.show()"
   ]
  },
  {
   "cell_type": "markdown",
   "id": "d5661e17",
   "metadata": {},
   "source": [
    "# What % of people have healthy BMI but still diabetes"
   ]
  },
  {
   "cell_type": "code",
   "execution_count": 42,
   "id": "82676ab8",
   "metadata": {},
   "outputs": [
    {
     "data": {
      "text/plain": [
       "(5433, 2)"
      ]
     },
     "execution_count": 42,
     "metadata": {},
     "output_type": "execute_result"
    }
   ],
   "source": [
    "df_bmi=df[(df['BMI']>17) & (df['BMI']<26)]\n",
    "df_bmi=df_bmi[df_bmi['Diabetes_012']==2]\n",
    "df_hbmi_diab=df_bmi[['BMI','Diabetes_012']]\n",
    "df_hbmi_diab.shape\n",
    "# between 18.5 and 24.9 – you're in the healthy weight range"
   ]
  },
  {
   "cell_type": "code",
   "execution_count": 43,
   "id": "a77a961a",
   "metadata": {},
   "outputs": [
    {
     "data": {
      "text/plain": [
       "(229781, 22)"
      ]
     },
     "execution_count": 43,
     "metadata": {},
     "output_type": "execute_result"
    }
   ],
   "source": [
    "df.shape"
   ]
  },
  {
   "cell_type": "code",
   "execution_count": 44,
   "id": "e8da7ff6",
   "metadata": {},
   "outputs": [
    {
     "name": "stdout",
     "output_type": "stream",
     "text": [
      "Number of Diabetic people who have healthy BMI 2.364425257092623\n"
     ]
    }
   ],
   "source": [
    "h=(df_hbmi_diab.shape[0]/df.shape[0])*100\n",
    "print(\"Number of Diabetic people who have healthy BMI\",h)"
   ]
  },
  {
   "cell_type": "markdown",
   "id": "72112f9b",
   "metadata": {},
   "source": [
    "# What % of people does not smoke but have healthy BMI"
   ]
  },
  {
   "cell_type": "code",
   "execution_count": 45,
   "id": "82a6aef8",
   "metadata": {},
   "outputs": [
    {
     "data": {
      "text/plain": [
       "(40693, 2)"
      ]
     },
     "execution_count": 45,
     "metadata": {},
     "output_type": "execute_result"
    }
   ],
   "source": [
    "df_bmi=df[(df['BMI']>17) & (df['BMI']<26)]\n",
    "df_bmi=df_bmi[df_bmi['Smoker']==0]\n",
    "df_hbmi_nsmoker=df_bmi[['BMI','Smoker']]\n",
    "df_hbmi_nsmoker.shape"
   ]
  },
  {
   "cell_type": "code",
   "execution_count": 46,
   "id": "14a8ea4f",
   "metadata": {},
   "outputs": [
    {
     "data": {
      "text/plain": [
       "(229781, 22)"
      ]
     },
     "execution_count": 46,
     "metadata": {},
     "output_type": "execute_result"
    }
   ],
   "source": [
    "df.shape"
   ]
  },
  {
   "cell_type": "code",
   "execution_count": 47,
   "id": "fe74f27f",
   "metadata": {},
   "outputs": [
    {
     "name": "stdout",
     "output_type": "stream",
     "text": [
      "Number of Non-Smoker who have healthy BMI 17.70947119213512\n"
     ]
    }
   ],
   "source": [
    "b=(df_hbmi_nsmoker.shape[0]/df.shape[0])*100\n",
    "print(\"Number of Non-Smoker who have healthy BMI\",b)"
   ]
  },
  {
   "cell_type": "markdown",
   "id": "54cac3b8",
   "metadata": {},
   "source": [
    "# What % of people smoke but have healthy BMI"
   ]
  },
  {
   "cell_type": "code",
   "execution_count": 48,
   "id": "68657589",
   "metadata": {},
   "outputs": [
    {
     "data": {
      "text/plain": [
       "(34787, 2)"
      ]
     },
     "execution_count": 48,
     "metadata": {},
     "output_type": "execute_result"
    }
   ],
   "source": [
    "df_bmi=df[(df['BMI']>17) & (df['BMI']<26) & (df['Smoker']==1)]\n",
    "df_hbmi_smoker=df_bmi[['BMI','Smoker']]\n",
    "df_hbmi_smoker.shape"
   ]
  },
  {
   "cell_type": "code",
   "execution_count": 49,
   "id": "d156acb8",
   "metadata": {},
   "outputs": [
    {
     "data": {
      "text/plain": [
       "(229781, 22)"
      ]
     },
     "execution_count": 49,
     "metadata": {},
     "output_type": "execute_result"
    }
   ],
   "source": [
    "df.shape"
   ]
  },
  {
   "cell_type": "code",
   "execution_count": 50,
   "id": "cd7f20f6",
   "metadata": {},
   "outputs": [
    {
     "name": "stdout",
     "output_type": "stream",
     "text": [
      "Number of Smoker who have healthy BMI 15.139197757865098\n"
     ]
    }
   ],
   "source": [
    "c=(df_hbmi_smoker.shape[0]/df.shape[0])*100\n",
    "print(\"Number of Smoker who have healthy BMI\",c)"
   ]
  },
  {
   "cell_type": "markdown",
   "id": "e8c72378",
   "metadata": {},
   "source": [
    "# Box Plot"
   ]
  },
  {
   "cell_type": "code",
   "execution_count": 51,
   "id": "fcd00cd0",
   "metadata": {},
   "outputs": [
    {
     "data": {
      "text/plain": [
       "<AxesSubplot:xlabel='BMI'>"
      ]
     },
     "execution_count": 51,
     "metadata": {},
     "output_type": "execute_result"
    },
    {
     "data": {
      "image/png": "[encoded data removed]",
      "text/plain": [
       "<Figure size 640x480 with 1 Axes>"
      ]
     },
     "metadata": {},
     "output_type": "display_data"
    }
   ],
   "source": [
    "sns.boxplot(df['BMI'])"
   ]
  },
  {
   "cell_type": "markdown",
   "id": "790bba4c",
   "metadata": {},
   "source": [
    "# Violin Plot"
   ]
  },
  {
   "cell_type": "code",
   "execution_count": 52,
   "id": "a4d84230",
   "metadata": {},
   "outputs": [
    {
     "data": {
      "text/plain": [
       "<AxesSubplot:xlabel='BMI'>"
      ]
     },
     "execution_count": 52,
     "metadata": {},
     "output_type": "execute_result"
    },
    {
     "data": {
      "image/png": "[encoded data removed]",
      "text/plain": [
       "<Figure size 640x480 with 1 Axes>"
      ]
     },
     "metadata": {},
     "output_type": "display_data"
    }
   ],
   "source": [
    "# Combination of boxplot and pdf\n",
    "sns.violinplot(df['BMI'])"
   ]
  },
  {
   "cell_type": "markdown",
   "id": "70257347",
   "metadata": {},
   "source": [
    "# Plot a pie chart stating the diabetes by gender"
   ]
  },
  {
   "cell_type": "code",
   "execution_count": 53,
   "id": "6bdc3eaa",
   "metadata": {},
   "outputs": [
    {
     "data": {
      "text/plain": [
       "(35097, 2)"
      ]
     },
     "execution_count": 53,
     "metadata": {},
     "output_type": "execute_result"
    }
   ],
   "source": [
    "df_diab=df[(df['Diabetes_012']==2)]\n",
    "df_sex_diab=df_diab[['Diabetes_012','Sex']]\n",
    "df_sex_diab.shape"
   ]
  },
  {
   "cell_type": "code",
   "execution_count": 54,
   "id": "bdfd6227",
   "metadata": {},
   "outputs": [
    {
     "data": {
      "text/plain": [
       "0.0    18345\n",
       "1.0    16752\n",
       "Name: Sex, dtype: int64"
      ]
     },
     "execution_count": 54,
     "metadata": {},
     "output_type": "execute_result"
    }
   ],
   "source": [
    "df_sex_diab=df_sex_diab['Sex'].value_counts()\n",
    "df_sex_diab"
   ]
  },
  {
   "cell_type": "code",
   "execution_count": 55,
   "id": "9c0c677a",
   "metadata": {},
   "outputs": [
    {
     "data": {
      "image/png": "[encoded data removed]",
      "text/plain": [
       "<Figure size 640x480 with 1 Axes>"
      ]
     },
     "metadata": {},
     "output_type": "display_data"
    }
   ],
   "source": [
    "labels_sex=(\"Female\",\"Male\") #df_sex_diab.index\n",
    "sizes_sex=df_sex_diab.values\n",
    "plt.pie(sizes_sex,labels=labels_sex,autopct='%0.5f',shadow=True)\n",
    "plt.title(\"Diabetes Record By Gender\")\n",
    "plt.show()"
   ]
  },
  {
   "cell_type": "markdown",
   "id": "7cd8def6",
   "metadata": {},
   "source": [
    "# Pie for People who smoke are involved in physical activity"
   ]
  },
  {
   "cell_type": "code",
   "execution_count": 56,
   "id": "cc544d25",
   "metadata": {
    "scrolled": true
   },
   "outputs": [
    {
     "data": {
      "text/plain": [
       "(107000, 2)"
      ]
     },
     "execution_count": 56,
     "metadata": {},
     "output_type": "execute_result"
    }
   ],
   "source": [
    "df_smoke=df[(df['Smoker']==1)]\n",
    "df_smoke=df_smoke[['Smoker','PhysActivity']]\n",
    "df_smoke.shape"
   ]
  },
  {
   "cell_type": "code",
   "execution_count": 57,
   "id": "7c700715",
   "metadata": {},
   "outputs": [
    {
     "data": {
      "text/plain": [
       "1.0    75074\n",
       "0.0    31926\n",
       "Name: PhysActivity, dtype: int64"
      ]
     },
     "execution_count": 57,
     "metadata": {},
     "output_type": "execute_result"
    }
   ],
   "source": [
    "df_smoke=df_smoke['PhysActivity'].value_counts()\n",
    "df_smoke"
   ]
  },
  {
   "cell_type": "code",
   "execution_count": 58,
   "id": "97fa046c",
   "metadata": {},
   "outputs": [
    {
     "data": {
      "image/png": "[encoded data removed]",
      "text/plain": [
       "<Figure size 640x480 with 1 Axes>"
      ]
     },
     "metadata": {},
     "output_type": "display_data"
    }
   ],
   "source": [
    "labels_smoke=(\"Physical Activity\",\"No Physical Activity\") #df_smoke.index\n",
    "sizes_smoke=df_smoke.values\n",
    "plt.pie(sizes_smoke,labels=labels_smoke,autopct='%0.5f',shadow=True)\n",
    "plt.title(\"Smoker Invovled in Physical Activities\")\n",
    "plt.show()"
   ]
  },
  {
   "cell_type": "code",
   "execution_count": 59,
   "id": "b8158d8a",
   "metadata": {},
   "outputs": [
    {
     "name": "stdout",
     "output_type": "stream",
     "text": [
      "People who smoke are involve in Physical Activity 0.0008703939838367838\n"
     ]
    }
   ],
   "source": [
    "smkphy=(df_smoke.shape[0]/df.shape[0])*100\n",
    "print(\"People who smoke are involve in Physical Activity\",smkphy)"
   ]
  },
  {
   "cell_type": "markdown",
   "id": "21dfce2e",
   "metadata": {},
   "source": [
    "# Pie for People who smokes and have high colestrol have difficulty walking or climbing stairs"
   ]
  },
  {
   "cell_type": "code",
   "execution_count": 60,
   "id": "caf12110",
   "metadata": {},
   "outputs": [
    {
     "data": {
      "text/plain": [
       "(24855, 3)"
      ]
     },
     "execution_count": 60,
     "metadata": {},
     "output_type": "execute_result"
    }
   ],
   "source": [
    "df_walking=df[df['DiffWalk']==1]\n",
    "df_walking=df_walking[df_walking['HighChol']==1]\n",
    "df_walking=df_walking[['DiffWalk','HighChol','Smoker']]\n",
    "df_walking.shape"
   ]
  },
  {
   "cell_type": "code",
   "execution_count": 61,
   "id": "2af99337",
   "metadata": {},
   "outputs": [
    {
     "data": {
      "text/plain": [
       "1.0    14893\n",
       "0.0     9962\n",
       "Name: Smoker, dtype: int64"
      ]
     },
     "execution_count": 61,
     "metadata": {},
     "output_type": "execute_result"
    }
   ],
   "source": [
    "df_walking=df_walking['Smoker'].value_counts()\n",
    "df_walking"
   ]
  },
  {
   "cell_type": "code",
   "execution_count": 62,
   "id": "1a3b91cd",
   "metadata": {},
   "outputs": [
    {
     "data": {
      "image/png": "[encoded data removed]",
      "text/plain": [
       "<Figure size 640x480 with 1 Axes>"
      ]
     },
     "metadata": {},
     "output_type": "display_data"
    }
   ],
   "source": [
    "labels_diff=(\"Smoker\",\"Non Smoker\") #df_walking.index\n",
    "sizes_diff=df_walking.values\n",
    "plt.pie(sizes_diff,labels=labels_diff,autopct='%0.5f',shadow=True)\n",
    "plt.title(\"Smoker and High Colestrol, Difficulty Walking or Climbing Stairs\")\n",
    "plt.show()"
   ]
  },
  {
   "cell_type": "code",
   "execution_count": 63,
   "id": "2e4ee97b",
   "metadata": {},
   "outputs": [
    {
     "name": "stdout",
     "output_type": "stream",
     "text": [
      "People who smokes and have high colestrol having difficulty walking or climbing stairs 0.0008703939838367838\n"
     ]
    }
   ],
   "source": [
    "diff=(df_walking.shape[0]/df.shape[0])*100\n",
    "print(\"People who smokes and have high colestrol having difficulty walking or climbing stairs\",diff)"
   ]
  },
  {
   "cell_type": "markdown",
   "id": "8e9237bc",
   "metadata": {},
   "source": [
    "# Pie for People who consume Veg diet and had a stroke?"
   ]
  },
  {
   "cell_type": "code",
   "execution_count": 64,
   "id": "2cae42cb",
   "metadata": {},
   "outputs": [
    {
     "data": {
      "text/plain": [
       "(182633, 2)"
      ]
     },
     "execution_count": 64,
     "metadata": {},
     "output_type": "execute_result"
    }
   ],
   "source": [
    "df_veg=df[(df['Veggies']==1)]\n",
    "df_veg=df_veg[['Veggies','Stroke']]\n",
    "df_veg.shape"
   ]
  },
  {
   "cell_type": "code",
   "execution_count": 65,
   "id": "9859c51e",
   "metadata": {},
   "outputs": [
    {
     "data": {
      "text/plain": [
       "0.0    175095\n",
       "1.0      7538\n",
       "Name: Stroke, dtype: int64"
      ]
     },
     "execution_count": 65,
     "metadata": {},
     "output_type": "execute_result"
    }
   ],
   "source": [
    "df_veg=df_veg['Stroke'].value_counts()\n",
    "df_veg"
   ]
  },
  {
   "cell_type": "code",
   "execution_count": 66,
   "id": "3afe61db",
   "metadata": {},
   "outputs": [
    {
     "data": {
      "image/png": "[encoded data removed]",
      "text/plain": [
       "<Figure size 640x480 with 1 Axes>"
      ]
     },
     "metadata": {},
     "output_type": "display_data"
    }
   ],
   "source": [
    "labels_veg=(\"No Stroke\",\"Stroke\") #df_veg.index\n",
    "sizes_veg=df_veg.values\n",
    "plt.pie(sizes_veg,labels=labels_veg,autopct=\"%0.5f\",shadow=True)\n",
    "plt.title(\"Veggie Diet having Stroke\")\n",
    "plt.show()"
   ]
  },
  {
   "cell_type": "code",
   "execution_count": 67,
   "id": "6cd4c429",
   "metadata": {},
   "outputs": [
    {
     "name": "stdout",
     "output_type": "stream",
     "text": [
      "People who consume Veg diet and had a stroke 0.0008703939838367838\n"
     ]
    }
   ],
   "source": [
    "veg=(df_veg.shape[0]/df.shape[0])*100\n",
    "print(\"People who consume Veg diet and had a stroke\",veg)"
   ]
  },
  {
   "cell_type": "markdown",
   "id": "73df3db8",
   "metadata": {},
   "source": [
    "# Pie for People who are heavy drinker have Healthy BMI"
   ]
  },
  {
   "cell_type": "code",
   "execution_count": 68,
   "id": "b1060ff0",
   "metadata": {},
   "outputs": [
    {
     "data": {
      "text/plain": [
       "(75480, 2)"
      ]
     },
     "execution_count": 68,
     "metadata": {},
     "output_type": "execute_result"
    }
   ],
   "source": [
    "df_drink=df[(df['BMI']>17) & (df['BMI']<26)]\n",
    "df_drink=df_drink[['HvyAlcoholConsump','BMI']]\n",
    "df_drink.shape"
   ]
  },
  {
   "cell_type": "code",
   "execution_count": 69,
   "id": "fc8f5b4d",
   "metadata": {},
   "outputs": [
    {
     "data": {
      "text/plain": [
       "0.0    69610\n",
       "1.0     5870\n",
       "Name: HvyAlcoholConsump, dtype: int64"
      ]
     },
     "execution_count": 69,
     "metadata": {},
     "output_type": "execute_result"
    }
   ],
   "source": [
    "df_drink=df_drink['HvyAlcoholConsump'].value_counts()\n",
    "df_drink"
   ]
  },
  {
   "cell_type": "code",
   "execution_count": 70,
   "id": "71abd49d",
   "metadata": {},
   "outputs": [
    {
     "data": {
      "image/png": "[encoded data removed]",
      "text/plain": [
       "<Figure size 640x480 with 1 Axes>"
      ]
     },
     "metadata": {},
     "output_type": "display_data"
    }
   ],
   "source": [
    "labels_drink=(\"Light/No Alcohol Consumption\",\"Heavy Alcohol Consumption\") #df_drink.index\n",
    "sizes_drink=df_drink.values\n",
    "plt.pie(sizes_drink,labels=labels_drink,autopct=\"%0.5f\",shadow=True)\n",
    "plt.title(\"Body Mass Index Record By Alcohol Consumption\")\n",
    "plt.show()"
   ]
  },
  {
   "cell_type": "code",
   "execution_count": 71,
   "id": "12df699d",
   "metadata": {},
   "outputs": [
    {
     "name": "stdout",
     "output_type": "stream",
     "text": [
      "People who are heavy drinker have Healthy BMI 0.0008703939838367838\n"
     ]
    }
   ],
   "source": [
    "drink=(df_drink.shape[0]/df.shape[0])*100\n",
    "print(\"People who are heavy drinker have Healthy BMI\",drink)"
   ]
  },
  {
   "cell_type": "markdown",
   "id": "191f6b0b",
   "metadata": {},
   "source": [
    "# Pie for People who are in age group of 18-24 have obesity"
   ]
  },
  {
   "cell_type": "code",
   "execution_count": 72,
   "id": "885a9ca3",
   "metadata": {},
   "outputs": [
    {
     "data": {
      "text/plain": [
       "(2636, 2)"
      ]
     },
     "execution_count": 72,
     "metadata": {},
     "output_type": "execute_result"
    }
   ],
   "source": [
    "df_obesity=df[(df['Age']==1) & (df['BMI']>17) & (df['BMI']<25)]\n",
    "df_obesity=df_obesity[['Age','BMI']]\n",
    "df_obesity.shape"
   ]
  },
  {
   "cell_type": "code",
   "execution_count": 73,
   "id": "f3f0b32a",
   "metadata": {},
   "outputs": [
    {
     "data": {
      "text/plain": [
       "22.0    549\n",
       "24.0    504\n",
       "23.0    484\n",
       "21.0    414\n",
       "20.0    349\n",
       "19.0    229\n",
       "18.0    107\n",
       "Name: BMI, dtype: int64"
      ]
     },
     "execution_count": 73,
     "metadata": {},
     "output_type": "execute_result"
    }
   ],
   "source": [
    "df_obesity=df_obesity['BMI'].value_counts()\n",
    "df_obesity"
   ]
  },
  {
   "cell_type": "code",
   "execution_count": 74,
   "id": "5b2b002a",
   "metadata": {
    "scrolled": true
   },
   "outputs": [
    {
     "data": {
      "image/png": "[encoded data removed]",
      "text/plain": [
       "<Figure size 640x480 with 1 Axes>"
      ]
     },
     "metadata": {},
     "output_type": "display_data"
    }
   ],
   "source": [
    "labels_obesity=df_obesity.index\n",
    "sizes_obesity=df_obesity.values\n",
    "plt.pie(sizes_obesity,labels=labels_obesity,autopct=\"%0.5f\",shadow=True)\n",
    "plt.show()"
   ]
  },
  {
   "cell_type": "markdown",
   "id": "d9eb79a3",
   "metadata": {},
   "source": [
    "# People who are non smoker had a heart attack"
   ]
  },
  {
   "cell_type": "code",
   "execution_count": 75,
   "id": "4e1c1458",
   "metadata": {},
   "outputs": [
    {
     "data": {
      "text/plain": [
       "(122781, 2)"
      ]
     },
     "execution_count": 75,
     "metadata": {},
     "output_type": "execute_result"
    }
   ],
   "source": [
    "df_ns_ha=df[(df['Smoker']==0)]\n",
    "df_ns_ha=df_ns_ha[['Smoker','HeartDiseaseorAttack']]\n",
    "df_ns_ha.shape"
   ]
  },
  {
   "cell_type": "code",
   "execution_count": 76,
   "id": "bd1037cb",
   "metadata": {},
   "outputs": [
    {
     "data": {
      "text/plain": [
       "0.0    113775\n",
       "1.0      9006\n",
       "Name: HeartDiseaseorAttack, dtype: int64"
      ]
     },
     "execution_count": 76,
     "metadata": {},
     "output_type": "execute_result"
    }
   ],
   "source": [
    "df_ns_ha=df_ns_ha['HeartDiseaseorAttack'].value_counts()\n",
    "df_ns_ha"
   ]
  },
  {
   "cell_type": "code",
   "execution_count": 77,
   "id": "4f317df4",
   "metadata": {},
   "outputs": [
    {
     "data": {
      "image/png": "[encoded data removed]",
      "text/plain": [
       "<Figure size 640x480 with 1 Axes>"
      ]
     },
     "metadata": {},
     "output_type": "display_data"
    }
   ],
   "source": [
    "labels_nsha=(\"No Heart Disease/Attack\",\"Heart Disease/Attack\") #df_ns_ha.index\n",
    "sizes_nsha=df_ns_ha.values\n",
    "plt.pie(sizes_nsha,labels=labels_nsha,autopct=\"%0.2f\",shadow=True)\n",
    "plt.title(\"Heart Disease/Attack Record By Smoker\")\n",
    "plt.show()"
   ]
  },
  {
   "cell_type": "markdown",
   "id": "c6a26e0c",
   "metadata": {},
   "source": [
    "# Plot a chart who's General health is excellent by gender"
   ]
  },
  {
   "cell_type": "code",
   "execution_count": 78,
   "id": "c74fdd93",
   "metadata": {},
   "outputs": [
    {
     "data": {
      "text/plain": [
       "(34907, 2)"
      ]
     },
     "execution_count": 78,
     "metadata": {},
     "output_type": "execute_result"
    }
   ],
   "source": [
    "df_genhlth=df[(df['GenHlth']==1)]\n",
    "df_genhlth=df_genhlth[['GenHlth','Sex']]\n",
    "df_genhlth.shape"
   ]
  },
  {
   "cell_type": "code",
   "execution_count": 79,
   "id": "c50667b2",
   "metadata": {},
   "outputs": [
    {
     "data": {
      "text/plain": [
       "0.0    19366\n",
       "1.0    15541\n",
       "Name: Sex, dtype: int64"
      ]
     },
     "execution_count": 79,
     "metadata": {},
     "output_type": "execute_result"
    }
   ],
   "source": [
    "df_genhlth=df_genhlth['Sex'].value_counts()\n",
    "df_genhlth"
   ]
  },
  {
   "cell_type": "code",
   "execution_count": 80,
   "id": "6cf22c50",
   "metadata": {},
   "outputs": [
    {
     "data": {
      "image/png": "[encoded data removed]",
      "text/plain": [
       "<Figure size 640x480 with 1 Axes>"
      ]
     },
     "metadata": {},
     "output_type": "display_data"
    }
   ],
   "source": [
    "labels_genhlth=('Female','Male') #df_genhlth.index\n",
    "sizes_genhlth=df_genhlth.values\n",
    "plt.pie(sizes_genhlth,labels=labels_genhlth,autopct=\"%0.2f\",shadow=True)\n",
    "plt.title(\"Excellent General Health By Gender\")\n",
    "plt.show()"
   ]
  },
  {
   "cell_type": "code",
   "execution_count": null,
   "id": "d8742af9",
   "metadata": {},
   "outputs": [],
   "source": []
  },
  {
   "cell_type": "code",
   "execution_count": null,
   "id": "09976777",
   "metadata": {},
   "outputs": [],
   "source": []
  },
  {
   "cell_type": "code",
   "execution_count": null,
   "id": "8a7b564f",
   "metadata": {},
   "outputs": [],
   "source": []
  },
  {
   "cell_type": "code",
   "execution_count": null,
   "id": "3ffa0a44",
   "metadata": {},
   "outputs": [],
   "source": []
  },
  {
   "cell_type": "code",
   "execution_count": null,
   "id": "c430f3c0",
   "metadata": {},
   "outputs": [],
   "source": []
  },
  {
   "cell_type": "code",
   "execution_count": null,
   "id": "ba013882",
   "metadata": {},
   "outputs": [],
   "source": []
  },
  {
   "cell_type": "code",
   "execution_count": null,
   "id": "b9550869",
   "metadata": {},
   "outputs": [],
   "source": []
  },
  {
   "cell_type": "code",
   "execution_count": null,
   "id": "849f84a4",
   "metadata": {},
   "outputs": [],
   "source": []
  },
  {
   "cell_type": "code",
   "execution_count": null,
   "id": "6c33414d",
   "metadata": {},
   "outputs": [],
   "source": []
  },
  {
   "cell_type": "code",
   "execution_count": null,
   "id": "6efa5365",
   "metadata": {},
   "outputs": [],
   "source": []
  },
  {
   "cell_type": "code",
   "execution_count": null,
   "id": "01651007",
   "metadata": {},
   "outputs": [],
   "source": []
  },
  {
   "cell_type": "code",
   "execution_count": null,
   "id": "26f3cce8",
   "metadata": {},
   "outputs": [],
   "source": []
  },
  {
   "cell_type": "code",
   "execution_count": null,
   "id": "6505a849",
   "metadata": {},
   "outputs": [],
   "source": []
  }
 ],
 "metadata": {
  "kernelspec": {
   "display_name": "Python 3 (ipykernel)",
   "language": "python",
   "name": "python3"
  },
  "language_info": {
   "codemirror_mode": {
    "name": "ipython",
    "version": 3
   },
   "file_extension": ".py",
   "mimetype": "text/x-python",
   "name": "python",
   "nbconvert_exporter": "python",
   "pygments_lexer": "ipython3",
   "version": "3.9.13"
  }
 },
 "nbformat": 4,
 "nbformat_minor": 5
}
