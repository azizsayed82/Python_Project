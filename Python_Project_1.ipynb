{
 "cells": [
  {
   "cell_type": "markdown",
   "id": "29aa0d4c",
   "metadata": {},
   "source": [
    "# Object-oriented programming"
   ]
  },
  {
   "cell_type": "code",
   "execution_count": 1,
   "id": "6147deff",
   "metadata": {},
   "outputs": [],
   "source": [
    "import random \n",
    "import string\n",
    "class ShortURL:\n",
    "    \n",
    "    def __init__(self): # constructor; not must, but, good to have;  initialize all attributes here\n",
    "        self.d=dict()\n",
    "  \n",
    "        \n",
    "\n",
    "    # given a long URL, get a short URL\n",
    "    def getShortURL(self, longURL): # first argument to all methods is \"self\" => this object\n",
    "        # length = random value in 6-10\n",
    "        l = random.randint(6,10);\n",
    "        \n",
    "\n",
    "        # generate random characters into a string of length l\n",
    "        chars = string.ascii_lowercase\n",
    "        shortURL = ''.join(random.choice(chars) for i in range(l))\n",
    "        \n",
    "\n",
    "        # check if this string is already present in dict d\n",
    "        if shortURL in self.d:\n",
    "            return getShortURL(longURL);\n",
    "        else:\n",
    "            self.d[shortURL] = longURL;\n",
    "\n",
    "        \n",
    "        r = \"https://www.tinyurl.com/\"+shortURL\n",
    "        return r;\n",
    "\n",
    "    def getLongURL(self, shortURL):\n",
    "\n",
    "       # print(self.d); # print statemnt for debugging\n",
    "        \n",
    "        # extarct key from URL https://www.shortURL.com/mxzmuis ---> mxzmuis\n",
    "        k = shortURL[26:];\n",
    "        \n",
    "\n",
    "        if k in self.d:\n",
    "            return self.d[k];\n",
    "        else:\n",
    "            return None;\n"
   ]
  },
  {
   "cell_type": "code",
   "execution_count": 2,
   "id": "fd1b4322",
   "metadata": {},
   "outputs": [
    {
     "name": "stdout",
     "output_type": "stream",
     "text": [
      "dictionary for s object {'bhyzvz': 'https://github.com/azizsayed82/Python_Project/blob/main/README.md'}\n",
      "{}\n",
      "dictionary for f object {'livkgvrqto': 'https://github.com/azizsayed82/Python_Project/blob/main/README.md'}\n"
     ]
    }
   ],
   "source": [
    "# Class: datatype/DS & Object: variable of a class\n",
    "s= ShortURL() # constructor being called; memory allocated.\n",
    "s.getShortURL(\"https://github.com/azizsayed82/Python_Project/blob/main/README.md\")\n",
    "print(\"dictionary for s object\",s.d)\n",
    "f=ShortURL()\n",
    "print(f.d)\n",
    "f.getShortURL(\"https://github.com/azizsayed82/Python_Project/blob/main/README.md\")\n",
    "print(\"dictionary for f object\",f.d)\n"
   ]
  },
  {
   "cell_type": "code",
   "execution_count": 3,
   "id": "b045d5af",
   "metadata": {},
   "outputs": [
    {
     "data": {
      "text/plain": [
       "'https://www.tinyurl.com/xkjjzlmal'"
      ]
     },
     "execution_count": 3,
     "metadata": {},
     "output_type": "execute_result"
    }
   ],
   "source": [
    "s.getShortURL(\"https://github.com/azizsayed82/akjdlksjdlkjsfljsf\")"
   ]
  },
  {
   "cell_type": "code",
   "execution_count": 4,
   "id": "7da21763",
   "metadata": {},
   "outputs": [
    {
     "name": "stdout",
     "output_type": "stream",
     "text": [
      "{'bhyzvz': 'https://github.com/azizsayed82/Python_Project/blob/main/README.md', 'xkjjzlmal': 'https://github.com/azizsayed82/akjdlksjdlkjsfljsf'}\n",
      "{'livkgvrqto': 'https://github.com/azizsayed82/Python_Project/blob/main/README.md'}\n"
     ]
    }
   ],
   "source": [
    "print(s.d)\n",
    "print(f.d)"
   ]
  },
  {
   "cell_type": "code",
   "execution_count": 5,
   "id": "cf085c19",
   "metadata": {},
   "outputs": [
    {
     "data": {
      "text/plain": [
       "'https://www.tinyurl.com/izsavhx'"
      ]
     },
     "execution_count": 5,
     "metadata": {},
     "output_type": "execute_result"
    }
   ],
   "source": [
    "s.getShortURL(\"https://github.com/Aziz34544545334\")"
   ]
  },
  {
   "cell_type": "code",
   "execution_count": 6,
   "id": "c19ce62f",
   "metadata": {},
   "outputs": [
    {
     "name": "stdout",
     "output_type": "stream",
     "text": [
      "{'bhyzvz': 'https://github.com/azizsayed82/Python_Project/blob/main/README.md', 'xkjjzlmal': 'https://github.com/azizsayed82/akjdlksjdlkjsfljsf', 'izsavhx': 'https://github.com/Aziz34544545334'}\n"
     ]
    }
   ],
   "source": [
    "print(s.d)"
   ]
  },
  {
   "cell_type": "code",
   "execution_count": 7,
   "id": "57c1d334",
   "metadata": {},
   "outputs": [
    {
     "name": "stdout",
     "output_type": "stream",
     "text": [
      "https://www.tinyurl.com/imhwgeoku\n"
     ]
    }
   ],
   "source": [
    "print(s.getShortURL(\"https://github.com/Aziz23235\"))"
   ]
  },
  {
   "cell_type": "code",
   "execution_count": 8,
   "id": "59a46470",
   "metadata": {},
   "outputs": [
    {
     "name": "stdout",
     "output_type": "stream",
     "text": [
      "None\n"
     ]
    }
   ],
   "source": [
    "print(s.getLongURL(\"https://www.tinyurl.com/luxxtdwxkp\"))"
   ]
  },
  {
   "cell_type": "markdown",
   "id": "0fdf1e43",
   "metadata": {},
   "source": [
    "# "
   ]
  },
  {
   "cell_type": "code",
   "execution_count": 9,
   "id": "7ec87857",
   "metadata": {},
   "outputs": [],
   "source": [
    "# Class variables shared by all objects\n",
    "\n",
    "# Class: group all variables/attributes and functions/methods into a soingle logical unit\n",
    "import random\n",
    "import string\n",
    "class ShortURL1:\n",
    "    \n",
    "    URLPrefix = \"https://www.shortURL.com/\"; # class variable shared by all objects\n",
    "    \n",
    "    def __init__(self): # constructor; not must, but, good to have;  initialize all attributes here\n",
    "        self.d=dict();\n",
    "\n",
    "    # given a long URL, get a short URL\n",
    "    def getShortURL(self, longURL): # first argument to all methods is \"self\" => this object\n",
    "        # length = random value in 6-10\n",
    "        l = random.randint(6,10);\n",
    "        \n",
    "\n",
    "        # generate random characters into a string of length l\n",
    "        chars = string.ascii_lowercase\n",
    "        shortURL = ''.join(random.choice(chars) for i in range(l))\n",
    "        \n",
    "\n",
    "        # check if this string is already present in dict d\n",
    "        if shortURL in self.d:\n",
    "            return getShortURL(longURL);\n",
    "        else:\n",
    "            self.d[shortURL] = longURL;\n",
    "\n",
    "        \n",
    "        r = self.URLPrefix + shortURL\n",
    "        return r;\n",
    "\n",
    "    def getLongURL(self, shortURL):\n",
    "\n",
    "       # print(self.d); # print statemnt for debugging\n",
    "        \n",
    "        # extarct key from URL https://www.shortURL.com/mxzmuis ---> mxzmuis\n",
    "        k = shortURL[25:];\n",
    "        \n",
    "\n",
    "        if k in self.d:\n",
    "            return self.d[k];\n",
    "        else:\n",
    "            return None;\n"
   ]
  },
  {
   "cell_type": "code",
   "execution_count": 10,
   "id": "c163bd2e",
   "metadata": {},
   "outputs": [
    {
     "name": "stdout",
     "output_type": "stream",
     "text": [
      "https://www.shortURL.com/\n"
     ]
    }
   ],
   "source": [
    "s1 = ShortURL1();\n",
    "print(s1.URLPrefix)"
   ]
  },
  {
   "cell_type": "code",
   "execution_count": 11,
   "id": "b3b4895c",
   "metadata": {},
   "outputs": [
    {
     "name": "stdout",
     "output_type": "stream",
     "text": [
      "{}\n",
      "https://www.shortURL.com/\n"
     ]
    }
   ],
   "source": [
    "print(s1.d)\n",
    "print(s1.URLPrefix)"
   ]
  },
  {
   "cell_type": "code",
   "execution_count": 12,
   "id": "bdbfb328",
   "metadata": {},
   "outputs": [
    {
     "name": "stdout",
     "output_type": "stream",
     "text": [
      "https://www.shortURL.com/\n",
      "{}\n"
     ]
    }
   ],
   "source": [
    "s1a = ShortURL1();\n",
    "print(s1a.URLPrefix);\n",
    "print(s1a.d)"
   ]
  },
  {
   "cell_type": "markdown",
   "id": "86ea73a6",
   "metadata": {},
   "source": [
    "# "
   ]
  },
  {
   "cell_type": "code",
   "execution_count": 13,
   "id": "2811cc10",
   "metadata": {},
   "outputs": [],
   "source": [
    "\n",
    "# \"Private Members\"\n",
    "\n",
    "# Class: group all variables/attributes and functions/methods into a soingle logical unit\n",
    "\n",
    "class ShortURL2:\n",
    "    \n",
    "    classVar = \"test\"; # Public => accesible directly from outside the class\n",
    "    \n",
    "    __URLPrefix = \"https://www.shortURL.com/\"; # \"Private\" members. Member => attribute or method\n",
    "    \n",
    "    \n",
    "    \n",
    "    def __init__(self): # constructor; not must, but, good to have;  initialize all attributes here\n",
    "        self.d=dict();\n",
    "        \n",
    "    def private_member(self):\n",
    "        __URLPrefix = \"https://www.shortURL.com/\"\n",
    "        return __URLPrefix\n",
    "\n",
    "    # given a long URL, get a short URL\n",
    "    def getShortURL(self, longURL): # first argument to all methods is \"self\" => this object\n",
    "        # length = random value in 6-10\n",
    "        l = random.randint(6,10);\n",
    "        \n",
    "\n",
    "        # generate random characters into a string of length l\n",
    "        chars = string.ascii_lowercase\n",
    "        shortURL = ''.join(random.choice(chars) for i in range(l))\n",
    "        \n",
    "\n",
    "        # check if this string is already present in dict d\n",
    "        if shortURL in self.d:\n",
    "            return getShortURL(longURL);\n",
    "        else:\n",
    "            self.d[shortURL] = longURL;\n",
    "\n",
    "        \n",
    "        r = self.__URLPrefix + shortURL\n",
    "        return r;\n",
    "\n",
    "    def getLongURL(self, shortURL):\n",
    "\n",
    "       # print(self.d); # print statemnt for debugging\n",
    "        \n",
    "        # extarct key from URL https://www.shortURL.com/mxzmuis ---> mxzmuis\n",
    "        k = shortURL[25:];\n",
    "        \n",
    "\n",
    "        if k in self.d:\n",
    "            return self.d[k];\n",
    "        else:\n",
    "            return None;\n"
   ]
  },
  {
   "cell_type": "code",
   "execution_count": 14,
   "id": "c1ff902e",
   "metadata": {},
   "outputs": [
    {
     "data": {
      "text/plain": [
       "'https://www.shortURL.com/'"
      ]
     },
     "execution_count": 14,
     "metadata": {},
     "output_type": "execute_result"
    }
   ],
   "source": [
    "s2 = ShortURL2();\n",
    "s2.private_member()"
   ]
  },
  {
   "cell_type": "code",
   "execution_count": 15,
   "id": "f7931738",
   "metadata": {},
   "outputs": [],
   "source": [
    "# Following is the final implementation of ShortURL in the library\n",
    "import random\n",
    "import string\n",
    "\n",
    "class ShortURLFinal:\n",
    "    \n",
    "    URLPrefix = \"https://www.shortURL.com/\"; # class-variable\n",
    "    \n",
    "    def __init__(self): # constructor; not must, but, good to have;  initialize all attributes here\n",
    "        self.d=dict();\n",
    "\n",
    "    # given a long URL, get a short URL\n",
    "    def getShortURL(self, longURL): # first argument to all methods is \"self\" => this object\n",
    "        # length = random value in 6-10\n",
    "        l = random.randint(6,10);\n",
    "        \n",
    "\n",
    "        # generate random characters into a string of length l\n",
    "        chars = string.ascii_lowercase\n",
    "        shortURL = ''.join(random.choice(chars) for i in range(l))\n",
    "        \n",
    "\n",
    "        # check if this string is already present in dict d\n",
    "        if shortURL in self.d:\n",
    "            return getShortURL(longURL);\n",
    "        else:\n",
    "            self.d[shortURL] = longURL;\n",
    "\n",
    "        \n",
    "        r = self.URLPrefix + shortURL\n",
    "        return r;\n",
    "\n",
    "    def getLongURL(self, shortURL):\n",
    "\n",
    "       # print(self.d); # print statemnt for debugging\n",
    "        \n",
    "        # extarct key from URL https://www.shortURL.com/mxzmuis ---> mxzmuis\n",
    "        k = shortURL[22:];\n",
    "        \n",
    "\n",
    "        if k in self.d:\n",
    "            return self.d[k];\n",
    "        else:\n",
    "            return None;\n"
   ]
  },
  {
   "cell_type": "code",
   "execution_count": 16,
   "id": "d3d4a942",
   "metadata": {},
   "outputs": [],
   "source": [
    "# Lets define MyURLShortner based on ShortURLFinal\n",
    "\n",
    "# Inheritence: baseclass, derived class [https://docs.python.org/3/tutorial/classes.html#inheritance]\n",
    "class MyURLShortner(ShortURLFinal):\n",
    "    URLPrefix = \"www.myurlshortner.com/\" # overriding as same name as base-class\n",
    "    \n",
    "    \n",
    "    # given a long URL, get a short URL\n",
    "    def getShortURL(self, longURL): # overriding as same name as base-class, use both digits and lowercase\n",
    "        # length = random value in 6-10\n",
    "        l = random.randint(6,10);\n",
    "        \n",
    "\n",
    "        # generate random characters into a string of length l\n",
    "        chars = string.ascii_lowercase + string.digits # both digits and lowercase\n",
    "        shortURL = ''.join(random.choice(chars) for i in range(l))\n",
    "        \n",
    "\n",
    "        # check if this string is already present in dict d\n",
    "        if shortURL in self.d:\n",
    "            return getShortURL(longURL);\n",
    "        else:\n",
    "            self.d[shortURL] = longURL;\n",
    "\n",
    "        \n",
    "        r = self.URLPrefix + shortURL\n",
    "        return r;\n",
    "    \n",
    "    # getLongURL and dict \"d\" not changed"
   ]
  },
  {
   "cell_type": "code",
   "execution_count": 17,
   "id": "857c8760",
   "metadata": {},
   "outputs": [
    {
     "name": "stdout",
     "output_type": "stream",
     "text": [
      "{}\n"
     ]
    }
   ],
   "source": [
    "m2 = MyURLShortner(); # base-class constructor is executed\n",
    "\n",
    "print(m2.d)\n"
   ]
  },
  {
   "cell_type": "code",
   "execution_count": 18,
   "id": "d0a3e055",
   "metadata": {},
   "outputs": [
    {
     "name": "stdout",
     "output_type": "stream",
     "text": [
      "www.myurlshortner.com/ntxhe5tz\n"
     ]
    }
   ],
   "source": [
    "print(m2.getShortURL(\"https://github.com/Aziz23235/project\"))"
   ]
  },
  {
   "cell_type": "code",
   "execution_count": 19,
   "id": "e419edca",
   "metadata": {},
   "outputs": [
    {
     "name": "stdout",
     "output_type": "stream",
     "text": [
      "None\n"
     ]
    }
   ],
   "source": [
    "print(m2.getLongURL(\"www.myurlshortner.com/6pnks2e\"))"
   ]
  },
  {
   "cell_type": "markdown",
   "id": "13ee7c22",
   "metadata": {},
   "source": [
    "# Project 2:"
   ]
  },
  {
   "cell_type": "markdown",
   "id": "43324a24",
   "metadata": {},
   "source": [
    "# Case Study: Uber and Lyft Cab Price Dataset"
   ]
  },
  {
   "cell_type": "markdown",
   "id": "8532e487",
   "metadata": {},
   "source": [
    "# Libraries in Data Analytics\n",
    "1. Pandas(Python Data Analysis)\n",
    "2. Numpy(Numerical Python)\n",
    "3. Matplotlib(Library used to visualize the plots)\n",
    "4. Seaborn(Its also a visualization library but more colorful and interactive)"
   ]
  },
  {
   "cell_type": "markdown",
   "id": "2247167f",
   "metadata": {},
   "source": [
    "# Dataset Info\n",
    "distance\n",
    "distance between source and destination\n",
    "\n",
    "cab_type\n",
    "Uber or Lyft\n",
    "\n",
    "time_stamp\n",
    "epoch time when data was queried\n",
    "\n",
    "destination\n",
    "destination of the ride\n",
    "\n",
    "source\n",
    "the starting point of the ride\n",
    "\n",
    "price\n",
    "price estimate for the ride in USD\n",
    "\n",
    "surge_multiplier\n",
    "the multiplier by which price was increased, default 1\n",
    "\n",
    "id\n",
    "unique identifier\n",
    "\n",
    "product_id\n",
    "uber/lyft identifier for cab-type\n",
    "\n",
    "name\n",
    "Visible type of the cab eg: Uber Pool, UberXL"
   ]
  },
  {
   "cell_type": "code",
   "execution_count": 35,
   "id": "84dd8866",
   "metadata": {},
   "outputs": [],
   "source": [
    "import pandas as pd\n",
    "import numpy as np\n",
    "import matplotlib.pyplot as plt\n",
    "import seaborn as sns\n",
    "import warnings\n",
    "warnings.filterwarnings(\"ignore\")"
   ]
  },
  {
   "cell_type": "code",
   "execution_count": 21,
   "id": "232ef333",
   "metadata": {},
   "outputs": [
    {
     "name": "stdout",
     "output_type": "stream",
     "text": [
      "<class 'pandas.core.frame.DataFrame'>\n"
     ]
    }
   ],
   "source": [
    "df=pd.read_csv(\"cab_rides.csv\")\n",
    "print(type(df))\n",
    "\n",
    "#data frame"
   ]
  },
  {
   "cell_type": "code",
   "execution_count": 22,
   "id": "9156da8d",
   "metadata": {},
   "outputs": [
    {
     "data": {
      "text/html": [
       "<div>\n",
       "<style scoped>\n",
       "    .dataframe tbody tr th:only-of-type {\n",
       "        vertical-align: middle;\n",
       "    }\n",
       "\n",
       "    .dataframe tbody tr th {\n",
       "        vertical-align: top;\n",
       "    }\n",
       "\n",
       "    .dataframe thead th {\n",
       "        text-align: right;\n",
       "    }\n",
       "</style>\n",
       "<table border=\"1\" class=\"dataframe\">\n",
       "  <thead>\n",
       "    <tr style=\"text-align: right;\">\n",
       "      <th></th>\n",
       "      <th>distance</th>\n",
       "      <th>cab_type</th>\n",
       "      <th>time_stamp</th>\n",
       "      <th>destination</th>\n",
       "      <th>source</th>\n",
       "      <th>price</th>\n",
       "      <th>surge_multiplier</th>\n",
       "      <th>id</th>\n",
       "      <th>product_id</th>\n",
       "      <th>name</th>\n",
       "    </tr>\n",
       "  </thead>\n",
       "  <tbody>\n",
       "    <tr>\n",
       "      <th>0</th>\n",
       "      <td>0.44</td>\n",
       "      <td>Lyft</td>\n",
       "      <td>1544952607890</td>\n",
       "      <td>North Station</td>\n",
       "      <td>Haymarket Square</td>\n",
       "      <td>5.0</td>\n",
       "      <td>1.0</td>\n",
       "      <td>424553bb-7174-41ea-aeb4-fe06d4f4b9d7</td>\n",
       "      <td>lyft_line</td>\n",
       "      <td>Shared</td>\n",
       "    </tr>\n",
       "    <tr>\n",
       "      <th>1</th>\n",
       "      <td>0.44</td>\n",
       "      <td>Lyft</td>\n",
       "      <td>1543284023677</td>\n",
       "      <td>North Station</td>\n",
       "      <td>Haymarket Square</td>\n",
       "      <td>11.0</td>\n",
       "      <td>1.0</td>\n",
       "      <td>4bd23055-6827-41c6-b23b-3c491f24e74d</td>\n",
       "      <td>lyft_premier</td>\n",
       "      <td>Lux</td>\n",
       "    </tr>\n",
       "    <tr>\n",
       "      <th>2</th>\n",
       "      <td>0.44</td>\n",
       "      <td>Lyft</td>\n",
       "      <td>1543366822198</td>\n",
       "      <td>North Station</td>\n",
       "      <td>Haymarket Square</td>\n",
       "      <td>7.0</td>\n",
       "      <td>1.0</td>\n",
       "      <td>981a3613-77af-4620-a42a-0c0866077d1e</td>\n",
       "      <td>lyft</td>\n",
       "      <td>Lyft</td>\n",
       "    </tr>\n",
       "    <tr>\n",
       "      <th>3</th>\n",
       "      <td>0.44</td>\n",
       "      <td>Lyft</td>\n",
       "      <td>1543553582749</td>\n",
       "      <td>North Station</td>\n",
       "      <td>Haymarket Square</td>\n",
       "      <td>26.0</td>\n",
       "      <td>1.0</td>\n",
       "      <td>c2d88af2-d278-4bfd-a8d0-29ca77cc5512</td>\n",
       "      <td>lyft_luxsuv</td>\n",
       "      <td>Lux Black XL</td>\n",
       "    </tr>\n",
       "    <tr>\n",
       "      <th>4</th>\n",
       "      <td>0.44</td>\n",
       "      <td>Lyft</td>\n",
       "      <td>1543463360223</td>\n",
       "      <td>North Station</td>\n",
       "      <td>Haymarket Square</td>\n",
       "      <td>9.0</td>\n",
       "      <td>1.0</td>\n",
       "      <td>e0126e1f-8ca9-4f2e-82b3-50505a09db9a</td>\n",
       "      <td>lyft_plus</td>\n",
       "      <td>Lyft XL</td>\n",
       "    </tr>\n",
       "    <tr>\n",
       "      <th>...</th>\n",
       "      <td>...</td>\n",
       "      <td>...</td>\n",
       "      <td>...</td>\n",
       "      <td>...</td>\n",
       "      <td>...</td>\n",
       "      <td>...</td>\n",
       "      <td>...</td>\n",
       "      <td>...</td>\n",
       "      <td>...</td>\n",
       "      <td>...</td>\n",
       "    </tr>\n",
       "    <tr>\n",
       "      <th>693066</th>\n",
       "      <td>1.00</td>\n",
       "      <td>Uber</td>\n",
       "      <td>1543708385534</td>\n",
       "      <td>North End</td>\n",
       "      <td>West End</td>\n",
       "      <td>13.0</td>\n",
       "      <td>1.0</td>\n",
       "      <td>616d3611-1820-450a-9845-a9ff304a4842</td>\n",
       "      <td>6f72dfc5-27f1-42e8-84db-ccc7a75f6969</td>\n",
       "      <td>UberXL</td>\n",
       "    </tr>\n",
       "    <tr>\n",
       "      <th>693067</th>\n",
       "      <td>1.00</td>\n",
       "      <td>Uber</td>\n",
       "      <td>1543708385534</td>\n",
       "      <td>North End</td>\n",
       "      <td>West End</td>\n",
       "      <td>9.5</td>\n",
       "      <td>1.0</td>\n",
       "      <td>633a3fc3-1f86-4b9e-9d48-2b7132112341</td>\n",
       "      <td>55c66225-fbe7-4fd5-9072-eab1ece5e23e</td>\n",
       "      <td>UberX</td>\n",
       "    </tr>\n",
       "    <tr>\n",
       "      <th>693068</th>\n",
       "      <td>1.00</td>\n",
       "      <td>Uber</td>\n",
       "      <td>1543708385534</td>\n",
       "      <td>North End</td>\n",
       "      <td>West End</td>\n",
       "      <td>NaN</td>\n",
       "      <td>1.0</td>\n",
       "      <td>64d451d0-639f-47a4-9b7c-6fd92fbd264f</td>\n",
       "      <td>8cf7e821-f0d3-49c6-8eba-e679c0ebcf6a</td>\n",
       "      <td>Taxi</td>\n",
       "    </tr>\n",
       "    <tr>\n",
       "      <th>693069</th>\n",
       "      <td>1.00</td>\n",
       "      <td>Uber</td>\n",
       "      <td>1543708385534</td>\n",
       "      <td>North End</td>\n",
       "      <td>West End</td>\n",
       "      <td>27.0</td>\n",
       "      <td>1.0</td>\n",
       "      <td>727e5f07-a96b-4ad1-a2c7-9abc3ad55b4e</td>\n",
       "      <td>6d318bcc-22a3-4af6-bddd-b409bfce1546</td>\n",
       "      <td>Black SUV</td>\n",
       "    </tr>\n",
       "    <tr>\n",
       "      <th>693070</th>\n",
       "      <td>1.00</td>\n",
       "      <td>Uber</td>\n",
       "      <td>1543708385534</td>\n",
       "      <td>North End</td>\n",
       "      <td>West End</td>\n",
       "      <td>10.0</td>\n",
       "      <td>1.0</td>\n",
       "      <td>e7fdc087-fe86-40a5-a3c3-3b2a8badcbda</td>\n",
       "      <td>997acbb5-e102-41e1-b155-9df7de0a73f2</td>\n",
       "      <td>UberPool</td>\n",
       "    </tr>\n",
       "  </tbody>\n",
       "</table>\n",
       "<p>693071 rows × 10 columns</p>\n",
       "</div>"
      ],
      "text/plain": [
       "        distance cab_type     time_stamp    destination            source  \\\n",
       "0           0.44     Lyft  1544952607890  North Station  Haymarket Square   \n",
       "1           0.44     Lyft  1543284023677  North Station  Haymarket Square   \n",
       "2           0.44     Lyft  1543366822198  North Station  Haymarket Square   \n",
       "3           0.44     Lyft  1543553582749  North Station  Haymarket Square   \n",
       "4           0.44     Lyft  1543463360223  North Station  Haymarket Square   \n",
       "...          ...      ...            ...            ...               ...   \n",
       "693066      1.00     Uber  1543708385534      North End          West End   \n",
       "693067      1.00     Uber  1543708385534      North End          West End   \n",
       "693068      1.00     Uber  1543708385534      North End          West End   \n",
       "693069      1.00     Uber  1543708385534      North End          West End   \n",
       "693070      1.00     Uber  1543708385534      North End          West End   \n",
       "\n",
       "        price  surge_multiplier                                    id  \\\n",
       "0         5.0               1.0  424553bb-7174-41ea-aeb4-fe06d4f4b9d7   \n",
       "1        11.0               1.0  4bd23055-6827-41c6-b23b-3c491f24e74d   \n",
       "2         7.0               1.0  981a3613-77af-4620-a42a-0c0866077d1e   \n",
       "3        26.0               1.0  c2d88af2-d278-4bfd-a8d0-29ca77cc5512   \n",
       "4         9.0               1.0  e0126e1f-8ca9-4f2e-82b3-50505a09db9a   \n",
       "...       ...               ...                                   ...   \n",
       "693066   13.0               1.0  616d3611-1820-450a-9845-a9ff304a4842   \n",
       "693067    9.5               1.0  633a3fc3-1f86-4b9e-9d48-2b7132112341   \n",
       "693068    NaN               1.0  64d451d0-639f-47a4-9b7c-6fd92fbd264f   \n",
       "693069   27.0               1.0  727e5f07-a96b-4ad1-a2c7-9abc3ad55b4e   \n",
       "693070   10.0               1.0  e7fdc087-fe86-40a5-a3c3-3b2a8badcbda   \n",
       "\n",
       "                                  product_id          name  \n",
       "0                                  lyft_line        Shared  \n",
       "1                               lyft_premier           Lux  \n",
       "2                                       lyft          Lyft  \n",
       "3                                lyft_luxsuv  Lux Black XL  \n",
       "4                                  lyft_plus       Lyft XL  \n",
       "...                                      ...           ...  \n",
       "693066  6f72dfc5-27f1-42e8-84db-ccc7a75f6969        UberXL  \n",
       "693067  55c66225-fbe7-4fd5-9072-eab1ece5e23e         UberX  \n",
       "693068  8cf7e821-f0d3-49c6-8eba-e679c0ebcf6a          Taxi  \n",
       "693069  6d318bcc-22a3-4af6-bddd-b409bfce1546     Black SUV  \n",
       "693070  997acbb5-e102-41e1-b155-9df7de0a73f2      UberPool  \n",
       "\n",
       "[693071 rows x 10 columns]"
      ]
     },
     "execution_count": 22,
     "metadata": {},
     "output_type": "execute_result"
    }
   ],
   "source": [
    "df"
   ]
  },
  {
   "cell_type": "code",
   "execution_count": 23,
   "id": "2920d719",
   "metadata": {},
   "outputs": [
    {
     "data": {
      "text/plain": [
       "(693071, 10)"
      ]
     },
     "execution_count": 23,
     "metadata": {},
     "output_type": "execute_result"
    }
   ],
   "source": [
    "df.shape #every row is corresponding to one uber trip\n",
    "#(no_of_rows,no_of_columns)"
   ]
  },
  {
   "cell_type": "code",
   "execution_count": 24,
   "id": "5e606059",
   "metadata": {},
   "outputs": [
    {
     "data": {
      "text/plain": [
       "Index(['distance', 'cab_type', 'time_stamp', 'destination', 'source', 'price',\n",
       "       'surge_multiplier', 'id', 'product_id', 'name'],\n",
       "      dtype='object')"
      ]
     },
     "execution_count": 24,
     "metadata": {},
     "output_type": "execute_result"
    }
   ],
   "source": [
    "df.columns"
   ]
  },
  {
   "cell_type": "code",
   "execution_count": 25,
   "id": "58c4d357",
   "metadata": {},
   "outputs": [
    {
     "data": {
      "text/plain": [
       "0"
      ]
     },
     "execution_count": 25,
     "metadata": {},
     "output_type": "execute_result"
    }
   ],
   "source": [
    "df.duplicated().sum() "
   ]
  },
  {
   "cell_type": "code",
   "execution_count": 26,
   "id": "2d0f453b",
   "metadata": {},
   "outputs": [
    {
     "data": {
      "text/plain": [
       "distance                0\n",
       "cab_type                0\n",
       "time_stamp              0\n",
       "destination             0\n",
       "source                  0\n",
       "price               55095\n",
       "surge_multiplier        0\n",
       "id                      0\n",
       "product_id              0\n",
       "name                    0\n",
       "dtype: int64"
      ]
     },
     "execution_count": 26,
     "metadata": {},
     "output_type": "execute_result"
    }
   ],
   "source": [
    "df.isnull().sum()"
   ]
  },
  {
   "cell_type": "code",
   "execution_count": 27,
   "id": "d165e32e",
   "metadata": {},
   "outputs": [
    {
     "data": {
      "text/plain": [
       "count    693071.000000\n",
       "mean          2.189430\n",
       "std           1.138937\n",
       "min           0.020000\n",
       "25%           1.280000\n",
       "50%           2.160000\n",
       "75%           2.920000\n",
       "max           7.860000\n",
       "Name: distance, dtype: float64"
      ]
     },
     "execution_count": 27,
     "metadata": {},
     "output_type": "execute_result"
    }
   ],
   "source": [
    "df['distance'].describe()"
   ]
  },
  {
   "cell_type": "code",
   "execution_count": 28,
   "id": "f42826f5",
   "metadata": {},
   "outputs": [
    {
     "data": {
      "text/plain": [
       "2.66    9174\n",
       "2.32    9127\n",
       "2.84    8562\n",
       "1.41    7884\n",
       "1.25    7434\n",
       "        ... \n",
       "5.06       6\n",
       "5.03       6\n",
       "4.87       6\n",
       "4.99       6\n",
       "4.89       6\n",
       "Name: distance, Length: 549, dtype: int64"
      ]
     },
     "execution_count": 28,
     "metadata": {},
     "output_type": "execute_result"
    }
   ],
   "source": [
    "value_distance=df.distance.value_counts()\n",
    "value_distance"
   ]
  },
  {
   "cell_type": "code",
   "execution_count": 29,
   "id": "8b9c354a",
   "metadata": {},
   "outputs": [
    {
     "data": {
      "text/plain": [
       "2.66    9174\n",
       "2.32    9127\n",
       "2.84    8562\n",
       "1.41    7884\n",
       "1.25    7434\n",
       "1.16    7333\n",
       "1.08    7251\n",
       "1.34    7105\n",
       "1.50    7067\n",
       "1.35    6952\n",
       "Name: distance, dtype: int64"
      ]
     },
     "execution_count": 29,
     "metadata": {},
     "output_type": "execute_result"
    }
   ],
   "source": [
    "top_10_value_dis=value_distance.iloc[:10] \n",
    "top_10_value_dis\n",
    "# iloc: index location"
   ]
  },
  {
   "cell_type": "code",
   "execution_count": 31,
   "id": "22a2197a",
   "metadata": {},
   "outputs": [
    {
     "data": {
      "text/html": [
       "<div>\n",
       "<style scoped>\n",
       "    .dataframe tbody tr th:only-of-type {\n",
       "        vertical-align: middle;\n",
       "    }\n",
       "\n",
       "    .dataframe tbody tr th {\n",
       "        vertical-align: top;\n",
       "    }\n",
       "\n",
       "    .dataframe thead th {\n",
       "        text-align: right;\n",
       "    }\n",
       "</style>\n",
       "<table border=\"1\" class=\"dataframe\">\n",
       "  <thead>\n",
       "    <tr style=\"text-align: right;\">\n",
       "      <th></th>\n",
       "      <th>distance</th>\n",
       "      <th>cab_type</th>\n",
       "      <th>time_stamp</th>\n",
       "      <th>destination</th>\n",
       "      <th>source</th>\n",
       "      <th>price</th>\n",
       "      <th>surge_multiplier</th>\n",
       "      <th>id</th>\n",
       "      <th>product_id</th>\n",
       "      <th>name</th>\n",
       "    </tr>\n",
       "  </thead>\n",
       "  <tbody>\n",
       "    <tr>\n",
       "      <th>19</th>\n",
       "      <td>0.72</td>\n",
       "      <td>Lyft</td>\n",
       "      <td>1544940911553</td>\n",
       "      <td>Haymarket Square</td>\n",
       "      <td>North Station</td>\n",
       "      <td>11.0</td>\n",
       "      <td>1.0</td>\n",
       "      <td>18d580ac-c91a-4b6d-aa75-ab62566f713e</td>\n",
       "      <td>lyft_plus</td>\n",
       "      <td>Lyft XL</td>\n",
       "    </tr>\n",
       "    <tr>\n",
       "      <th>20</th>\n",
       "      <td>0.72</td>\n",
       "      <td>Lyft</td>\n",
       "      <td>1543346302541</td>\n",
       "      <td>Haymarket Square</td>\n",
       "      <td>North Station</td>\n",
       "      <td>16.5</td>\n",
       "      <td>1.0</td>\n",
       "      <td>3ef5c509-f292-42ef-b39c-bce7059006a0</td>\n",
       "      <td>lyft_lux</td>\n",
       "      <td>Lux Black</td>\n",
       "    </tr>\n",
       "    <tr>\n",
       "      <th>21</th>\n",
       "      <td>0.72</td>\n",
       "      <td>Lyft</td>\n",
       "      <td>1545132905654</td>\n",
       "      <td>Haymarket Square</td>\n",
       "      <td>North Station</td>\n",
       "      <td>7.0</td>\n",
       "      <td>1.0</td>\n",
       "      <td>5ef44fdf-c5d3-4d07-967a-a8710e537e74</td>\n",
       "      <td>lyft</td>\n",
       "      <td>Lyft</td>\n",
       "    </tr>\n",
       "    <tr>\n",
       "      <th>22</th>\n",
       "      <td>0.72</td>\n",
       "      <td>Lyft</td>\n",
       "      <td>1543544884042</td>\n",
       "      <td>Haymarket Square</td>\n",
       "      <td>North Station</td>\n",
       "      <td>3.5</td>\n",
       "      <td>1.0</td>\n",
       "      <td>a7c1afce-9781-41c9-b6a6-df109ad43ccd</td>\n",
       "      <td>lyft_line</td>\n",
       "      <td>Shared</td>\n",
       "    </tr>\n",
       "    <tr>\n",
       "      <th>23</th>\n",
       "      <td>0.72</td>\n",
       "      <td>Lyft</td>\n",
       "      <td>1544978406463</td>\n",
       "      <td>Haymarket Square</td>\n",
       "      <td>North Station</td>\n",
       "      <td>26.0</td>\n",
       "      <td>1.0</td>\n",
       "      <td>d0782aae-4cfa-45df-b6e4-e300b09c2563</td>\n",
       "      <td>lyft_luxsuv</td>\n",
       "      <td>Lux Black XL</td>\n",
       "    </tr>\n",
       "    <tr>\n",
       "      <th>...</th>\n",
       "      <td>...</td>\n",
       "      <td>...</td>\n",
       "      <td>...</td>\n",
       "      <td>...</td>\n",
       "      <td>...</td>\n",
       "      <td>...</td>\n",
       "      <td>...</td>\n",
       "      <td>...</td>\n",
       "      <td>...</td>\n",
       "      <td>...</td>\n",
       "    </tr>\n",
       "    <tr>\n",
       "      <th>691562</th>\n",
       "      <td>0.56</td>\n",
       "      <td>Uber</td>\n",
       "      <td>1545087912635</td>\n",
       "      <td>Haymarket Square</td>\n",
       "      <td>North Station</td>\n",
       "      <td>5.5</td>\n",
       "      <td>1.0</td>\n",
       "      <td>89a8856d-2678-4518-a2ad-e532d0ff03c1</td>\n",
       "      <td>997acbb5-e102-41e1-b155-9df7de0a73f2</td>\n",
       "      <td>UberPool</td>\n",
       "    </tr>\n",
       "    <tr>\n",
       "      <th>691563</th>\n",
       "      <td>0.56</td>\n",
       "      <td>Uber</td>\n",
       "      <td>1545087912635</td>\n",
       "      <td>Haymarket Square</td>\n",
       "      <td>North Station</td>\n",
       "      <td>7.0</td>\n",
       "      <td>1.0</td>\n",
       "      <td>ae131693-b326-4881-9bd7-23553fee9bd0</td>\n",
       "      <td>55c66225-fbe7-4fd5-9072-eab1ece5e23e</td>\n",
       "      <td>UberX</td>\n",
       "    </tr>\n",
       "    <tr>\n",
       "      <th>692771</th>\n",
       "      <td>0.70</td>\n",
       "      <td>Lyft</td>\n",
       "      <td>1543261991712</td>\n",
       "      <td>Haymarket Square</td>\n",
       "      <td>North Station</td>\n",
       "      <td>10.5</td>\n",
       "      <td>1.0</td>\n",
       "      <td>8c4a6060-b56e-447f-a18b-7999eae00cd1</td>\n",
       "      <td>lyft_plus</td>\n",
       "      <td>Lyft XL</td>\n",
       "    </tr>\n",
       "    <tr>\n",
       "      <th>692772</th>\n",
       "      <td>0.70</td>\n",
       "      <td>Lyft</td>\n",
       "      <td>1543261991712</td>\n",
       "      <td>Haymarket Square</td>\n",
       "      <td>North Station</td>\n",
       "      <td>3.0</td>\n",
       "      <td>1.0</td>\n",
       "      <td>ba6adad9-20c8-4f3d-b4a5-02020303655b</td>\n",
       "      <td>lyft_line</td>\n",
       "      <td>Shared</td>\n",
       "    </tr>\n",
       "    <tr>\n",
       "      <th>692773</th>\n",
       "      <td>0.70</td>\n",
       "      <td>Lyft</td>\n",
       "      <td>1543261991712</td>\n",
       "      <td>Haymarket Square</td>\n",
       "      <td>North Station</td>\n",
       "      <td>7.0</td>\n",
       "      <td>1.0</td>\n",
       "      <td>f81c29a1-b574-4da8-bf64-b88b1566f596</td>\n",
       "      <td>lyft</td>\n",
       "      <td>Lyft</td>\n",
       "    </tr>\n",
       "  </tbody>\n",
       "</table>\n",
       "<p>9641 rows × 10 columns</p>\n",
       "</div>"
      ],
      "text/plain": [
       "        distance cab_type     time_stamp       destination         source  \\\n",
       "19          0.72     Lyft  1544940911553  Haymarket Square  North Station   \n",
       "20          0.72     Lyft  1543346302541  Haymarket Square  North Station   \n",
       "21          0.72     Lyft  1545132905654  Haymarket Square  North Station   \n",
       "22          0.72     Lyft  1543544884042  Haymarket Square  North Station   \n",
       "23          0.72     Lyft  1544978406463  Haymarket Square  North Station   \n",
       "...          ...      ...            ...               ...            ...   \n",
       "691562      0.56     Uber  1545087912635  Haymarket Square  North Station   \n",
       "691563      0.56     Uber  1545087912635  Haymarket Square  North Station   \n",
       "692771      0.70     Lyft  1543261991712  Haymarket Square  North Station   \n",
       "692772      0.70     Lyft  1543261991712  Haymarket Square  North Station   \n",
       "692773      0.70     Lyft  1543261991712  Haymarket Square  North Station   \n",
       "\n",
       "        price  surge_multiplier                                    id  \\\n",
       "19       11.0               1.0  18d580ac-c91a-4b6d-aa75-ab62566f713e   \n",
       "20       16.5               1.0  3ef5c509-f292-42ef-b39c-bce7059006a0   \n",
       "21        7.0               1.0  5ef44fdf-c5d3-4d07-967a-a8710e537e74   \n",
       "22        3.5               1.0  a7c1afce-9781-41c9-b6a6-df109ad43ccd   \n",
       "23       26.0               1.0  d0782aae-4cfa-45df-b6e4-e300b09c2563   \n",
       "...       ...               ...                                   ...   \n",
       "691562    5.5               1.0  89a8856d-2678-4518-a2ad-e532d0ff03c1   \n",
       "691563    7.0               1.0  ae131693-b326-4881-9bd7-23553fee9bd0   \n",
       "692771   10.5               1.0  8c4a6060-b56e-447f-a18b-7999eae00cd1   \n",
       "692772    3.0               1.0  ba6adad9-20c8-4f3d-b4a5-02020303655b   \n",
       "692773    7.0               1.0  f81c29a1-b574-4da8-bf64-b88b1566f596   \n",
       "\n",
       "                                  product_id          name  \n",
       "19                                 lyft_plus       Lyft XL  \n",
       "20                                  lyft_lux     Lux Black  \n",
       "21                                      lyft          Lyft  \n",
       "22                                 lyft_line        Shared  \n",
       "23                               lyft_luxsuv  Lux Black XL  \n",
       "...                                      ...           ...  \n",
       "691562  997acbb5-e102-41e1-b155-9df7de0a73f2      UberPool  \n",
       "691563  55c66225-fbe7-4fd5-9072-eab1ece5e23e         UberX  \n",
       "692771                             lyft_plus       Lyft XL  \n",
       "692772                             lyft_line        Shared  \n",
       "692773                                  lyft          Lyft  \n",
       "\n",
       "[9641 rows x 10 columns]"
      ]
     },
     "execution_count": 31,
     "metadata": {},
     "output_type": "execute_result"
    }
   ],
   "source": [
    "# Source is North Station, Destination is Haymarket Square\n",
    "df3=df.loc[(df.source=='North Station') & (df.destination=='Haymarket Square')]\n",
    "df3"
   ]
  },
  {
   "cell_type": "code",
   "execution_count": 32,
   "id": "f3dbec5d",
   "metadata": {},
   "outputs": [
    {
     "data": {
      "text/html": [
       "<div>\n",
       "<style scoped>\n",
       "    .dataframe tbody tr th:only-of-type {\n",
       "        vertical-align: middle;\n",
       "    }\n",
       "\n",
       "    .dataframe tbody tr th {\n",
       "        vertical-align: top;\n",
       "    }\n",
       "\n",
       "    .dataframe thead th {\n",
       "        text-align: right;\n",
       "    }\n",
       "</style>\n",
       "<table border=\"1\" class=\"dataframe\">\n",
       "  <thead>\n",
       "    <tr style=\"text-align: right;\">\n",
       "      <th></th>\n",
       "      <th>distance</th>\n",
       "      <th>cab_type</th>\n",
       "      <th>time_stamp</th>\n",
       "      <th>destination</th>\n",
       "      <th>source</th>\n",
       "      <th>price</th>\n",
       "      <th>surge_multiplier</th>\n",
       "      <th>id</th>\n",
       "      <th>product_id</th>\n",
       "      <th>name</th>\n",
       "    </tr>\n",
       "  </thead>\n",
       "  <tbody>\n",
       "    <tr>\n",
       "      <th>49</th>\n",
       "      <td>1.76</td>\n",
       "      <td>Lyft</td>\n",
       "      <td>1543421288000</td>\n",
       "      <td>South Station</td>\n",
       "      <td>North Station</td>\n",
       "      <td>19.5</td>\n",
       "      <td>1.0</td>\n",
       "      <td>c7a2284b-2f7b-49a8-8d5b-90e1ebe18a1f</td>\n",
       "      <td>lyft_lux</td>\n",
       "      <td>Lux Black</td>\n",
       "    </tr>\n",
       "    <tr>\n",
       "      <th>407</th>\n",
       "      <td>2.61</td>\n",
       "      <td>Lyft</td>\n",
       "      <td>1543594077358</td>\n",
       "      <td>South Station</td>\n",
       "      <td>Back Bay</td>\n",
       "      <td>27.5</td>\n",
       "      <td>1.0</td>\n",
       "      <td>2cccac4a-57dc-4dbe-b531-bb529335e898</td>\n",
       "      <td>lyft_lux</td>\n",
       "      <td>Lux Black</td>\n",
       "    </tr>\n",
       "    <tr>\n",
       "      <th>408</th>\n",
       "      <td>2.61</td>\n",
       "      <td>Lyft</td>\n",
       "      <td>1543594982564</td>\n",
       "      <td>South Station</td>\n",
       "      <td>Back Bay</td>\n",
       "      <td>7.0</td>\n",
       "      <td>1.0</td>\n",
       "      <td>38504f2f-300c-4e1b-bff4-4b44c3b4b842</td>\n",
       "      <td>lyft_line</td>\n",
       "      <td>Shared</td>\n",
       "    </tr>\n",
       "    <tr>\n",
       "      <th>409</th>\n",
       "      <td>2.61</td>\n",
       "      <td>Lyft</td>\n",
       "      <td>1543471082637</td>\n",
       "      <td>South Station</td>\n",
       "      <td>Back Bay</td>\n",
       "      <td>10.5</td>\n",
       "      <td>1.0</td>\n",
       "      <td>3ec303ac-a8b2-4fb8-add2-c83b61c627b5</td>\n",
       "      <td>lyft</td>\n",
       "      <td>Lyft</td>\n",
       "    </tr>\n",
       "    <tr>\n",
       "      <th>413</th>\n",
       "      <td>2.61</td>\n",
       "      <td>Lyft</td>\n",
       "      <td>1543275914057</td>\n",
       "      <td>South Station</td>\n",
       "      <td>Back Bay</td>\n",
       "      <td>16.5</td>\n",
       "      <td>1.0</td>\n",
       "      <td>bbc3cb67-3ba6-4158-9ef6-da087068f5aa</td>\n",
       "      <td>lyft_plus</td>\n",
       "      <td>Lyft XL</td>\n",
       "    </tr>\n",
       "  </tbody>\n",
       "</table>\n",
       "</div>"
      ],
      "text/plain": [
       "     distance cab_type     time_stamp    destination         source  price  \\\n",
       "49       1.76     Lyft  1543421288000  South Station  North Station   19.5   \n",
       "407      2.61     Lyft  1543594077358  South Station       Back Bay   27.5   \n",
       "408      2.61     Lyft  1543594982564  South Station       Back Bay    7.0   \n",
       "409      2.61     Lyft  1543471082637  South Station       Back Bay   10.5   \n",
       "413      2.61     Lyft  1543275914057  South Station       Back Bay   16.5   \n",
       "\n",
       "     surge_multiplier                                    id product_id  \\\n",
       "49                1.0  c7a2284b-2f7b-49a8-8d5b-90e1ebe18a1f   lyft_lux   \n",
       "407               1.0  2cccac4a-57dc-4dbe-b531-bb529335e898   lyft_lux   \n",
       "408               1.0  38504f2f-300c-4e1b-bff4-4b44c3b4b842  lyft_line   \n",
       "409               1.0  3ec303ac-a8b2-4fb8-add2-c83b61c627b5       lyft   \n",
       "413               1.0  bbc3cb67-3ba6-4158-9ef6-da087068f5aa  lyft_plus   \n",
       "\n",
       "          name  \n",
       "49   Lux Black  \n",
       "407  Lux Black  \n",
       "408     Shared  \n",
       "409       Lyft  \n",
       "413    Lyft XL  "
      ]
     },
     "execution_count": 32,
     "metadata": {},
     "output_type": "execute_result"
    }
   ],
   "source": [
    "df5=df.loc[(df.destination==\"South Station\") & (df.surge_multiplier==1.0) & (df.cab_type==\"Lyft\")][5:10]\n",
    "df5"
   ]
  },
  {
   "cell_type": "code",
   "execution_count": 33,
   "id": "03598bcb",
   "metadata": {},
   "outputs": [
    {
     "name": "stdout",
     "output_type": "stream",
     "text": [
      "20975\n",
      "693071\n",
      "The Percentage:  3.026385464115509\n"
     ]
    }
   ],
   "source": [
    "# Return the percentage of trips where surge is there\n",
    "surge_trip=df[df.surge_multiplier != 1.0].shape[0]\n",
    "print(surge_trip)\n",
    "\n",
    "total_trip=df.shape[0]\n",
    "print(total_trip)\n",
    "\n",
    "print(\"The Percentage: \", (surge_trip/total_trip)*100)"
   ]
  },
  {
   "cell_type": "code",
   "execution_count": 36,
   "id": "6da63642",
   "metadata": {},
   "outputs": [
    {
     "data": {
      "image/png": "[encoded data removed]",
      "text/plain": [
       "<Figure size 640x480 with 1 Axes>"
      ]
     },
     "metadata": {},
     "output_type": "display_data"
    }
   ],
   "source": [
    "plt.hist(df.distance)\n",
    "plt.show()"
   ]
  },
  {
   "cell_type": "markdown",
   "id": "146a58f6",
   "metadata": {},
   "source": [
    "# Observation:\n",
    "1. X: Distance\n",
    "2. Y: Count\n",
    "3. Highest count: 190K at 1-1.5 miles\n",
    "4. Lowest count: 0 at 6.2-7.1 miles"
   ]
  },
  {
   "cell_type": "code",
   "execution_count": 37,
   "id": "7f03d6c2",
   "metadata": {},
   "outputs": [
    {
     "data": {
      "image/png": "[encoded data removed]",
      "text/plain": [
       "<Figure size 640x480 with 1 Axes>"
      ]
     },
     "metadata": {},
     "output_type": "display_data"
    }
   ],
   "source": [
    "plt.hist(df.price)\n",
    "plt.show()"
   ]
  },
  {
   "cell_type": "markdown",
   "id": "433e9564",
   "metadata": {},
   "source": [
    "# Observation:\n",
    "1. X: Price, Y: Count\n",
    "2. Highest count: 2.75K at $1-$10\n",
    "3. Lowest count: 1K at $50-$60"
   ]
  },
  {
   "cell_type": "code",
   "execution_count": 38,
   "id": "ded890b7",
   "metadata": {},
   "outputs": [
    {
     "data": {
      "image/png": "[encoded data removed]",
      "text/plain": [
       "<Figure size 583.375x500 with 1 Axes>"
      ]
     },
     "metadata": {},
     "output_type": "display_data"
    }
   ],
   "source": [
    "sns.FacetGrid(df, hue=\"cab_type\" ,size=5).map(sns.distplot, \"distance\").add_legend()\n",
    "plt.show()"
   ]
  },
  {
   "cell_type": "code",
   "execution_count": 40,
   "id": "d18d32ec",
   "metadata": {},
   "outputs": [
    {
     "data": {
      "image/png": "[encoded data removed]",
      "text/plain": [
       "<Figure size 640x480 with 1 Axes>"
      ]
     },
     "metadata": {},
     "output_type": "display_data"
    }
   ],
   "source": [
    "perct_dist = df.cab_type.value_counts()\n",
    "perct_dist\n",
    "index = perct_dist.index\n",
    "sizes = perct_dist.values\n",
    "plt.pie(sizes, labels=index, autopct='%1.2f%%',shadow=True)\n",
    "plt.show()"
   ]
  },
  {
   "cell_type": "code",
   "execution_count": 41,
   "id": "5766e644",
   "metadata": {},
   "outputs": [
    {
     "data": {
      "image/png": "[encoded data removed]",
      "text/plain": [
       "<Figure size 640x480 with 1 Axes>"
      ]
     },
     "metadata": {},
     "output_type": "display_data"
    }
   ],
   "source": [
    "perct_dist_src = df.source.value_counts()\n",
    "perct_dist_src\n",
    "index1=perct_dist_src.index\n",
    "sizes1=perct_dist_src.values\n",
    "plt.pie(sizes1, labels=index1, autopct='%1.1f%%', shadow=True)\n",
    "plt.show()"
   ]
  },
  {
   "cell_type": "code",
   "execution_count": 43,
   "id": "a7565e19",
   "metadata": {},
   "outputs": [
    {
     "data": {
      "image/png": "[encoded data removed]",
      "text/plain": [
       "<Figure size 1000x500 with 1 Axes>"
      ]
     },
     "metadata": {},
     "output_type": "display_data"
    }
   ],
   "source": [
    "perct_dist_dest=df.destination.value_counts()\n",
    "perct_dist_dest\n",
    "index4=perct_dist_dest.index\n",
    "sizes4=perct_dist_dest.values\n",
    "plt.figure(figsize=(10,5))\n",
    "sns.barplot(sizes4, index4)\n",
    "plt.show()"
   ]
  },
  {
   "cell_type": "code",
   "execution_count": 44,
   "id": "25f28e9e",
   "metadata": {},
   "outputs": [
    {
     "data": {
      "text/html": [
       "<div>\n",
       "<style scoped>\n",
       "    .dataframe tbody tr th:only-of-type {\n",
       "        vertical-align: middle;\n",
       "    }\n",
       "\n",
       "    .dataframe tbody tr th {\n",
       "        vertical-align: top;\n",
       "    }\n",
       "\n",
       "    .dataframe thead th {\n",
       "        text-align: right;\n",
       "    }\n",
       "</style>\n",
       "<table border=\"1\" class=\"dataframe\">\n",
       "  <thead>\n",
       "    <tr style=\"text-align: right;\">\n",
       "      <th></th>\n",
       "      <th>distance</th>\n",
       "      <th>cab_type</th>\n",
       "      <th>time_stamp</th>\n",
       "      <th>destination</th>\n",
       "      <th>source</th>\n",
       "      <th>price</th>\n",
       "      <th>surge_multiplier</th>\n",
       "      <th>id</th>\n",
       "      <th>product_id</th>\n",
       "      <th>name</th>\n",
       "      <th>date_time</th>\n",
       "    </tr>\n",
       "  </thead>\n",
       "  <tbody>\n",
       "    <tr>\n",
       "      <th>0</th>\n",
       "      <td>0.44</td>\n",
       "      <td>Lyft</td>\n",
       "      <td>1544952607890</td>\n",
       "      <td>North Station</td>\n",
       "      <td>Haymarket Square</td>\n",
       "      <td>5.0</td>\n",
       "      <td>1.0</td>\n",
       "      <td>424553bb-7174-41ea-aeb4-fe06d4f4b9d7</td>\n",
       "      <td>lyft_line</td>\n",
       "      <td>Shared</td>\n",
       "      <td>2018-12-16 09:30:07.890000128</td>\n",
       "    </tr>\n",
       "    <tr>\n",
       "      <th>1</th>\n",
       "      <td>0.44</td>\n",
       "      <td>Lyft</td>\n",
       "      <td>1543284023677</td>\n",
       "      <td>North Station</td>\n",
       "      <td>Haymarket Square</td>\n",
       "      <td>11.0</td>\n",
       "      <td>1.0</td>\n",
       "      <td>4bd23055-6827-41c6-b23b-3c491f24e74d</td>\n",
       "      <td>lyft_premier</td>\n",
       "      <td>Lux</td>\n",
       "      <td>2018-11-27 02:00:23.676999936</td>\n",
       "    </tr>\n",
       "    <tr>\n",
       "      <th>2</th>\n",
       "      <td>0.44</td>\n",
       "      <td>Lyft</td>\n",
       "      <td>1543366822198</td>\n",
       "      <td>North Station</td>\n",
       "      <td>Haymarket Square</td>\n",
       "      <td>7.0</td>\n",
       "      <td>1.0</td>\n",
       "      <td>981a3613-77af-4620-a42a-0c0866077d1e</td>\n",
       "      <td>lyft</td>\n",
       "      <td>Lyft</td>\n",
       "      <td>2018-11-28 01:00:22.197999872</td>\n",
       "    </tr>\n",
       "    <tr>\n",
       "      <th>3</th>\n",
       "      <td>0.44</td>\n",
       "      <td>Lyft</td>\n",
       "      <td>1543553582749</td>\n",
       "      <td>North Station</td>\n",
       "      <td>Haymarket Square</td>\n",
       "      <td>26.0</td>\n",
       "      <td>1.0</td>\n",
       "      <td>c2d88af2-d278-4bfd-a8d0-29ca77cc5512</td>\n",
       "      <td>lyft_luxsuv</td>\n",
       "      <td>Lux Black XL</td>\n",
       "      <td>2018-11-30 04:53:02.749000192</td>\n",
       "    </tr>\n",
       "    <tr>\n",
       "      <th>4</th>\n",
       "      <td>0.44</td>\n",
       "      <td>Lyft</td>\n",
       "      <td>1543463360223</td>\n",
       "      <td>North Station</td>\n",
       "      <td>Haymarket Square</td>\n",
       "      <td>9.0</td>\n",
       "      <td>1.0</td>\n",
       "      <td>e0126e1f-8ca9-4f2e-82b3-50505a09db9a</td>\n",
       "      <td>lyft_plus</td>\n",
       "      <td>Lyft XL</td>\n",
       "      <td>2018-11-29 03:49:20.223000064</td>\n",
       "    </tr>\n",
       "    <tr>\n",
       "      <th>...</th>\n",
       "      <td>...</td>\n",
       "      <td>...</td>\n",
       "      <td>...</td>\n",
       "      <td>...</td>\n",
       "      <td>...</td>\n",
       "      <td>...</td>\n",
       "      <td>...</td>\n",
       "      <td>...</td>\n",
       "      <td>...</td>\n",
       "      <td>...</td>\n",
       "      <td>...</td>\n",
       "    </tr>\n",
       "    <tr>\n",
       "      <th>693066</th>\n",
       "      <td>1.00</td>\n",
       "      <td>Uber</td>\n",
       "      <td>1543708385534</td>\n",
       "      <td>North End</td>\n",
       "      <td>West End</td>\n",
       "      <td>13.0</td>\n",
       "      <td>1.0</td>\n",
       "      <td>616d3611-1820-450a-9845-a9ff304a4842</td>\n",
       "      <td>6f72dfc5-27f1-42e8-84db-ccc7a75f6969</td>\n",
       "      <td>UberXL</td>\n",
       "      <td>2018-12-01 23:53:05.533999872</td>\n",
       "    </tr>\n",
       "    <tr>\n",
       "      <th>693067</th>\n",
       "      <td>1.00</td>\n",
       "      <td>Uber</td>\n",
       "      <td>1543708385534</td>\n",
       "      <td>North End</td>\n",
       "      <td>West End</td>\n",
       "      <td>9.5</td>\n",
       "      <td>1.0</td>\n",
       "      <td>633a3fc3-1f86-4b9e-9d48-2b7132112341</td>\n",
       "      <td>55c66225-fbe7-4fd5-9072-eab1ece5e23e</td>\n",
       "      <td>UberX</td>\n",
       "      <td>2018-12-01 23:53:05.533999872</td>\n",
       "    </tr>\n",
       "    <tr>\n",
       "      <th>693068</th>\n",
       "      <td>1.00</td>\n",
       "      <td>Uber</td>\n",
       "      <td>1543708385534</td>\n",
       "      <td>North End</td>\n",
       "      <td>West End</td>\n",
       "      <td>NaN</td>\n",
       "      <td>1.0</td>\n",
       "      <td>64d451d0-639f-47a4-9b7c-6fd92fbd264f</td>\n",
       "      <td>8cf7e821-f0d3-49c6-8eba-e679c0ebcf6a</td>\n",
       "      <td>Taxi</td>\n",
       "      <td>2018-12-01 23:53:05.533999872</td>\n",
       "    </tr>\n",
       "    <tr>\n",
       "      <th>693069</th>\n",
       "      <td>1.00</td>\n",
       "      <td>Uber</td>\n",
       "      <td>1543708385534</td>\n",
       "      <td>North End</td>\n",
       "      <td>West End</td>\n",
       "      <td>27.0</td>\n",
       "      <td>1.0</td>\n",
       "      <td>727e5f07-a96b-4ad1-a2c7-9abc3ad55b4e</td>\n",
       "      <td>6d318bcc-22a3-4af6-bddd-b409bfce1546</td>\n",
       "      <td>Black SUV</td>\n",
       "      <td>2018-12-01 23:53:05.533999872</td>\n",
       "    </tr>\n",
       "    <tr>\n",
       "      <th>693070</th>\n",
       "      <td>1.00</td>\n",
       "      <td>Uber</td>\n",
       "      <td>1543708385534</td>\n",
       "      <td>North End</td>\n",
       "      <td>West End</td>\n",
       "      <td>10.0</td>\n",
       "      <td>1.0</td>\n",
       "      <td>e7fdc087-fe86-40a5-a3c3-3b2a8badcbda</td>\n",
       "      <td>997acbb5-e102-41e1-b155-9df7de0a73f2</td>\n",
       "      <td>UberPool</td>\n",
       "      <td>2018-12-01 23:53:05.533999872</td>\n",
       "    </tr>\n",
       "  </tbody>\n",
       "</table>\n",
       "<p>693071 rows × 11 columns</p>\n",
       "</div>"
      ],
      "text/plain": [
       "        distance cab_type     time_stamp    destination            source  \\\n",
       "0           0.44     Lyft  1544952607890  North Station  Haymarket Square   \n",
       "1           0.44     Lyft  1543284023677  North Station  Haymarket Square   \n",
       "2           0.44     Lyft  1543366822198  North Station  Haymarket Square   \n",
       "3           0.44     Lyft  1543553582749  North Station  Haymarket Square   \n",
       "4           0.44     Lyft  1543463360223  North Station  Haymarket Square   \n",
       "...          ...      ...            ...            ...               ...   \n",
       "693066      1.00     Uber  1543708385534      North End          West End   \n",
       "693067      1.00     Uber  1543708385534      North End          West End   \n",
       "693068      1.00     Uber  1543708385534      North End          West End   \n",
       "693069      1.00     Uber  1543708385534      North End          West End   \n",
       "693070      1.00     Uber  1543708385534      North End          West End   \n",
       "\n",
       "        price  surge_multiplier                                    id  \\\n",
       "0         5.0               1.0  424553bb-7174-41ea-aeb4-fe06d4f4b9d7   \n",
       "1        11.0               1.0  4bd23055-6827-41c6-b23b-3c491f24e74d   \n",
       "2         7.0               1.0  981a3613-77af-4620-a42a-0c0866077d1e   \n",
       "3        26.0               1.0  c2d88af2-d278-4bfd-a8d0-29ca77cc5512   \n",
       "4         9.0               1.0  e0126e1f-8ca9-4f2e-82b3-50505a09db9a   \n",
       "...       ...               ...                                   ...   \n",
       "693066   13.0               1.0  616d3611-1820-450a-9845-a9ff304a4842   \n",
       "693067    9.5               1.0  633a3fc3-1f86-4b9e-9d48-2b7132112341   \n",
       "693068    NaN               1.0  64d451d0-639f-47a4-9b7c-6fd92fbd264f   \n",
       "693069   27.0               1.0  727e5f07-a96b-4ad1-a2c7-9abc3ad55b4e   \n",
       "693070   10.0               1.0  e7fdc087-fe86-40a5-a3c3-3b2a8badcbda   \n",
       "\n",
       "                                  product_id          name  \\\n",
       "0                                  lyft_line        Shared   \n",
       "1                               lyft_premier           Lux   \n",
       "2                                       lyft          Lyft   \n",
       "3                                lyft_luxsuv  Lux Black XL   \n",
       "4                                  lyft_plus       Lyft XL   \n",
       "...                                      ...           ...   \n",
       "693066  6f72dfc5-27f1-42e8-84db-ccc7a75f6969        UberXL   \n",
       "693067  55c66225-fbe7-4fd5-9072-eab1ece5e23e         UberX   \n",
       "693068  8cf7e821-f0d3-49c6-8eba-e679c0ebcf6a          Taxi   \n",
       "693069  6d318bcc-22a3-4af6-bddd-b409bfce1546     Black SUV   \n",
       "693070  997acbb5-e102-41e1-b155-9df7de0a73f2      UberPool   \n",
       "\n",
       "                           date_time  \n",
       "0      2018-12-16 09:30:07.890000128  \n",
       "1      2018-11-27 02:00:23.676999936  \n",
       "2      2018-11-28 01:00:22.197999872  \n",
       "3      2018-11-30 04:53:02.749000192  \n",
       "4      2018-11-29 03:49:20.223000064  \n",
       "...                              ...  \n",
       "693066 2018-12-01 23:53:05.533999872  \n",
       "693067 2018-12-01 23:53:05.533999872  \n",
       "693068 2018-12-01 23:53:05.533999872  \n",
       "693069 2018-12-01 23:53:05.533999872  \n",
       "693070 2018-12-01 23:53:05.533999872  \n",
       "\n",
       "[693071 rows x 11 columns]"
      ]
     },
     "execution_count": 44,
     "metadata": {},
     "output_type": "execute_result"
    }
   ],
   "source": [
    "df['date_time'] = pd.to_datetime(df['time_stamp']/1000, unit='s')\n",
    "df"
   ]
  },
  {
   "cell_type": "code",
   "execution_count": 45,
   "id": "6a03cdd7",
   "metadata": {},
   "outputs": [
    {
     "data": {
      "text/html": [
       "<div>\n",
       "<style scoped>\n",
       "    .dataframe tbody tr th:only-of-type {\n",
       "        vertical-align: middle;\n",
       "    }\n",
       "\n",
       "    .dataframe tbody tr th {\n",
       "        vertical-align: top;\n",
       "    }\n",
       "\n",
       "    .dataframe thead th {\n",
       "        text-align: right;\n",
       "    }\n",
       "</style>\n",
       "<table border=\"1\" class=\"dataframe\">\n",
       "  <thead>\n",
       "    <tr style=\"text-align: right;\">\n",
       "      <th></th>\n",
       "      <th>distance</th>\n",
       "      <th>cab_type</th>\n",
       "      <th>time_stamp</th>\n",
       "      <th>destination</th>\n",
       "      <th>source</th>\n",
       "      <th>price</th>\n",
       "      <th>surge_multiplier</th>\n",
       "      <th>id</th>\n",
       "      <th>product_id</th>\n",
       "      <th>name</th>\n",
       "      <th>date_time</th>\n",
       "      <th>date</th>\n",
       "      <th>time</th>\n",
       "    </tr>\n",
       "  </thead>\n",
       "  <tbody>\n",
       "    <tr>\n",
       "      <th>0</th>\n",
       "      <td>0.44</td>\n",
       "      <td>Lyft</td>\n",
       "      <td>1544952607890</td>\n",
       "      <td>North Station</td>\n",
       "      <td>Haymarket Square</td>\n",
       "      <td>5.0</td>\n",
       "      <td>1.0</td>\n",
       "      <td>424553bb-7174-41ea-aeb4-fe06d4f4b9d7</td>\n",
       "      <td>lyft_line</td>\n",
       "      <td>Shared</td>\n",
       "      <td>2018-12-16 09:30:07.890000128</td>\n",
       "      <td>2018-12-16</td>\n",
       "      <td>09:30:07.890000</td>\n",
       "    </tr>\n",
       "    <tr>\n",
       "      <th>1</th>\n",
       "      <td>0.44</td>\n",
       "      <td>Lyft</td>\n",
       "      <td>1543284023677</td>\n",
       "      <td>North Station</td>\n",
       "      <td>Haymarket Square</td>\n",
       "      <td>11.0</td>\n",
       "      <td>1.0</td>\n",
       "      <td>4bd23055-6827-41c6-b23b-3c491f24e74d</td>\n",
       "      <td>lyft_premier</td>\n",
       "      <td>Lux</td>\n",
       "      <td>2018-11-27 02:00:23.676999936</td>\n",
       "      <td>2018-11-27</td>\n",
       "      <td>02:00:23.676999</td>\n",
       "    </tr>\n",
       "    <tr>\n",
       "      <th>2</th>\n",
       "      <td>0.44</td>\n",
       "      <td>Lyft</td>\n",
       "      <td>1543366822198</td>\n",
       "      <td>North Station</td>\n",
       "      <td>Haymarket Square</td>\n",
       "      <td>7.0</td>\n",
       "      <td>1.0</td>\n",
       "      <td>981a3613-77af-4620-a42a-0c0866077d1e</td>\n",
       "      <td>lyft</td>\n",
       "      <td>Lyft</td>\n",
       "      <td>2018-11-28 01:00:22.197999872</td>\n",
       "      <td>2018-11-28</td>\n",
       "      <td>01:00:22.197999</td>\n",
       "    </tr>\n",
       "    <tr>\n",
       "      <th>3</th>\n",
       "      <td>0.44</td>\n",
       "      <td>Lyft</td>\n",
       "      <td>1543553582749</td>\n",
       "      <td>North Station</td>\n",
       "      <td>Haymarket Square</td>\n",
       "      <td>26.0</td>\n",
       "      <td>1.0</td>\n",
       "      <td>c2d88af2-d278-4bfd-a8d0-29ca77cc5512</td>\n",
       "      <td>lyft_luxsuv</td>\n",
       "      <td>Lux Black XL</td>\n",
       "      <td>2018-11-30 04:53:02.749000192</td>\n",
       "      <td>2018-11-30</td>\n",
       "      <td>04:53:02.749000</td>\n",
       "    </tr>\n",
       "    <tr>\n",
       "      <th>4</th>\n",
       "      <td>0.44</td>\n",
       "      <td>Lyft</td>\n",
       "      <td>1543463360223</td>\n",
       "      <td>North Station</td>\n",
       "      <td>Haymarket Square</td>\n",
       "      <td>9.0</td>\n",
       "      <td>1.0</td>\n",
       "      <td>e0126e1f-8ca9-4f2e-82b3-50505a09db9a</td>\n",
       "      <td>lyft_plus</td>\n",
       "      <td>Lyft XL</td>\n",
       "      <td>2018-11-29 03:49:20.223000064</td>\n",
       "      <td>2018-11-29</td>\n",
       "      <td>03:49:20.223000</td>\n",
       "    </tr>\n",
       "    <tr>\n",
       "      <th>...</th>\n",
       "      <td>...</td>\n",
       "      <td>...</td>\n",
       "      <td>...</td>\n",
       "      <td>...</td>\n",
       "      <td>...</td>\n",
       "      <td>...</td>\n",
       "      <td>...</td>\n",
       "      <td>...</td>\n",
       "      <td>...</td>\n",
       "      <td>...</td>\n",
       "      <td>...</td>\n",
       "      <td>...</td>\n",
       "      <td>...</td>\n",
       "    </tr>\n",
       "    <tr>\n",
       "      <th>693066</th>\n",
       "      <td>1.00</td>\n",
       "      <td>Uber</td>\n",
       "      <td>1543708385534</td>\n",
       "      <td>North End</td>\n",
       "      <td>West End</td>\n",
       "      <td>13.0</td>\n",
       "      <td>1.0</td>\n",
       "      <td>616d3611-1820-450a-9845-a9ff304a4842</td>\n",
       "      <td>6f72dfc5-27f1-42e8-84db-ccc7a75f6969</td>\n",
       "      <td>UberXL</td>\n",
       "      <td>2018-12-01 23:53:05.533999872</td>\n",
       "      <td>2018-12-01</td>\n",
       "      <td>23:53:05.533999</td>\n",
       "    </tr>\n",
       "    <tr>\n",
       "      <th>693067</th>\n",
       "      <td>1.00</td>\n",
       "      <td>Uber</td>\n",
       "      <td>1543708385534</td>\n",
       "      <td>North End</td>\n",
       "      <td>West End</td>\n",
       "      <td>9.5</td>\n",
       "      <td>1.0</td>\n",
       "      <td>633a3fc3-1f86-4b9e-9d48-2b7132112341</td>\n",
       "      <td>55c66225-fbe7-4fd5-9072-eab1ece5e23e</td>\n",
       "      <td>UberX</td>\n",
       "      <td>2018-12-01 23:53:05.533999872</td>\n",
       "      <td>2018-12-01</td>\n",
       "      <td>23:53:05.533999</td>\n",
       "    </tr>\n",
       "    <tr>\n",
       "      <th>693068</th>\n",
       "      <td>1.00</td>\n",
       "      <td>Uber</td>\n",
       "      <td>1543708385534</td>\n",
       "      <td>North End</td>\n",
       "      <td>West End</td>\n",
       "      <td>NaN</td>\n",
       "      <td>1.0</td>\n",
       "      <td>64d451d0-639f-47a4-9b7c-6fd92fbd264f</td>\n",
       "      <td>8cf7e821-f0d3-49c6-8eba-e679c0ebcf6a</td>\n",
       "      <td>Taxi</td>\n",
       "      <td>2018-12-01 23:53:05.533999872</td>\n",
       "      <td>2018-12-01</td>\n",
       "      <td>23:53:05.533999</td>\n",
       "    </tr>\n",
       "    <tr>\n",
       "      <th>693069</th>\n",
       "      <td>1.00</td>\n",
       "      <td>Uber</td>\n",
       "      <td>1543708385534</td>\n",
       "      <td>North End</td>\n",
       "      <td>West End</td>\n",
       "      <td>27.0</td>\n",
       "      <td>1.0</td>\n",
       "      <td>727e5f07-a96b-4ad1-a2c7-9abc3ad55b4e</td>\n",
       "      <td>6d318bcc-22a3-4af6-bddd-b409bfce1546</td>\n",
       "      <td>Black SUV</td>\n",
       "      <td>2018-12-01 23:53:05.533999872</td>\n",
       "      <td>2018-12-01</td>\n",
       "      <td>23:53:05.533999</td>\n",
       "    </tr>\n",
       "    <tr>\n",
       "      <th>693070</th>\n",
       "      <td>1.00</td>\n",
       "      <td>Uber</td>\n",
       "      <td>1543708385534</td>\n",
       "      <td>North End</td>\n",
       "      <td>West End</td>\n",
       "      <td>10.0</td>\n",
       "      <td>1.0</td>\n",
       "      <td>e7fdc087-fe86-40a5-a3c3-3b2a8badcbda</td>\n",
       "      <td>997acbb5-e102-41e1-b155-9df7de0a73f2</td>\n",
       "      <td>UberPool</td>\n",
       "      <td>2018-12-01 23:53:05.533999872</td>\n",
       "      <td>2018-12-01</td>\n",
       "      <td>23:53:05.533999</td>\n",
       "    </tr>\n",
       "  </tbody>\n",
       "</table>\n",
       "<p>693071 rows × 13 columns</p>\n",
       "</div>"
      ],
      "text/plain": [
       "        distance cab_type     time_stamp    destination            source  \\\n",
       "0           0.44     Lyft  1544952607890  North Station  Haymarket Square   \n",
       "1           0.44     Lyft  1543284023677  North Station  Haymarket Square   \n",
       "2           0.44     Lyft  1543366822198  North Station  Haymarket Square   \n",
       "3           0.44     Lyft  1543553582749  North Station  Haymarket Square   \n",
       "4           0.44     Lyft  1543463360223  North Station  Haymarket Square   \n",
       "...          ...      ...            ...            ...               ...   \n",
       "693066      1.00     Uber  1543708385534      North End          West End   \n",
       "693067      1.00     Uber  1543708385534      North End          West End   \n",
       "693068      1.00     Uber  1543708385534      North End          West End   \n",
       "693069      1.00     Uber  1543708385534      North End          West End   \n",
       "693070      1.00     Uber  1543708385534      North End          West End   \n",
       "\n",
       "        price  surge_multiplier                                    id  \\\n",
       "0         5.0               1.0  424553bb-7174-41ea-aeb4-fe06d4f4b9d7   \n",
       "1        11.0               1.0  4bd23055-6827-41c6-b23b-3c491f24e74d   \n",
       "2         7.0               1.0  981a3613-77af-4620-a42a-0c0866077d1e   \n",
       "3        26.0               1.0  c2d88af2-d278-4bfd-a8d0-29ca77cc5512   \n",
       "4         9.0               1.0  e0126e1f-8ca9-4f2e-82b3-50505a09db9a   \n",
       "...       ...               ...                                   ...   \n",
       "693066   13.0               1.0  616d3611-1820-450a-9845-a9ff304a4842   \n",
       "693067    9.5               1.0  633a3fc3-1f86-4b9e-9d48-2b7132112341   \n",
       "693068    NaN               1.0  64d451d0-639f-47a4-9b7c-6fd92fbd264f   \n",
       "693069   27.0               1.0  727e5f07-a96b-4ad1-a2c7-9abc3ad55b4e   \n",
       "693070   10.0               1.0  e7fdc087-fe86-40a5-a3c3-3b2a8badcbda   \n",
       "\n",
       "                                  product_id          name  \\\n",
       "0                                  lyft_line        Shared   \n",
       "1                               lyft_premier           Lux   \n",
       "2                                       lyft          Lyft   \n",
       "3                                lyft_luxsuv  Lux Black XL   \n",
       "4                                  lyft_plus       Lyft XL   \n",
       "...                                      ...           ...   \n",
       "693066  6f72dfc5-27f1-42e8-84db-ccc7a75f6969        UberXL   \n",
       "693067  55c66225-fbe7-4fd5-9072-eab1ece5e23e         UberX   \n",
       "693068  8cf7e821-f0d3-49c6-8eba-e679c0ebcf6a          Taxi   \n",
       "693069  6d318bcc-22a3-4af6-bddd-b409bfce1546     Black SUV   \n",
       "693070  997acbb5-e102-41e1-b155-9df7de0a73f2      UberPool   \n",
       "\n",
       "                           date_time        date             time  \n",
       "0      2018-12-16 09:30:07.890000128  2018-12-16  09:30:07.890000  \n",
       "1      2018-11-27 02:00:23.676999936  2018-11-27  02:00:23.676999  \n",
       "2      2018-11-28 01:00:22.197999872  2018-11-28  01:00:22.197999  \n",
       "3      2018-11-30 04:53:02.749000192  2018-11-30  04:53:02.749000  \n",
       "4      2018-11-29 03:49:20.223000064  2018-11-29  03:49:20.223000  \n",
       "...                              ...         ...              ...  \n",
       "693066 2018-12-01 23:53:05.533999872  2018-12-01  23:53:05.533999  \n",
       "693067 2018-12-01 23:53:05.533999872  2018-12-01  23:53:05.533999  \n",
       "693068 2018-12-01 23:53:05.533999872  2018-12-01  23:53:05.533999  \n",
       "693069 2018-12-01 23:53:05.533999872  2018-12-01  23:53:05.533999  \n",
       "693070 2018-12-01 23:53:05.533999872  2018-12-01  23:53:05.533999  \n",
       "\n",
       "[693071 rows x 13 columns]"
      ]
     },
     "execution_count": 45,
     "metadata": {},
     "output_type": "execute_result"
    }
   ],
   "source": [
    "df['date']=pd.to_datetime(df['date_time']).dt.date\n",
    "df['time']=pd.to_datetime(df['date_time']).dt.time\n",
    "df"
   ]
  },
  {
   "cell_type": "markdown",
   "id": "7ce07732",
   "metadata": {},
   "source": [
    "# "
   ]
  }
 ],
 "metadata": {
  "kernelspec": {
   "display_name": "Python 3 (ipykernel)",
   "language": "python",
   "name": "python3"
  },
  "language_info": {
   "codemirror_mode": {
    "name": "ipython",
    "version": 3
   },
   "file_extension": ".py",
   "mimetype": "text/x-python",
   "name": "python",
   "nbconvert_exporter": "python",
   "pygments_lexer": "ipython3",
   "version": "3.9.13"
  }
 },
 "nbformat": 4,
 "nbformat_minor": 5
}
